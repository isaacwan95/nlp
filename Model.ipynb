{
 "cells": [
  {
   "cell_type": "code",
   "execution_count": 13,
   "metadata": {},
   "outputs": [],
   "source": [
    "import numpy as np\n",
    "import pandas as pd\n",
    "from os import path\n",
    "from PIL import Image\n",
    "from wordcloud import WordCloud, STOPWORDS, ImageColorGenerator\n",
    "from nltk import FreqDist\n",
    "import matplotlib.pyplot as plt\n",
    "from sklearn.base import BaseEstimator, TransformerMixin\n",
    "from sklearn.feature_extraction import DictVectorizer\n",
    "from sklearn.feature_extraction.text import CountVectorizer\n",
    "from sklearn.feature_extraction.text import TfidfVectorizer\n",
    "from sklearn.metrics import confusion_matrix, precision_score, precision_recall_curve, recall_score, f1_score\n",
    "from sklearn.naive_bayes import MultinomialNB\n",
    "from sklearn.linear_model import LogisticRegression\n",
    "from sklearn.ensemble import RandomForestClassifier\n",
    "from sklearn.model_selection import train_test_split\n",
    "from sklearn.svm import LinearSVC"
   ]
  },
  {
   "cell_type": "code",
   "execution_count": 2,
   "metadata": {},
   "outputs": [],
   "source": [
    "nlp = pd.read_csv('nlp.csv')"
   ]
  },
  {
   "cell_type": "code",
   "execution_count": 3,
   "metadata": {},
   "outputs": [
    {
     "data": {
      "text/html": [
       "<div>\n",
       "<style scoped>\n",
       "    .dataframe tbody tr th:only-of-type {\n",
       "        vertical-align: middle;\n",
       "    }\n",
       "\n",
       "    .dataframe tbody tr th {\n",
       "        vertical-align: top;\n",
       "    }\n",
       "\n",
       "    .dataframe thead th {\n",
       "        text-align: right;\n",
       "    }\n",
       "</style>\n",
       "<table border=\"1\" class=\"dataframe\">\n",
       "  <thead>\n",
       "    <tr style=\"text-align: right;\">\n",
       "      <th></th>\n",
       "      <th>Unnamed: 0</th>\n",
       "      <th>overall</th>\n",
       "      <th>verified</th>\n",
       "      <th>reviewTime</th>\n",
       "      <th>reviewerID</th>\n",
       "      <th>asin</th>\n",
       "      <th>reviewerName</th>\n",
       "      <th>reviewText</th>\n",
       "      <th>summary</th>\n",
       "      <th>unixReviewTime</th>\n",
       "      <th>...</th>\n",
       "      <th>main_cat</th>\n",
       "      <th>also_buy</th>\n",
       "      <th>also_view</th>\n",
       "      <th>similar_item</th>\n",
       "      <th>price</th>\n",
       "      <th>date</th>\n",
       "      <th>details</th>\n",
       "      <th>tech1</th>\n",
       "      <th>tech2</th>\n",
       "      <th>fit</th>\n",
       "    </tr>\n",
       "  </thead>\n",
       "  <tbody>\n",
       "    <tr>\n",
       "      <th>0</th>\n",
       "      <td>0</td>\n",
       "      <td>2.0</td>\n",
       "      <td>False</td>\n",
       "      <td>11 24, 2007</td>\n",
       "      <td>A1TOKUIUSJ77DU</td>\n",
       "      <td>B000PH9NNS</td>\n",
       "      <td>Gideon I. Gartner</td>\n",
       "      <td>For former users of touch screens, this machin...</td>\n",
       "      <td>Tough Going</td>\n",
       "      <td>1195862400</td>\n",
       "      <td>...</td>\n",
       "      <td>Cell Phones &amp; Accessories</td>\n",
       "      <td>NaN</td>\n",
       "      <td>['B075FL4H89', 'B000PEOLAG', 'B00851Q9L0', 'B0...</td>\n",
       "      <td>[{'asin': '', 'href': '', 'name': 'Nokia E90 C...</td>\n",
       "      <td>404.47</td>\n",
       "      <td>NaN</td>\n",
       "      <td>NaN</td>\n",
       "      <td>NaN</td>\n",
       "      <td>NaN</td>\n",
       "      <td>NaN</td>\n",
       "    </tr>\n",
       "    <tr>\n",
       "      <th>1</th>\n",
       "      <td>1</td>\n",
       "      <td>4.0</td>\n",
       "      <td>False</td>\n",
       "      <td>11 21, 2007</td>\n",
       "      <td>A2SK1UQ9HI9ZYS</td>\n",
       "      <td>B000PH9NNS</td>\n",
       "      <td>Ernesto D. Jimenez Perez</td>\n",
       "      <td>The product is fantastic but the software that...</td>\n",
       "      <td>Excellent phone Software in Beta phase</td>\n",
       "      <td>1195603200</td>\n",
       "      <td>...</td>\n",
       "      <td>Cell Phones &amp; Accessories</td>\n",
       "      <td>NaN</td>\n",
       "      <td>['B075FL4H89', 'B000PEOLAG', 'B00851Q9L0', 'B0...</td>\n",
       "      <td>[{'asin': '', 'href': '', 'name': 'Nokia E90 C...</td>\n",
       "      <td>404.47</td>\n",
       "      <td>NaN</td>\n",
       "      <td>NaN</td>\n",
       "      <td>NaN</td>\n",
       "      <td>NaN</td>\n",
       "      <td>NaN</td>\n",
       "    </tr>\n",
       "    <tr>\n",
       "      <th>2</th>\n",
       "      <td>2</td>\n",
       "      <td>5.0</td>\n",
       "      <td>True</td>\n",
       "      <td>11 19, 2007</td>\n",
       "      <td>A1DQVXBQATAK2R</td>\n",
       "      <td>B000PH9NNS</td>\n",
       "      <td>Aldo Bender</td>\n",
       "      <td>I bought this phone to replace my Nokia 9300 a...</td>\n",
       "      <td>A real smartphone</td>\n",
       "      <td>1195430400</td>\n",
       "      <td>...</td>\n",
       "      <td>Cell Phones &amp; Accessories</td>\n",
       "      <td>NaN</td>\n",
       "      <td>['B075FL4H89', 'B000PEOLAG', 'B00851Q9L0', 'B0...</td>\n",
       "      <td>[{'asin': '', 'href': '', 'name': 'Nokia E90 C...</td>\n",
       "      <td>404.47</td>\n",
       "      <td>NaN</td>\n",
       "      <td>NaN</td>\n",
       "      <td>NaN</td>\n",
       "      <td>NaN</td>\n",
       "      <td>NaN</td>\n",
       "    </tr>\n",
       "    <tr>\n",
       "      <th>3</th>\n",
       "      <td>3</td>\n",
       "      <td>5.0</td>\n",
       "      <td>False</td>\n",
       "      <td>09 25, 2007</td>\n",
       "      <td>A1PTDL2WFBL6GV</td>\n",
       "      <td>B000PH9NNS</td>\n",
       "      <td>ZANE Farooq</td>\n",
       "      <td>I've used Nokia phones all my life, except wel...</td>\n",
       "      <td>Nokia...Wow</td>\n",
       "      <td>1190678400</td>\n",
       "      <td>...</td>\n",
       "      <td>Cell Phones &amp; Accessories</td>\n",
       "      <td>NaN</td>\n",
       "      <td>['B075FL4H89', 'B000PEOLAG', 'B00851Q9L0', 'B0...</td>\n",
       "      <td>[{'asin': '', 'href': '', 'name': 'Nokia E90 C...</td>\n",
       "      <td>404.47</td>\n",
       "      <td>NaN</td>\n",
       "      <td>NaN</td>\n",
       "      <td>NaN</td>\n",
       "      <td>NaN</td>\n",
       "      <td>NaN</td>\n",
       "    </tr>\n",
       "    <tr>\n",
       "      <th>4</th>\n",
       "      <td>4</td>\n",
       "      <td>4.0</td>\n",
       "      <td>False</td>\n",
       "      <td>08 21, 2007</td>\n",
       "      <td>A3QP1VWPQS9S9D</td>\n",
       "      <td>B000PH9NNS</td>\n",
       "      <td>Paolo M. Reyes</td>\n",
       "      <td>The Nokia E90 Communicator is a mobile office ...</td>\n",
       "      <td>E90, Eager to transform the way people experie...</td>\n",
       "      <td>1187654400</td>\n",
       "      <td>...</td>\n",
       "      <td>Cell Phones &amp; Accessories</td>\n",
       "      <td>NaN</td>\n",
       "      <td>['B075FL4H89', 'B000PEOLAG', 'B00851Q9L0', 'B0...</td>\n",
       "      <td>[{'asin': '', 'href': '', 'name': 'Nokia E90 C...</td>\n",
       "      <td>404.47</td>\n",
       "      <td>NaN</td>\n",
       "      <td>NaN</td>\n",
       "      <td>NaN</td>\n",
       "      <td>NaN</td>\n",
       "      <td>NaN</td>\n",
       "    </tr>\n",
       "    <tr>\n",
       "      <th>...</th>\n",
       "      <td>...</td>\n",
       "      <td>...</td>\n",
       "      <td>...</td>\n",
       "      <td>...</td>\n",
       "      <td>...</td>\n",
       "      <td>...</td>\n",
       "      <td>...</td>\n",
       "      <td>...</td>\n",
       "      <td>...</td>\n",
       "      <td>...</td>\n",
       "      <td>...</td>\n",
       "      <td>...</td>\n",
       "      <td>...</td>\n",
       "      <td>...</td>\n",
       "      <td>...</td>\n",
       "      <td>...</td>\n",
       "      <td>...</td>\n",
       "      <td>...</td>\n",
       "      <td>...</td>\n",
       "      <td>...</td>\n",
       "      <td>...</td>\n",
       "    </tr>\n",
       "    <tr>\n",
       "      <th>10058</th>\n",
       "      <td>10058</td>\n",
       "      <td>1.0</td>\n",
       "      <td>True</td>\n",
       "      <td>08 22, 2016</td>\n",
       "      <td>A3IESEK173F6ZZ</td>\n",
       "      <td>B01E6O625W</td>\n",
       "      <td>Kathleen Mulkey</td>\n",
       "      <td>They are horrible, don't receive or make calls...</td>\n",
       "      <td>S4 sucks</td>\n",
       "      <td>1471824000</td>\n",
       "      <td>...</td>\n",
       "      <td>Cell Phones &amp; Accessories</td>\n",
       "      <td>NaN</td>\n",
       "      <td>NaN</td>\n",
       "      <td>NaN</td>\n",
       "      <td>399.99</td>\n",
       "      <td>NaN</td>\n",
       "      <td>NaN</td>\n",
       "      <td>NaN</td>\n",
       "      <td>NaN</td>\n",
       "      <td>NaN</td>\n",
       "    </tr>\n",
       "    <tr>\n",
       "      <th>10059</th>\n",
       "      <td>10059</td>\n",
       "      <td>5.0</td>\n",
       "      <td>True</td>\n",
       "      <td>08 12, 2016</td>\n",
       "      <td>A1JCA9NI8WSAEL</td>\n",
       "      <td>B01E6O625W</td>\n",
       "      <td>dasun kloss</td>\n",
       "      <td>Awesome phone!! Works great! Delivered early!!...</td>\n",
       "      <td>Five Stars</td>\n",
       "      <td>1470960000</td>\n",
       "      <td>...</td>\n",
       "      <td>Cell Phones &amp; Accessories</td>\n",
       "      <td>NaN</td>\n",
       "      <td>NaN</td>\n",
       "      <td>NaN</td>\n",
       "      <td>399.99</td>\n",
       "      <td>NaN</td>\n",
       "      <td>NaN</td>\n",
       "      <td>NaN</td>\n",
       "      <td>NaN</td>\n",
       "      <td>NaN</td>\n",
       "    </tr>\n",
       "    <tr>\n",
       "      <th>10060</th>\n",
       "      <td>10060</td>\n",
       "      <td>5.0</td>\n",
       "      <td>True</td>\n",
       "      <td>08 4, 2016</td>\n",
       "      <td>A3MYU5E9XUQJSO</td>\n",
       "      <td>B01E6O625W</td>\n",
       "      <td>Gail Roe</td>\n",
       "      <td>the phone work great got it before it was supp...</td>\n",
       "      <td>Five Stars</td>\n",
       "      <td>1470268800</td>\n",
       "      <td>...</td>\n",
       "      <td>Cell Phones &amp; Accessories</td>\n",
       "      <td>NaN</td>\n",
       "      <td>NaN</td>\n",
       "      <td>NaN</td>\n",
       "      <td>399.99</td>\n",
       "      <td>NaN</td>\n",
       "      <td>NaN</td>\n",
       "      <td>NaN</td>\n",
       "      <td>NaN</td>\n",
       "      <td>NaN</td>\n",
       "    </tr>\n",
       "    <tr>\n",
       "      <th>10061</th>\n",
       "      <td>10061</td>\n",
       "      <td>5.0</td>\n",
       "      <td>True</td>\n",
       "      <td>07 19, 2016</td>\n",
       "      <td>ANWZUOXV9MDGS</td>\n",
       "      <td>B01E6O625W</td>\n",
       "      <td>Kenneth Darnell</td>\n",
       "      <td>Great phone and a good deal</td>\n",
       "      <td>Five Stars</td>\n",
       "      <td>1468886400</td>\n",
       "      <td>...</td>\n",
       "      <td>Cell Phones &amp; Accessories</td>\n",
       "      <td>NaN</td>\n",
       "      <td>NaN</td>\n",
       "      <td>NaN</td>\n",
       "      <td>399.99</td>\n",
       "      <td>NaN</td>\n",
       "      <td>NaN</td>\n",
       "      <td>NaN</td>\n",
       "      <td>NaN</td>\n",
       "      <td>NaN</td>\n",
       "    </tr>\n",
       "    <tr>\n",
       "      <th>10062</th>\n",
       "      <td>10062</td>\n",
       "      <td>4.0</td>\n",
       "      <td>True</td>\n",
       "      <td>06 20, 2016</td>\n",
       "      <td>A1KOIA2E292B40</td>\n",
       "      <td>B01E6O625W</td>\n",
       "      <td>Amazon Customer</td>\n",
       "      <td>The phone was good when delivered.</td>\n",
       "      <td>Four Stars</td>\n",
       "      <td>1466380800</td>\n",
       "      <td>...</td>\n",
       "      <td>Cell Phones &amp; Accessories</td>\n",
       "      <td>NaN</td>\n",
       "      <td>NaN</td>\n",
       "      <td>NaN</td>\n",
       "      <td>399.99</td>\n",
       "      <td>NaN</td>\n",
       "      <td>NaN</td>\n",
       "      <td>NaN</td>\n",
       "      <td>NaN</td>\n",
       "      <td>NaN</td>\n",
       "    </tr>\n",
       "  </tbody>\n",
       "</table>\n",
       "<p>10063 rows × 31 columns</p>\n",
       "</div>"
      ],
      "text/plain": [
       "       Unnamed: 0  overall  verified   reviewTime      reviewerID        asin  \\\n",
       "0               0      2.0     False  11 24, 2007  A1TOKUIUSJ77DU  B000PH9NNS   \n",
       "1               1      4.0     False  11 21, 2007  A2SK1UQ9HI9ZYS  B000PH9NNS   \n",
       "2               2      5.0      True  11 19, 2007  A1DQVXBQATAK2R  B000PH9NNS   \n",
       "3               3      5.0     False  09 25, 2007  A1PTDL2WFBL6GV  B000PH9NNS   \n",
       "4               4      4.0     False  08 21, 2007  A3QP1VWPQS9S9D  B000PH9NNS   \n",
       "...           ...      ...       ...          ...             ...         ...   \n",
       "10058       10058      1.0      True  08 22, 2016  A3IESEK173F6ZZ  B01E6O625W   \n",
       "10059       10059      5.0      True  08 12, 2016  A1JCA9NI8WSAEL  B01E6O625W   \n",
       "10060       10060      5.0      True   08 4, 2016  A3MYU5E9XUQJSO  B01E6O625W   \n",
       "10061       10061      5.0      True  07 19, 2016   ANWZUOXV9MDGS  B01E6O625W   \n",
       "10062       10062      4.0      True  06 20, 2016  A1KOIA2E292B40  B01E6O625W   \n",
       "\n",
       "                   reviewerName  \\\n",
       "0             Gideon I. Gartner   \n",
       "1      Ernesto D. Jimenez Perez   \n",
       "2                   Aldo Bender   \n",
       "3                   ZANE Farooq   \n",
       "4                Paolo M. Reyes   \n",
       "...                         ...   \n",
       "10058           Kathleen Mulkey   \n",
       "10059               dasun kloss   \n",
       "10060                  Gail Roe   \n",
       "10061           Kenneth Darnell   \n",
       "10062           Amazon Customer   \n",
       "\n",
       "                                              reviewText  \\\n",
       "0      For former users of touch screens, this machin...   \n",
       "1      The product is fantastic but the software that...   \n",
       "2      I bought this phone to replace my Nokia 9300 a...   \n",
       "3      I've used Nokia phones all my life, except wel...   \n",
       "4      The Nokia E90 Communicator is a mobile office ...   \n",
       "...                                                  ...   \n",
       "10058  They are horrible, don't receive or make calls...   \n",
       "10059  Awesome phone!! Works great! Delivered early!!...   \n",
       "10060  the phone work great got it before it was supp...   \n",
       "10061                        Great phone and a good deal   \n",
       "10062                 The phone was good when delivered.   \n",
       "\n",
       "                                                 summary  unixReviewTime  ...  \\\n",
       "0                                            Tough Going      1195862400  ...   \n",
       "1                 Excellent phone Software in Beta phase      1195603200  ...   \n",
       "2                                      A real smartphone      1195430400  ...   \n",
       "3                                            Nokia...Wow      1190678400  ...   \n",
       "4      E90, Eager to transform the way people experie...      1187654400  ...   \n",
       "...                                                  ...             ...  ...   \n",
       "10058                                           S4 sucks      1471824000  ...   \n",
       "10059                                         Five Stars      1470960000  ...   \n",
       "10060                                         Five Stars      1470268800  ...   \n",
       "10061                                         Five Stars      1468886400  ...   \n",
       "10062                                         Four Stars      1466380800  ...   \n",
       "\n",
       "                        main_cat also_buy  \\\n",
       "0      Cell Phones & Accessories      NaN   \n",
       "1      Cell Phones & Accessories      NaN   \n",
       "2      Cell Phones & Accessories      NaN   \n",
       "3      Cell Phones & Accessories      NaN   \n",
       "4      Cell Phones & Accessories      NaN   \n",
       "...                          ...      ...   \n",
       "10058  Cell Phones & Accessories      NaN   \n",
       "10059  Cell Phones & Accessories      NaN   \n",
       "10060  Cell Phones & Accessories      NaN   \n",
       "10061  Cell Phones & Accessories      NaN   \n",
       "10062  Cell Phones & Accessories      NaN   \n",
       "\n",
       "                                               also_view  \\\n",
       "0      ['B075FL4H89', 'B000PEOLAG', 'B00851Q9L0', 'B0...   \n",
       "1      ['B075FL4H89', 'B000PEOLAG', 'B00851Q9L0', 'B0...   \n",
       "2      ['B075FL4H89', 'B000PEOLAG', 'B00851Q9L0', 'B0...   \n",
       "3      ['B075FL4H89', 'B000PEOLAG', 'B00851Q9L0', 'B0...   \n",
       "4      ['B075FL4H89', 'B000PEOLAG', 'B00851Q9L0', 'B0...   \n",
       "...                                                  ...   \n",
       "10058                                                NaN   \n",
       "10059                                                NaN   \n",
       "10060                                                NaN   \n",
       "10061                                                NaN   \n",
       "10062                                                NaN   \n",
       "\n",
       "                                            similar_item   price date details  \\\n",
       "0      [{'asin': '', 'href': '', 'name': 'Nokia E90 C...  404.47  NaN     NaN   \n",
       "1      [{'asin': '', 'href': '', 'name': 'Nokia E90 C...  404.47  NaN     NaN   \n",
       "2      [{'asin': '', 'href': '', 'name': 'Nokia E90 C...  404.47  NaN     NaN   \n",
       "3      [{'asin': '', 'href': '', 'name': 'Nokia E90 C...  404.47  NaN     NaN   \n",
       "4      [{'asin': '', 'href': '', 'name': 'Nokia E90 C...  404.47  NaN     NaN   \n",
       "...                                                  ...     ...  ...     ...   \n",
       "10058                                                NaN  399.99  NaN     NaN   \n",
       "10059                                                NaN  399.99  NaN     NaN   \n",
       "10060                                                NaN  399.99  NaN     NaN   \n",
       "10061                                                NaN  399.99  NaN     NaN   \n",
       "10062                                                NaN  399.99  NaN     NaN   \n",
       "\n",
       "      tech1 tech2 fit  \n",
       "0       NaN   NaN NaN  \n",
       "1       NaN   NaN NaN  \n",
       "2       NaN   NaN NaN  \n",
       "3       NaN   NaN NaN  \n",
       "4       NaN   NaN NaN  \n",
       "...     ...   ...  ..  \n",
       "10058   NaN   NaN NaN  \n",
       "10059   NaN   NaN NaN  \n",
       "10060   NaN   NaN NaN  \n",
       "10061   NaN   NaN NaN  \n",
       "10062   NaN   NaN NaN  \n",
       "\n",
       "[10063 rows x 31 columns]"
      ]
     },
     "execution_count": 3,
     "metadata": {},
     "output_type": "execute_result"
    }
   ],
   "source": [
    "nlp"
   ]
  },
  {
   "cell_type": "code",
   "execution_count": 10,
   "metadata": {},
   "outputs": [],
   "source": [
    "## create target label\n",
    "nlp['target'] = np.where(nlp.overall >3, 1,\n",
    "                       np.where(nlp.overall <3.0, 0,\n",
    "                       'unkown'))"
   ]
  },
  {
   "cell_type": "code",
   "execution_count": 11,
   "metadata": {},
   "outputs": [
    {
     "data": {
      "text/html": [
       "<div>\n",
       "<style scoped>\n",
       "    .dataframe tbody tr th:only-of-type {\n",
       "        vertical-align: middle;\n",
       "    }\n",
       "\n",
       "    .dataframe tbody tr th {\n",
       "        vertical-align: top;\n",
       "    }\n",
       "\n",
       "    .dataframe thead th {\n",
       "        text-align: right;\n",
       "    }\n",
       "</style>\n",
       "<table border=\"1\" class=\"dataframe\">\n",
       "  <thead>\n",
       "    <tr style=\"text-align: right;\">\n",
       "      <th></th>\n",
       "      <th>Unnamed: 0</th>\n",
       "      <th>overall</th>\n",
       "      <th>verified</th>\n",
       "      <th>reviewTime</th>\n",
       "      <th>reviewerID</th>\n",
       "      <th>asin</th>\n",
       "      <th>reviewerName</th>\n",
       "      <th>reviewText</th>\n",
       "      <th>summary</th>\n",
       "      <th>unixReviewTime</th>\n",
       "      <th>...</th>\n",
       "      <th>also_view</th>\n",
       "      <th>similar_item</th>\n",
       "      <th>price</th>\n",
       "      <th>date</th>\n",
       "      <th>details</th>\n",
       "      <th>tech1</th>\n",
       "      <th>tech2</th>\n",
       "      <th>fit</th>\n",
       "      <th>clean_up_review</th>\n",
       "      <th>target</th>\n",
       "    </tr>\n",
       "  </thead>\n",
       "  <tbody>\n",
       "    <tr>\n",
       "      <th>0</th>\n",
       "      <td>0</td>\n",
       "      <td>2.0</td>\n",
       "      <td>False</td>\n",
       "      <td>11 24, 2007</td>\n",
       "      <td>A1TOKUIUSJ77DU</td>\n",
       "      <td>B000PH9NNS</td>\n",
       "      <td>Gideon I. Gartner</td>\n",
       "      <td>for former users of touch screens, this machin...</td>\n",
       "      <td>Tough Going</td>\n",
       "      <td>1195862400</td>\n",
       "      <td>...</td>\n",
       "      <td>['B075FL4H89', 'B000PEOLAG', 'B00851Q9L0', 'B0...</td>\n",
       "      <td>[{'asin': '', 'href': '', 'name': 'Nokia E90 C...</td>\n",
       "      <td>404.47</td>\n",
       "      <td>NaN</td>\n",
       "      <td>NaN</td>\n",
       "      <td>NaN</td>\n",
       "      <td>NaN</td>\n",
       "      <td>NaN</td>\n",
       "      <td>for former users of touch screens this machine...</td>\n",
       "      <td>0</td>\n",
       "    </tr>\n",
       "    <tr>\n",
       "      <th>1</th>\n",
       "      <td>1</td>\n",
       "      <td>4.0</td>\n",
       "      <td>False</td>\n",
       "      <td>11 21, 2007</td>\n",
       "      <td>A2SK1UQ9HI9ZYS</td>\n",
       "      <td>B000PH9NNS</td>\n",
       "      <td>Ernesto D. Jimenez Perez</td>\n",
       "      <td>the product is fantastic but the software that...</td>\n",
       "      <td>Excellent phone Software in Beta phase</td>\n",
       "      <td>1195603200</td>\n",
       "      <td>...</td>\n",
       "      <td>['B075FL4H89', 'B000PEOLAG', 'B00851Q9L0', 'B0...</td>\n",
       "      <td>[{'asin': '', 'href': '', 'name': 'Nokia E90 C...</td>\n",
       "      <td>404.47</td>\n",
       "      <td>NaN</td>\n",
       "      <td>NaN</td>\n",
       "      <td>NaN</td>\n",
       "      <td>NaN</td>\n",
       "      <td>NaN</td>\n",
       "      <td>the product is fantastic but the software that...</td>\n",
       "      <td>1</td>\n",
       "    </tr>\n",
       "    <tr>\n",
       "      <th>2</th>\n",
       "      <td>2</td>\n",
       "      <td>5.0</td>\n",
       "      <td>True</td>\n",
       "      <td>11 19, 2007</td>\n",
       "      <td>A1DQVXBQATAK2R</td>\n",
       "      <td>B000PH9NNS</td>\n",
       "      <td>Aldo Bender</td>\n",
       "      <td>i bought this phone to replace my nokia 9300 a...</td>\n",
       "      <td>A real smartphone</td>\n",
       "      <td>1195430400</td>\n",
       "      <td>...</td>\n",
       "      <td>['B075FL4H89', 'B000PEOLAG', 'B00851Q9L0', 'B0...</td>\n",
       "      <td>[{'asin': '', 'href': '', 'name': 'Nokia E90 C...</td>\n",
       "      <td>404.47</td>\n",
       "      <td>NaN</td>\n",
       "      <td>NaN</td>\n",
       "      <td>NaN</td>\n",
       "      <td>NaN</td>\n",
       "      <td>NaN</td>\n",
       "      <td>i bought this phone to replace my nokia 9300 a...</td>\n",
       "      <td>1</td>\n",
       "    </tr>\n",
       "    <tr>\n",
       "      <th>3</th>\n",
       "      <td>3</td>\n",
       "      <td>5.0</td>\n",
       "      <td>False</td>\n",
       "      <td>09 25, 2007</td>\n",
       "      <td>A1PTDL2WFBL6GV</td>\n",
       "      <td>B000PH9NNS</td>\n",
       "      <td>ZANE Farooq</td>\n",
       "      <td>i've used nokia phones all my life, except wel...</td>\n",
       "      <td>Nokia...Wow</td>\n",
       "      <td>1190678400</td>\n",
       "      <td>...</td>\n",
       "      <td>['B075FL4H89', 'B000PEOLAG', 'B00851Q9L0', 'B0...</td>\n",
       "      <td>[{'asin': '', 'href': '', 'name': 'Nokia E90 C...</td>\n",
       "      <td>404.47</td>\n",
       "      <td>NaN</td>\n",
       "      <td>NaN</td>\n",
       "      <td>NaN</td>\n",
       "      <td>NaN</td>\n",
       "      <td>NaN</td>\n",
       "      <td>i've used nokia phones all my life except well...</td>\n",
       "      <td>1</td>\n",
       "    </tr>\n",
       "    <tr>\n",
       "      <th>4</th>\n",
       "      <td>4</td>\n",
       "      <td>4.0</td>\n",
       "      <td>False</td>\n",
       "      <td>08 21, 2007</td>\n",
       "      <td>A3QP1VWPQS9S9D</td>\n",
       "      <td>B000PH9NNS</td>\n",
       "      <td>Paolo M. Reyes</td>\n",
       "      <td>the nokia e90 communicator is a mobile office ...</td>\n",
       "      <td>E90, Eager to transform the way people experie...</td>\n",
       "      <td>1187654400</td>\n",
       "      <td>...</td>\n",
       "      <td>['B075FL4H89', 'B000PEOLAG', 'B00851Q9L0', 'B0...</td>\n",
       "      <td>[{'asin': '', 'href': '', 'name': 'Nokia E90 C...</td>\n",
       "      <td>404.47</td>\n",
       "      <td>NaN</td>\n",
       "      <td>NaN</td>\n",
       "      <td>NaN</td>\n",
       "      <td>NaN</td>\n",
       "      <td>NaN</td>\n",
       "      <td>the nokia e90 communicator is a mobile office ...</td>\n",
       "      <td>1</td>\n",
       "    </tr>\n",
       "  </tbody>\n",
       "</table>\n",
       "<p>5 rows × 33 columns</p>\n",
       "</div>"
      ],
      "text/plain": [
       "   Unnamed: 0  overall  verified   reviewTime      reviewerID        asin  \\\n",
       "0           0      2.0     False  11 24, 2007  A1TOKUIUSJ77DU  B000PH9NNS   \n",
       "1           1      4.0     False  11 21, 2007  A2SK1UQ9HI9ZYS  B000PH9NNS   \n",
       "2           2      5.0      True  11 19, 2007  A1DQVXBQATAK2R  B000PH9NNS   \n",
       "3           3      5.0     False  09 25, 2007  A1PTDL2WFBL6GV  B000PH9NNS   \n",
       "4           4      4.0     False  08 21, 2007  A3QP1VWPQS9S9D  B000PH9NNS   \n",
       "\n",
       "               reviewerName  \\\n",
       "0         Gideon I. Gartner   \n",
       "1  Ernesto D. Jimenez Perez   \n",
       "2               Aldo Bender   \n",
       "3               ZANE Farooq   \n",
       "4            Paolo M. Reyes   \n",
       "\n",
       "                                          reviewText  \\\n",
       "0  for former users of touch screens, this machin...   \n",
       "1  the product is fantastic but the software that...   \n",
       "2  i bought this phone to replace my nokia 9300 a...   \n",
       "3  i've used nokia phones all my life, except wel...   \n",
       "4  the nokia e90 communicator is a mobile office ...   \n",
       "\n",
       "                                             summary  unixReviewTime  ...  \\\n",
       "0                                        Tough Going      1195862400  ...   \n",
       "1             Excellent phone Software in Beta phase      1195603200  ...   \n",
       "2                                  A real smartphone      1195430400  ...   \n",
       "3                                        Nokia...Wow      1190678400  ...   \n",
       "4  E90, Eager to transform the way people experie...      1187654400  ...   \n",
       "\n",
       "                                           also_view  \\\n",
       "0  ['B075FL4H89', 'B000PEOLAG', 'B00851Q9L0', 'B0...   \n",
       "1  ['B075FL4H89', 'B000PEOLAG', 'B00851Q9L0', 'B0...   \n",
       "2  ['B075FL4H89', 'B000PEOLAG', 'B00851Q9L0', 'B0...   \n",
       "3  ['B075FL4H89', 'B000PEOLAG', 'B00851Q9L0', 'B0...   \n",
       "4  ['B075FL4H89', 'B000PEOLAG', 'B00851Q9L0', 'B0...   \n",
       "\n",
       "                                        similar_item   price  date details  \\\n",
       "0  [{'asin': '', 'href': '', 'name': 'Nokia E90 C...  404.47   NaN     NaN   \n",
       "1  [{'asin': '', 'href': '', 'name': 'Nokia E90 C...  404.47   NaN     NaN   \n",
       "2  [{'asin': '', 'href': '', 'name': 'Nokia E90 C...  404.47   NaN     NaN   \n",
       "3  [{'asin': '', 'href': '', 'name': 'Nokia E90 C...  404.47   NaN     NaN   \n",
       "4  [{'asin': '', 'href': '', 'name': 'Nokia E90 C...  404.47   NaN     NaN   \n",
       "\n",
       "  tech1 tech2 fit                                    clean_up_review target  \n",
       "0   NaN   NaN NaN  for former users of touch screens this machine...      0  \n",
       "1   NaN   NaN NaN  the product is fantastic but the software that...      1  \n",
       "2   NaN   NaN NaN  i bought this phone to replace my nokia 9300 a...      1  \n",
       "3   NaN   NaN NaN  i've used nokia phones all my life except well...      1  \n",
       "4   NaN   NaN NaN  the nokia e90 communicator is a mobile office ...      1  \n",
       "\n",
       "[5 rows x 33 columns]"
      ]
     },
     "execution_count": 11,
     "metadata": {},
     "output_type": "execute_result"
    }
   ],
   "source": [
    "nlp.drop(nlp[nlp['target'] =='unkown'].index, axis=0, inplace=True)\n",
    "nlp.reset_index(drop=True, inplace=True)\n",
    "\n",
    "nlp.head()"
   ]
  },
  {
   "cell_type": "code",
   "execution_count": 14,
   "metadata": {},
   "outputs": [],
   "source": [
    "nlp.reviewText.dropna(inplace = True)"
   ]
  },
  {
   "cell_type": "code",
   "execution_count": 15,
   "metadata": {},
   "outputs": [],
   "source": [
    "## clean up review column\n",
    "nlp.reviewText = nlp.reviewText.str.lower()\n",
    "nlp['clean_up_review']= nlp.reviewText.str.replace('\\n',''). \\\n",
    "                                          str.replace('[!\"#$%&\\()*+,-./:;<=>?@[\\\\]^_`{|}~]','')\n",
    "nlp.reset_index(drop=True, inplace=True)"
   ]
  },
  {
   "cell_type": "code",
   "execution_count": 16,
   "metadata": {},
   "outputs": [],
   "source": [
    "## split dataset\n",
    "nlp_train, nlp_test = train_test_split(nlp[['clean_up_review','target']],test_size=0.3)"
   ]
  },
  {
   "cell_type": "code",
   "execution_count": 17,
   "metadata": {},
   "outputs": [
    {
     "data": {
      "text/plain": [
       "6105    this phone is lock but at the time of my order...\n",
       "861                                                  good\n",
       "5729                                              todo ok\n",
       "6592    i hope samsung know that how bad and inconveni...\n",
       "1528    i purchased this lg smartphone after many hour...\n",
       "                              ...                        \n",
       "3374    this windows phone disapoints me i thought i w...\n",
       "4826    i've only had a little time to use this so thi...\n",
       "8590    i accidentally drowned my lg g5 and needed a r...\n",
       "5990    the phone was fine except it didn't have a sim...\n",
       "8789    exactly as promised a new from apple iphone se...\n",
       "Name: clean_up_review, Length: 6595, dtype: object"
      ]
     },
     "execution_count": 17,
     "metadata": {},
     "output_type": "execute_result"
    }
   ],
   "source": [
    "nlp_train.clean_up_review"
   ]
  },
  {
   "cell_type": "code",
   "execution_count": 18,
   "metadata": {},
   "outputs": [
    {
     "name": "stderr",
     "output_type": "stream",
     "text": [
      "C:\\Users\\a5694\\Anaconda3\\lib\\site-packages\\sklearn\\utils\\deprecation.py:144: FutureWarning: The sklearn.metrics.scorer module is  deprecated in version 0.22 and will be removed in version 0.24. The corresponding classes / functions should instead be imported from sklearn.metrics. Anything that cannot be imported from sklearn.metrics is now part of the private API.\n",
      "  warnings.warn(message, FutureWarning)\n",
      "C:\\Users\\a5694\\Anaconda3\\lib\\site-packages\\sklearn\\utils\\deprecation.py:144: FutureWarning: The sklearn.feature_selection.base module is  deprecated in version 0.22 and will be removed in version 0.24. The corresponding classes / functions should instead be imported from sklearn.feature_selection. Anything that cannot be imported from sklearn.feature_selection is now part of the private API.\n",
      "  warnings.warn(message, FutureWarning)\n"
     ]
    }
   ],
   "source": [
    "import eli5\n",
    "\n",
    "from sklearn.feature_extraction import text\n",
    "from sklearn.feature_extraction.text import TfidfVectorizer\n",
    "\n",
    "my_stop_words = text.ENGLISH_STOP_WORDS.union([\"good\",\"great\",\"best\",\"better\",\"love\",\"junk\",\"suck\",\"worst\",\"bad\",\"love\"])"
   ]
  },
  {
   "cell_type": "code",
   "execution_count": 19,
   "metadata": {},
   "outputs": [
    {
     "name": "stderr",
     "output_type": "stream",
     "text": [
      "C:\\Users\\a5694\\Anaconda3\\lib\\site-packages\\sklearn\\linear_model\\_logistic.py:939: ConvergenceWarning: lbfgs failed to converge (status=1):\n",
      "STOP: TOTAL NO. of ITERATIONS REACHED LIMIT.\n",
      "\n",
      "Increase the number of iterations (max_iter) or scale the data as shown in:\n",
      "    https://scikit-learn.org/stable/modules/preprocessing.html.\n",
      "Please also refer to the documentation for alternative solver options:\n",
      "    https://scikit-learn.org/stable/modules/linear_model.html#logistic-regression\n",
      "  extra_warning_msg=_LOGISTIC_SOLVER_CONVERGENCE_MSG)\n"
     ]
    },
    {
     "data": {
      "text/plain": [
       "(0.9921152388172858, 0.9020162716660771)"
      ]
     },
     "execution_count": 19,
     "metadata": {},
     "output_type": "execute_result"
    }
   ],
   "source": [
    "#count vectorizer\n",
    "lr_model = LogisticRegression(C=5)\n",
    "vec = CountVectorizer(stop_words = 'english')\n",
    "pipe = make_pipeline(vec, lr_model)\n",
    "pipe.fit(nlp_train.clean_up_review.values.astype('U'), nlp_train.target)\n",
    "train_preds = pipe.predict(nlp_train.clean_up_review.values.astype('U'))\n",
    "train_f1 = f1_score(nlp_train.target, train_preds, average='micro')\n",
    "test_preds = pipe.predict(nlp_test.clean_up_review.values.astype('U'))\n",
    "test_f1 = f1_score(nlp_test.target, test_preds, average='micro')\n",
    "train_f1, test_f1  "
   ]
  },
  {
   "cell_type": "code",
   "execution_count": 20,
   "metadata": {},
   "outputs": [
    {
     "data": {
      "text/plain": [
       "(0.9763457164518574, 0.9112133003183587)"
      ]
     },
     "execution_count": 20,
     "metadata": {},
     "output_type": "execute_result"
    }
   ],
   "source": [
    "#tfidf vectorizer\n",
    "lr_model = LogisticRegression(C=5)\n",
    "vec = TfidfVectorizer(stop_words = 'english', min_df = 5,lowercase = True, ngram_range = (1,3))\n",
    "pipe = make_pipeline(vec, lr_model)\n",
    "pipe.fit(nlp_train.clean_up_review.values.astype('U'), nlp_train.target)\n",
    "train_preds = pipe.predict(nlp_train.clean_up_review.values.astype('U'))\n",
    "train_f1 = f1_score(nlp_train.target, train_preds, average='micro')\n",
    "test_preds = pipe.predict(nlp_test.clean_up_review.values.astype('U'))\n",
    "test_f1 = f1_score(nlp_test.target, test_preds, average='micro')\n",
    "train_f1, test_f1 "
   ]
  },
  {
   "cell_type": "code",
   "execution_count": 25,
   "metadata": {},
   "outputs": [
    {
     "name": "stdout",
     "output_type": "stream",
     "text": [
      "train_f1: 0.9120545868081881 test_f1: 0.8832684824902723 , C 0.5 min_df 2\n",
      "train_f1: 0.9155420773313117 test_f1: 0.8878669968164131 , C 0.5 min_df 3\n",
      "train_f1: 0.9158453373768006 test_f1: 0.8903431199151044 , C 0.5 min_df 4\n",
      "train_f1: 0.9161485974222896 test_f1: 0.8899893880438627 , C 0.5 min_df 5\n",
      "train_f1: 0.9163002274450341 test_f1: 0.8896356561726212 , C 0.5 min_df 6\n",
      "train_f1: 0.9163002274450341 test_f1: 0.8896356561726212 , C 0.5 min_df 7\n",
      "train_f1: 0.9169067475360121 test_f1: 0.8903431199151044 , C 0.5 min_df 8\n",
      "train_f1: 0.9170583775587566 test_f1: 0.8917580474000707 , C 0.5 min_df 9\n",
      "train_f1: 0.9429871114480667 test_f1: 0.9002476123098692 , C 1.0 min_df 2\n",
      "train_f1: 0.9417740712661107 test_f1: 0.9023700035373187 , C 1.0 min_df 3\n",
      "train_f1: 0.9388931008339652 test_f1: 0.9048461266360099 , C 1.0 min_df 4\n",
      "train_f1: 0.9381349507202426 test_f1: 0.9059073222497347 , C 1.0 min_df 5\n",
      "train_f1: 0.9379833206974981 test_f1: 0.9083834453484259 , C 1.0 min_df 6\n",
      "train_f1: 0.9370735405610311 test_f1: 0.9051998585072514 , C 1.0 min_df 7\n",
      "train_f1: 0.9366186504927976 test_f1: 0.9062610541209764 , C 1.0 min_df 8\n",
      "train_f1: 0.935557240333586 test_f1: 0.9055535903784931 , C 1.0 min_df 9\n",
      "train_f1: 0.9573919636087945 test_f1: 0.9073222497347011 , C 1.5 min_df 2\n",
      "train_f1: 0.9542077331311599 test_f1: 0.9083834453484259 , C 1.5 min_df 3\n",
      "train_f1: 0.9505686125852919 test_f1: 0.9097983728333923 , C 1.5 min_df 4\n",
      "train_f1: 0.9502653525398029 test_f1: 0.9122744959320835 , C 1.5 min_df 5\n",
      "train_f1: 0.9481425322213798 test_f1: 0.9136894234170498 , C 1.5 min_df 6\n",
      "train_f1: 0.9482941622441243 test_f1: 0.9105058365758755 , C 1.5 min_df 7\n",
      "train_f1: 0.9467778620166794 test_f1: 0.9094446409621507 , C 1.5 min_df 8\n",
      "train_f1: 0.9451099317664897 test_f1: 0.9094446409621507 , C 1.5 min_df 9\n",
      "train_f1: 0.9664897649734647 test_f1: 0.9105058365758755 , C 2.0 min_df 2\n",
      "train_f1: 0.9614859742228962 test_f1: 0.9112133003183587 , C 2.0 min_df 3\n",
      "train_f1: 0.9587566338134951 test_f1: 0.9129819596745666 , C 2.0 min_df 4\n",
      "train_f1: 0.956937073540561 test_f1: 0.9119207640608419 , C 2.0 min_df 5\n",
      "train_f1: 0.9552691432903715 test_f1: 0.9108595684471171 , C 2.0 min_df 6\n",
      "train_f1: 0.9542077331311599 test_f1: 0.9112133003183587 , C 2.0 min_df 7\n",
      "train_f1: 0.9531463229719485 test_f1: 0.9097983728333923 , C 2.0 min_df 8\n",
      "train_f1: 0.9516300227445034 test_f1: 0.9090909090909091 , C 2.0 min_df 9\n",
      "train_f1: 0.9725549658832449 test_f1: 0.9101521047046339 , C 2.5 min_df 2\n",
      "train_f1: 0.9660348749052312 test_f1: 0.9129819596745666 , C 2.5 min_df 3\n",
      "train_f1: 0.9639120545868082 test_f1: 0.9126282278033251 , C 2.5 min_df 4\n",
      "train_f1: 0.9608794541319181 test_f1: 0.9115670321896003 , C 2.5 min_df 5\n",
      "train_f1: 0.9598180439727066 test_f1: 0.9108595684471171 , C 2.5 min_df 6\n",
      "train_f1: 0.9579984836997726 test_f1: 0.9097983728333923 , C 2.5 min_df 7\n",
      "train_f1: 0.956027293404094 test_f1: 0.9087371772196675 , C 2.5 min_df 8\n",
      "train_f1: 0.955117513267627 test_f1: 0.9090909090909091 , C 2.5 min_df 9\n",
      "train_f1: 0.9769522365428355 test_f1: 0.9115670321896003 , C 3.0 min_df 2\n",
      "train_f1: 0.9719484457922669 test_f1: 0.9119207640608419 , C 3.0 min_df 3\n",
      "train_f1: 0.9683093252463988 test_f1: 0.9129819596745666 , C 3.0 min_df 4\n",
      "train_f1: 0.9651250947687642 test_f1: 0.9112133003183587 , C 3.0 min_df 5\n",
      "train_f1: 0.9634571645185747 test_f1: 0.9112133003183587 , C 3.0 min_df 6\n",
      "train_f1: 0.961789234268385 test_f1: 0.9090909090909091 , C 3.0 min_df 7\n",
      "train_f1: 0.9605761940864291 test_f1: 0.9090909090909091 , C 3.0 min_df 8\n",
      "train_f1: 0.9593631539044731 test_f1: 0.9083834453484259 , C 3.0 min_df 9\n",
      "train_f1: 0.9813495072024261 test_f1: 0.9112133003183587 , C 3.5 min_df 2\n",
      "train_f1: 0.974981046247157 test_f1: 0.9122744959320835 , C 3.5 min_df 3\n",
      "train_f1: 0.9716451857467778 test_f1: 0.9129819596745666 , C 3.5 min_df 4\n",
      "train_f1: 0.9684609552691433 test_f1: 0.9108595684471171 , C 3.5 min_df 5\n",
      "train_f1: 0.9655799848369977 test_f1: 0.9112133003183587 , C 3.5 min_df 6\n",
      "train_f1: 0.9640636846095527 test_f1: 0.9087371772196675 , C 3.5 min_df 7\n",
      "train_f1: 0.9630022744503411 test_f1: 0.9087371772196675 , C 3.5 min_df 8\n",
      "train_f1: 0.9613343442001516 test_f1: 0.9090909090909091 , C 3.5 min_df 9\n",
      "train_f1: 0.9842304776345716 test_f1: 0.9119207640608419 , C 4.0 min_df 2\n",
      "train_f1: 0.9781652767247915 test_f1: 0.9129819596745666 , C 4.0 min_df 3\n",
      "train_f1: 0.9748294162244124 test_f1: 0.9129819596745666 , C 4.0 min_df 4\n",
      "train_f1: 0.9717968157695224 test_f1: 0.9112133003183587 , C 4.0 min_df 5\n",
      "train_f1: 0.9695223654283548 test_f1: 0.9112133003183587 , C 4.0 min_df 6\n",
      "train_f1: 0.9672479150871872 test_f1: 0.9094446409621507 , C 4.0 min_df 7\n",
      "train_f1: 0.9655799848369977 test_f1: 0.9097983728333923 , C 4.0 min_df 8\n",
      "train_f1: 0.9639120545868082 test_f1: 0.9094446409621507 , C 4.0 min_df 9\n",
      "train_f1: 0.9862016679302502 test_f1: 0.9115670321896003 , C 4.5 min_df 2\n",
      "train_f1: 0.9818043972706596 test_f1: 0.9133356915458083 , C 4.5 min_df 3\n",
      "train_f1: 0.977407126611069 test_f1: 0.9122744959320835 , C 4.5 min_df 4\n",
      "train_f1: 0.9745261561789235 test_f1: 0.9112133003183587 , C 4.5 min_df 5\n",
      "train_f1: 0.9724033358605004 test_f1: 0.9094446409621507 , C 4.5 min_df 6\n",
      "train_f1: 0.9701288855193329 test_f1: 0.9083834453484259 , C 4.5 min_df 7\n",
      "train_f1: 0.9683093252463988 test_f1: 0.9097983728333923 , C 4.5 min_df 8\n",
      "train_f1: 0.9663381349507203 test_f1: 0.9097983728333923 , C 4.5 min_df 9\n",
      "train_f1: 0.9881728582259287 test_f1: 0.9115670321896003 , C 5.0 min_df 2\n",
      "train_f1: 0.9842304776345716 test_f1: 0.9136894234170498 , C 5.0 min_df 3\n",
      "train_f1: 0.9802880970432145 test_f1: 0.9119207640608419 , C 5.0 min_df 4\n",
      "train_f1: 0.9763457164518574 test_f1: 0.9112133003183587 , C 5.0 min_df 5\n",
      "train_f1: 0.9739196360879454 test_f1: 0.9094446409621507 , C 5.0 min_df 6\n",
      "train_f1: 0.9721000758150113 test_f1: 0.9087371772196675 , C 5.0 min_df 7\n",
      "train_f1: 0.9695223654283548 test_f1: 0.9087371772196675 , C 5.0 min_df 8\n",
      "train_f1: 0.9690674753601213 test_f1: 0.9094446409621507 , C 5.0 min_df 9\n",
      "train_f1: 0.9893858984078847 test_f1: 0.9122744959320835 , C 5.5 min_df 2\n",
      "train_f1: 0.9854435178165277 test_f1: 0.9136894234170498 , C 5.5 min_df 3\n",
      "train_f1: 0.9816527672479151 test_f1: 0.9126282278033251 , C 5.5 min_df 4\n",
      "train_f1: 0.978620166793025 test_f1: 0.9112133003183587 , C 5.5 min_df 5\n",
      "train_f1: 0.9757391963608795 test_f1: 0.9097983728333923 , C 5.5 min_df 6\n",
      "train_f1: 0.9736163760424564 test_f1: 0.9097983728333923 , C 5.5 min_df 7\n",
      "train_f1: 0.9719484457922669 test_f1: 0.9087371772196675 , C 5.5 min_df 8\n",
      "train_f1: 0.9705837755875664 test_f1: 0.9094446409621507 , C 5.5 min_df 9\n",
      "train_f1: 0.9907505686125853 test_f1: 0.9126282278033251 , C 6.0 min_df 2\n"
     ]
    },
    {
     "name": "stderr",
     "output_type": "stream",
     "text": [
      "C:\\Users\\a5694\\Anaconda3\\lib\\site-packages\\sklearn\\linear_model\\_logistic.py:939: ConvergenceWarning: lbfgs failed to converge (status=1):\n",
      "STOP: TOTAL NO. of ITERATIONS REACHED LIMIT.\n",
      "\n",
      "Increase the number of iterations (max_iter) or scale the data as shown in:\n",
      "    https://scikit-learn.org/stable/modules/preprocessing.html.\n",
      "Please also refer to the documentation for alternative solver options:\n",
      "    https://scikit-learn.org/stable/modules/linear_model.html#logistic-regression\n",
      "  extra_warning_msg=_LOGISTIC_SOLVER_CONVERGENCE_MSG)\n"
     ]
    },
    {
     "name": "stdout",
     "output_type": "stream",
     "text": [
      "train_f1: 0.9866565579984837 test_f1: 0.9133356915458083 , C 6.0 min_df 3\n",
      "train_f1: 0.9827141774071266 test_f1: 0.9122744959320835 , C 6.0 min_df 4\n",
      "train_f1: 0.980439727065959 test_f1: 0.9115670321896003 , C 6.0 min_df 5\n",
      "train_f1: 0.97710386656558 test_f1: 0.9101521047046339 , C 6.0 min_df 6\n",
      "train_f1: 0.974981046247157 test_f1: 0.9087371772196675 , C 6.0 min_df 7\n",
      "train_f1: 0.9734647460197119 test_f1: 0.9094446409621507 , C 6.0 min_df 8\n",
      "train_f1: 0.9724033358605004 test_f1: 0.9080297134771843 , C 6.0 min_df 9\n",
      "train_f1: 0.9916603487490523 test_f1: 0.9136894234170498 , C 6.5 min_df 2\n"
     ]
    },
    {
     "name": "stderr",
     "output_type": "stream",
     "text": [
      "C:\\Users\\a5694\\Anaconda3\\lib\\site-packages\\sklearn\\linear_model\\_logistic.py:939: ConvergenceWarning: lbfgs failed to converge (status=1):\n",
      "STOP: TOTAL NO. of ITERATIONS REACHED LIMIT.\n",
      "\n",
      "Increase the number of iterations (max_iter) or scale the data as shown in:\n",
      "    https://scikit-learn.org/stable/modules/preprocessing.html.\n",
      "Please also refer to the documentation for alternative solver options:\n",
      "    https://scikit-learn.org/stable/modules/linear_model.html#logistic-regression\n",
      "  extra_warning_msg=_LOGISTIC_SOLVER_CONVERGENCE_MSG)\n"
     ]
    },
    {
     "name": "stdout",
     "output_type": "stream",
     "text": [
      "train_f1: 0.9877179681576952 test_f1: 0.9122744959320835 , C 6.5 min_df 3\n",
      "train_f1: 0.9845337376800607 test_f1: 0.9115670321896003 , C 6.5 min_df 4\n",
      "train_f1: 0.9819560272934041 test_f1: 0.9115670321896003 , C 6.5 min_df 5\n",
      "train_f1: 0.978013646702047 test_f1: 0.9108595684471171 , C 6.5 min_df 6\n",
      "train_f1: 0.9763457164518574 test_f1: 0.9090909090909091 , C 6.5 min_df 7\n"
     ]
    },
    {
     "name": "stderr",
     "output_type": "stream",
     "text": [
      "C:\\Users\\a5694\\Anaconda3\\lib\\site-packages\\sklearn\\linear_model\\_logistic.py:939: ConvergenceWarning: lbfgs failed to converge (status=1):\n",
      "STOP: TOTAL NO. of ITERATIONS REACHED LIMIT.\n",
      "\n",
      "Increase the number of iterations (max_iter) or scale the data as shown in:\n",
      "    https://scikit-learn.org/stable/modules/preprocessing.html.\n",
      "Please also refer to the documentation for alternative solver options:\n",
      "    https://scikit-learn.org/stable/modules/linear_model.html#logistic-regression\n",
      "  extra_warning_msg=_LOGISTIC_SOLVER_CONVERGENCE_MSG)\n"
     ]
    },
    {
     "name": "stdout",
     "output_type": "stream",
     "text": [
      "train_f1: 0.9746777862016679 test_f1: 0.9087371772196675 , C 6.5 min_df 8\n",
      "train_f1: 0.9737680060652009 test_f1: 0.9087371772196675 , C 6.5 min_df 9\n",
      "train_f1: 0.9930250189537528 test_f1: 0.9136894234170498 , C 7.0 min_df 2\n",
      "train_f1: 0.9883244882486732 test_f1: 0.9119207640608419 , C 7.0 min_df 3\n",
      "train_f1: 0.9855951478392722 test_f1: 0.9115670321896003 , C 7.0 min_df 4\n",
      "train_f1: 0.9825625473843821 test_f1: 0.9122744959320835 , C 7.0 min_df 5\n",
      "train_f1: 0.9787717968157695 test_f1: 0.9119207640608419 , C 7.0 min_df 6\n",
      "train_f1: 0.9781652767247915 test_f1: 0.9080297134771843 , C 7.0 min_df 7\n",
      "train_f1: 0.9757391963608795 test_f1: 0.9080297134771843 , C 7.0 min_df 8\n",
      "train_f1: 0.975890826383624 test_f1: 0.9080297134771843 , C 7.0 min_df 9\n"
     ]
    },
    {
     "name": "stderr",
     "output_type": "stream",
     "text": [
      "C:\\Users\\a5694\\Anaconda3\\lib\\site-packages\\sklearn\\linear_model\\_logistic.py:939: ConvergenceWarning: lbfgs failed to converge (status=1):\n",
      "STOP: TOTAL NO. of ITERATIONS REACHED LIMIT.\n",
      "\n",
      "Increase the number of iterations (max_iter) or scale the data as shown in:\n",
      "    https://scikit-learn.org/stable/modules/preprocessing.html.\n",
      "Please also refer to the documentation for alternative solver options:\n",
      "    https://scikit-learn.org/stable/modules/linear_model.html#logistic-regression\n",
      "  extra_warning_msg=_LOGISTIC_SOLVER_CONVERGENCE_MSG)\n"
     ]
    },
    {
     "name": "stdout",
     "output_type": "stream",
     "text": [
      "train_f1: 0.9934799090219864 test_f1: 0.9119207640608419 , C 7.5 min_df 2\n",
      "train_f1: 0.9887793783169068 test_f1: 0.9108595684471171 , C 7.5 min_df 3\n",
      "train_f1: 0.9866565579984837 test_f1: 0.9122744959320835 , C 7.5 min_df 4\n",
      "train_f1: 0.9836239575435937 test_f1: 0.9126282278033251 , C 7.5 min_df 5\n"
     ]
    },
    {
     "name": "stderr",
     "output_type": "stream",
     "text": [
      "C:\\Users\\a5694\\Anaconda3\\lib\\site-packages\\sklearn\\linear_model\\_logistic.py:939: ConvergenceWarning: lbfgs failed to converge (status=1):\n",
      "STOP: TOTAL NO. of ITERATIONS REACHED LIMIT.\n",
      "\n",
      "Increase the number of iterations (max_iter) or scale the data as shown in:\n",
      "    https://scikit-learn.org/stable/modules/preprocessing.html.\n",
      "Please also refer to the documentation for alternative solver options:\n",
      "    https://scikit-learn.org/stable/modules/linear_model.html#logistic-regression\n",
      "  extra_warning_msg=_LOGISTIC_SOLVER_CONVERGENCE_MSG)\n"
     ]
    },
    {
     "name": "stdout",
     "output_type": "stream",
     "text": [
      "train_f1: 0.980439727065959 test_f1: 0.9126282278033251 , C 7.5 min_df 6\n"
     ]
    },
    {
     "name": "stderr",
     "output_type": "stream",
     "text": [
      "C:\\Users\\a5694\\Anaconda3\\lib\\site-packages\\sklearn\\linear_model\\_logistic.py:939: ConvergenceWarning: lbfgs failed to converge (status=1):\n",
      "STOP: TOTAL NO. of ITERATIONS REACHED LIMIT.\n",
      "\n",
      "Increase the number of iterations (max_iter) or scale the data as shown in:\n",
      "    https://scikit-learn.org/stable/modules/preprocessing.html.\n",
      "Please also refer to the documentation for alternative solver options:\n",
      "    https://scikit-learn.org/stable/modules/linear_model.html#logistic-regression\n",
      "  extra_warning_msg=_LOGISTIC_SOLVER_CONVERGENCE_MSG)\n"
     ]
    },
    {
     "name": "stdout",
     "output_type": "stream",
     "text": [
      "train_f1: 0.9787717968157695 test_f1: 0.9080297134771843 , C 7.5 min_df 7\n",
      "train_f1: 0.97710386656558 test_f1: 0.9080297134771843 , C 7.5 min_df 8\n",
      "train_f1: 0.9763457164518574 test_f1: 0.9083834453484259 , C 7.5 min_df 9\n",
      "train_f1: 0.9939347990902199 test_f1: 0.9115670321896003 , C 8.0 min_df 2\n",
      "train_f1: 0.9895375284306293 test_f1: 0.9112133003183587 , C 8.0 min_df 3\n",
      "train_f1: 0.9875663381349508 test_f1: 0.9122744959320835 , C 8.0 min_df 4\n",
      "train_f1: 0.9846853677028051 test_f1: 0.9122744959320835 , C 8.0 min_df 5\n",
      "train_f1: 0.9821076573161486 test_f1: 0.9119207640608419 , C 8.0 min_df 6\n"
     ]
    },
    {
     "name": "stderr",
     "output_type": "stream",
     "text": [
      "C:\\Users\\a5694\\Anaconda3\\lib\\site-packages\\sklearn\\linear_model\\_logistic.py:939: ConvergenceWarning: lbfgs failed to converge (status=1):\n",
      "STOP: TOTAL NO. of ITERATIONS REACHED LIMIT.\n",
      "\n",
      "Increase the number of iterations (max_iter) or scale the data as shown in:\n",
      "    https://scikit-learn.org/stable/modules/preprocessing.html.\n",
      "Please also refer to the documentation for alternative solver options:\n",
      "    https://scikit-learn.org/stable/modules/linear_model.html#logistic-regression\n",
      "  extra_warning_msg=_LOGISTIC_SOLVER_CONVERGENCE_MSG)\n"
     ]
    },
    {
     "name": "stdout",
     "output_type": "stream",
     "text": [
      "train_f1: 0.9801364670204701 test_f1: 0.9080297134771843 , C 8.0 min_df 7\n"
     ]
    },
    {
     "name": "stderr",
     "output_type": "stream",
     "text": [
      "C:\\Users\\a5694\\Anaconda3\\lib\\site-packages\\sklearn\\linear_model\\_logistic.py:939: ConvergenceWarning: lbfgs failed to converge (status=1):\n",
      "STOP: TOTAL NO. of ITERATIONS REACHED LIMIT.\n",
      "\n",
      "Increase the number of iterations (max_iter) or scale the data as shown in:\n",
      "    https://scikit-learn.org/stable/modules/preprocessing.html.\n",
      "Please also refer to the documentation for alternative solver options:\n",
      "    https://scikit-learn.org/stable/modules/linear_model.html#logistic-regression\n",
      "  extra_warning_msg=_LOGISTIC_SOLVER_CONVERGENCE_MSG)\n"
     ]
    },
    {
     "name": "stdout",
     "output_type": "stream",
     "text": [
      "train_f1: 0.9784685367702806 test_f1: 0.9076759816059426 , C 8.0 min_df 8\n",
      "train_f1: 0.97710386656558 test_f1: 0.9083834453484259 , C 8.0 min_df 9\n",
      "train_f1: 0.9940864291129644 test_f1: 0.9115670321896003 , C 8.5 min_df 2\n",
      "train_f1: 0.9902956785443517 test_f1: 0.9119207640608419 , C 8.5 min_df 3\n"
     ]
    },
    {
     "name": "stderr",
     "output_type": "stream",
     "text": [
      "C:\\Users\\a5694\\Anaconda3\\lib\\site-packages\\sklearn\\linear_model\\_logistic.py:939: ConvergenceWarning: lbfgs failed to converge (status=1):\n",
      "STOP: TOTAL NO. of ITERATIONS REACHED LIMIT.\n",
      "\n",
      "Increase the number of iterations (max_iter) or scale the data as shown in:\n",
      "    https://scikit-learn.org/stable/modules/preprocessing.html.\n",
      "Please also refer to the documentation for alternative solver options:\n",
      "    https://scikit-learn.org/stable/modules/linear_model.html#logistic-regression\n",
      "  extra_warning_msg=_LOGISTIC_SOLVER_CONVERGENCE_MSG)\n"
     ]
    },
    {
     "name": "stdout",
     "output_type": "stream",
     "text": [
      "train_f1: 0.9878695981804397 test_f1: 0.9129819596745666 , C 8.5 min_df 4\n",
      "train_f1: 0.9852918877937832 test_f1: 0.9122744959320835 , C 8.5 min_df 5\n",
      "train_f1: 0.9834723275208491 test_f1: 0.9115670321896003 , C 8.5 min_df 6\n"
     ]
    },
    {
     "name": "stderr",
     "output_type": "stream",
     "text": [
      "C:\\Users\\a5694\\Anaconda3\\lib\\site-packages\\sklearn\\linear_model\\_logistic.py:939: ConvergenceWarning: lbfgs failed to converge (status=1):\n",
      "STOP: TOTAL NO. of ITERATIONS REACHED LIMIT.\n",
      "\n",
      "Increase the number of iterations (max_iter) or scale the data as shown in:\n",
      "    https://scikit-learn.org/stable/modules/preprocessing.html.\n",
      "Please also refer to the documentation for alternative solver options:\n",
      "    https://scikit-learn.org/stable/modules/linear_model.html#logistic-regression\n",
      "  extra_warning_msg=_LOGISTIC_SOLVER_CONVERGENCE_MSG)\n"
     ]
    },
    {
     "name": "stdout",
     "output_type": "stream",
     "text": [
      "train_f1: 0.9813495072024261 test_f1: 0.9076759816059426 , C 8.5 min_df 7\n"
     ]
    },
    {
     "name": "stderr",
     "output_type": "stream",
     "text": [
      "C:\\Users\\a5694\\Anaconda3\\lib\\site-packages\\sklearn\\linear_model\\_logistic.py:939: ConvergenceWarning: lbfgs failed to converge (status=1):\n",
      "STOP: TOTAL NO. of ITERATIONS REACHED LIMIT.\n",
      "\n",
      "Increase the number of iterations (max_iter) or scale the data as shown in:\n",
      "    https://scikit-learn.org/stable/modules/preprocessing.html.\n",
      "Please also refer to the documentation for alternative solver options:\n",
      "    https://scikit-learn.org/stable/modules/linear_model.html#logistic-regression\n",
      "  extra_warning_msg=_LOGISTIC_SOLVER_CONVERGENCE_MSG)\n"
     ]
    },
    {
     "name": "stdout",
     "output_type": "stream",
     "text": [
      "train_f1: 0.9793783169067476 test_f1: 0.9073222497347011 , C 8.5 min_df 8\n",
      "train_f1: 0.9781652767247915 test_f1: 0.9076759816059426 , C 8.5 min_df 9\n"
     ]
    },
    {
     "name": "stderr",
     "output_type": "stream",
     "text": [
      "C:\\Users\\a5694\\Anaconda3\\lib\\site-packages\\sklearn\\linear_model\\_logistic.py:939: ConvergenceWarning: lbfgs failed to converge (status=1):\n",
      "STOP: TOTAL NO. of ITERATIONS REACHED LIMIT.\n",
      "\n",
      "Increase the number of iterations (max_iter) or scale the data as shown in:\n",
      "    https://scikit-learn.org/stable/modules/preprocessing.html.\n",
      "Please also refer to the documentation for alternative solver options:\n",
      "    https://scikit-learn.org/stable/modules/linear_model.html#logistic-regression\n",
      "  extra_warning_msg=_LOGISTIC_SOLVER_CONVERGENCE_MSG)\n"
     ]
    },
    {
     "name": "stdout",
     "output_type": "stream",
     "text": [
      "train_f1: 0.9943896891584534 test_f1: 0.9119207640608419 , C 9.0 min_df 2\n",
      "train_f1: 0.9907505686125853 test_f1: 0.9112133003183587 , C 9.0 min_df 3\n"
     ]
    },
    {
     "name": "stderr",
     "output_type": "stream",
     "text": [
      "C:\\Users\\a5694\\Anaconda3\\lib\\site-packages\\sklearn\\linear_model\\_logistic.py:939: ConvergenceWarning: lbfgs failed to converge (status=1):\n",
      "STOP: TOTAL NO. of ITERATIONS REACHED LIMIT.\n",
      "\n",
      "Increase the number of iterations (max_iter) or scale the data as shown in:\n",
      "    https://scikit-learn.org/stable/modules/preprocessing.html.\n",
      "Please also refer to the documentation for alternative solver options:\n",
      "    https://scikit-learn.org/stable/modules/linear_model.html#logistic-regression\n",
      "  extra_warning_msg=_LOGISTIC_SOLVER_CONVERGENCE_MSG)\n"
     ]
    },
    {
     "name": "stdout",
     "output_type": "stream",
     "text": [
      "train_f1: 0.9887793783169068 test_f1: 0.9126282278033251 , C 9.0 min_df 4\n",
      "train_f1: 0.9860500379075057 test_f1: 0.9126282278033251 , C 9.0 min_df 5\n",
      "train_f1: 0.9842304776345716 test_f1: 0.9108595684471171 , C 9.0 min_df 6\n"
     ]
    },
    {
     "name": "stderr",
     "output_type": "stream",
     "text": [
      "C:\\Users\\a5694\\Anaconda3\\lib\\site-packages\\sklearn\\linear_model\\_logistic.py:939: ConvergenceWarning: lbfgs failed to converge (status=1):\n",
      "STOP: TOTAL NO. of ITERATIONS REACHED LIMIT.\n",
      "\n",
      "Increase the number of iterations (max_iter) or scale the data as shown in:\n",
      "    https://scikit-learn.org/stable/modules/preprocessing.html.\n",
      "Please also refer to the documentation for alternative solver options:\n",
      "    https://scikit-learn.org/stable/modules/linear_model.html#logistic-regression\n",
      "  extra_warning_msg=_LOGISTIC_SOLVER_CONVERGENCE_MSG)\n"
     ]
    },
    {
     "name": "stdout",
     "output_type": "stream",
     "text": [
      "train_f1: 0.9830174374526156 test_f1: 0.9080297134771843 , C 9.0 min_df 7\n",
      "train_f1: 0.9801364670204701 test_f1: 0.9069685178634594 , C 9.0 min_df 8\n"
     ]
    },
    {
     "name": "stderr",
     "output_type": "stream",
     "text": [
      "C:\\Users\\a5694\\Anaconda3\\lib\\site-packages\\sklearn\\linear_model\\_logistic.py:939: ConvergenceWarning: lbfgs failed to converge (status=1):\n",
      "STOP: TOTAL NO. of ITERATIONS REACHED LIMIT.\n",
      "\n",
      "Increase the number of iterations (max_iter) or scale the data as shown in:\n",
      "    https://scikit-learn.org/stable/modules/preprocessing.html.\n",
      "Please also refer to the documentation for alternative solver options:\n",
      "    https://scikit-learn.org/stable/modules/linear_model.html#logistic-regression\n",
      "  extra_warning_msg=_LOGISTIC_SOLVER_CONVERGENCE_MSG)\n"
     ]
    },
    {
     "name": "stdout",
     "output_type": "stream",
     "text": [
      "train_f1: 0.9792266868840032 test_f1: 0.9080297134771843 , C 9.0 min_df 9\n",
      "train_f1: 0.9945413191811979 test_f1: 0.9119207640608419 , C 9.5 min_df 2\n",
      "train_f1: 0.9915087187263079 test_f1: 0.9108595684471171 , C 9.5 min_df 3\n",
      "train_f1: 0.9893858984078847 test_f1: 0.9129819596745666 , C 9.5 min_df 4\n"
     ]
    },
    {
     "name": "stderr",
     "output_type": "stream",
     "text": [
      "C:\\Users\\a5694\\Anaconda3\\lib\\site-packages\\sklearn\\linear_model\\_logistic.py:939: ConvergenceWarning: lbfgs failed to converge (status=1):\n",
      "STOP: TOTAL NO. of ITERATIONS REACHED LIMIT.\n",
      "\n",
      "Increase the number of iterations (max_iter) or scale the data as shown in:\n",
      "    https://scikit-learn.org/stable/modules/preprocessing.html.\n",
      "Please also refer to the documentation for alternative solver options:\n",
      "    https://scikit-learn.org/stable/modules/linear_model.html#logistic-regression\n",
      "  extra_warning_msg=_LOGISTIC_SOLVER_CONVERGENCE_MSG)\n"
     ]
    },
    {
     "name": "stdout",
     "output_type": "stream",
     "text": [
      "train_f1: 0.9872630780894617 test_f1: 0.9122744959320835 , C 9.5 min_df 5\n"
     ]
    },
    {
     "name": "stderr",
     "output_type": "stream",
     "text": [
      "C:\\Users\\a5694\\Anaconda3\\lib\\site-packages\\sklearn\\linear_model\\_logistic.py:939: ConvergenceWarning: lbfgs failed to converge (status=1):\n",
      "STOP: TOTAL NO. of ITERATIONS REACHED LIMIT.\n",
      "\n",
      "Increase the number of iterations (max_iter) or scale the data as shown in:\n",
      "    https://scikit-learn.org/stable/modules/preprocessing.html.\n",
      "Please also refer to the documentation for alternative solver options:\n",
      "    https://scikit-learn.org/stable/modules/linear_model.html#logistic-regression\n",
      "  extra_warning_msg=_LOGISTIC_SOLVER_CONVERGENCE_MSG)\n"
     ]
    },
    {
     "name": "stdout",
     "output_type": "stream",
     "text": [
      "train_f1: 0.9849886277482942 test_f1: 0.9112133003183587 , C 9.5 min_df 6\n"
     ]
    },
    {
     "name": "stderr",
     "output_type": "stream",
     "text": [
      "C:\\Users\\a5694\\Anaconda3\\lib\\site-packages\\sklearn\\linear_model\\_logistic.py:939: ConvergenceWarning: lbfgs failed to converge (status=1):\n",
      "STOP: TOTAL NO. of ITERATIONS REACHED LIMIT.\n",
      "\n",
      "Increase the number of iterations (max_iter) or scale the data as shown in:\n",
      "    https://scikit-learn.org/stable/modules/preprocessing.html.\n",
      "Please also refer to the documentation for alternative solver options:\n",
      "    https://scikit-learn.org/stable/modules/linear_model.html#logistic-regression\n",
      "  extra_warning_msg=_LOGISTIC_SOLVER_CONVERGENCE_MSG)\n"
     ]
    },
    {
     "name": "stdout",
     "output_type": "stream",
     "text": [
      "train_f1: 0.9836239575435937 test_f1: 0.9087371772196675 , C 9.5 min_df 7\n",
      "train_f1: 0.9811978771796815 test_f1: 0.9062610541209764 , C 9.5 min_df 8\n"
     ]
    },
    {
     "name": "stderr",
     "output_type": "stream",
     "text": [
      "C:\\Users\\a5694\\Anaconda3\\lib\\site-packages\\sklearn\\linear_model\\_logistic.py:939: ConvergenceWarning: lbfgs failed to converge (status=1):\n",
      "STOP: TOTAL NO. of ITERATIONS REACHED LIMIT.\n",
      "\n",
      "Increase the number of iterations (max_iter) or scale the data as shown in:\n",
      "    https://scikit-learn.org/stable/modules/preprocessing.html.\n",
      "Please also refer to the documentation for alternative solver options:\n",
      "    https://scikit-learn.org/stable/modules/linear_model.html#logistic-regression\n",
      "  extra_warning_msg=_LOGISTIC_SOLVER_CONVERGENCE_MSG)\n"
     ]
    },
    {
     "name": "stdout",
     "output_type": "stream",
     "text": [
      "train_f1: 0.979833206974981 test_f1: 0.9076759816059426 , C 9.5 min_df 9\n"
     ]
    }
   ],
   "source": [
    "## lr model with TfidfVectorizer\n",
    "C = np.arange(0.5,10,0.5)\n",
    "max_test_f1 = 0\n",
    "for i in C:\n",
    "    for j in range(2, 10, 1):\n",
    "        lr_model = LogisticRegression(C=i)\n",
    "        #IF need to update the stop word, use the follow code.\n",
    "        #my_stop_words = text.ENGLISH_STOP_WORDS.union([\"love\",'great','best','like','better','phone'])\n",
    "        vec = TfidfVectorizer(min_df = j, stop_words ='english', lowercase = True, ngram_range = (1,3))\n",
    "        pipe = make_pipeline(vec, lr_model)\n",
    "        pipe.fit(nlp_train.clean_up_review.values.astype('U'), nlp_train.target)\n",
    "        train_preds = pipe.predict(nlp_train.clean_up_review.values.astype('U'))\n",
    "        train_f1 = f1_score(nlp_train.target, train_preds, average='micro')\n",
    "        test_preds = pipe.predict(nlp_test.clean_up_review.values.astype('U'))\n",
    "        test_f1 = f1_score(nlp_test.target, test_preds, average='micro')\n",
    "        train_f1, test_f1\n",
    "        print('train_f1:',train_f1,'test_f1:', test_f1, \",\",\"C\", i, \"min_df\",  j)\n",
    "        if( test_f1 > max_test_f1):\n",
    "            opt_n = i\n",
    "            opt_min_df = j \n",
    "            max_test_f1 = test_f1"
   ]
  },
  {
   "cell_type": "code",
   "execution_count": 27,
   "metadata": {},
   "outputs": [
    {
     "name": "stdout",
     "output_type": "stream",
     "text": [
      "1.5 6 0.9136894234170498\n"
     ]
    }
   ],
   "source": [
    "print(opt_n, opt_min_df, max_test_f1)"
   ]
  },
  {
   "cell_type": "code",
   "execution_count": 28,
   "metadata": {},
   "outputs": [
    {
     "name": "stdout",
     "output_type": "stream",
     "text": [
      "train_f1: 0.978013646702047 test_f1: 0.8967102935974531 , C 0.5 min_df 2\n",
      "train_f1: 0.9742228961334344 test_f1: 0.8974177573399363 , C 0.5 min_df 3\n",
      "train_f1: 0.9704321455648218 test_f1: 0.8977714892111779 , C 0.5 min_df 4\n",
      "train_f1: 0.9684609552691433 test_f1: 0.8956490979837284 , C 0.5 min_df 5\n",
      "train_f1: 0.9661865049279758 test_f1: 0.8956490979837284 , C 0.5 min_df 6\n",
      "train_f1: 0.9664897649734647 test_f1: 0.894234170498762 , C 0.5 min_df 7\n",
      "train_f1: 0.9643669446550417 test_f1: 0.8956490979837284 , C 0.5 min_df 8\n",
      "train_f1: 0.9625473843821076 test_f1: 0.8952953661124867 , C 0.5 min_df 9\n",
      "train_f1: 0.9878695981804397 test_f1: 0.9037849310222851 , C 1.0 min_df 2\n"
     ]
    },
    {
     "name": "stderr",
     "output_type": "stream",
     "text": [
      "C:\\Users\\a5694\\Anaconda3\\lib\\site-packages\\sklearn\\linear_model\\_logistic.py:939: ConvergenceWarning: lbfgs failed to converge (status=1):\n",
      "STOP: TOTAL NO. of ITERATIONS REACHED LIMIT.\n",
      "\n",
      "Increase the number of iterations (max_iter) or scale the data as shown in:\n",
      "    https://scikit-learn.org/stable/modules/preprocessing.html.\n",
      "Please also refer to the documentation for alternative solver options:\n",
      "    https://scikit-learn.org/stable/modules/linear_model.html#logistic-regression\n",
      "  extra_warning_msg=_LOGISTIC_SOLVER_CONVERGENCE_MSG)\n"
     ]
    },
    {
     "name": "stdout",
     "output_type": "stream",
     "text": [
      "train_f1: 0.9851402577710386 test_f1: 0.9030774672798019 , C 1.0 min_df 3\n"
     ]
    },
    {
     "name": "stderr",
     "output_type": "stream",
     "text": [
      "C:\\Users\\a5694\\Anaconda3\\lib\\site-packages\\sklearn\\linear_model\\_logistic.py:939: ConvergenceWarning: lbfgs failed to converge (status=1):\n",
      "STOP: TOTAL NO. of ITERATIONS REACHED LIMIT.\n",
      "\n",
      "Increase the number of iterations (max_iter) or scale the data as shown in:\n",
      "    https://scikit-learn.org/stable/modules/preprocessing.html.\n",
      "Please also refer to the documentation for alternative solver options:\n",
      "    https://scikit-learn.org/stable/modules/linear_model.html#logistic-regression\n",
      "  extra_warning_msg=_LOGISTIC_SOLVER_CONVERGENCE_MSG)\n"
     ]
    },
    {
     "name": "stdout",
     "output_type": "stream",
     "text": [
      "train_f1: 0.9824109173616377 test_f1: 0.9027237354085603 , C 1.0 min_df 4\n",
      "train_f1: 0.9799848369977255 test_f1: 0.9013088079235939 , C 1.0 min_df 5\n"
     ]
    },
    {
     "name": "stderr",
     "output_type": "stream",
     "text": [
      "C:\\Users\\a5694\\Anaconda3\\lib\\site-packages\\sklearn\\linear_model\\_logistic.py:939: ConvergenceWarning: lbfgs failed to converge (status=1):\n",
      "STOP: TOTAL NO. of ITERATIONS REACHED LIMIT.\n",
      "\n",
      "Increase the number of iterations (max_iter) or scale the data as shown in:\n",
      "    https://scikit-learn.org/stable/modules/preprocessing.html.\n",
      "Please also refer to the documentation for alternative solver options:\n",
      "    https://scikit-learn.org/stable/modules/linear_model.html#logistic-regression\n",
      "  extra_warning_msg=_LOGISTIC_SOLVER_CONVERGENCE_MSG)\n"
     ]
    },
    {
     "name": "stdout",
     "output_type": "stream",
     "text": [
      "train_f1: 0.9790750568612585 test_f1: 0.9013088079235939 , C 1.0 min_df 6\n",
      "train_f1: 0.977407126611069 test_f1: 0.8984789529536611 , C 1.0 min_df 7\n"
     ]
    },
    {
     "name": "stderr",
     "output_type": "stream",
     "text": [
      "C:\\Users\\a5694\\Anaconda3\\lib\\site-packages\\sklearn\\linear_model\\_logistic.py:939: ConvergenceWarning: lbfgs failed to converge (status=1):\n",
      "STOP: TOTAL NO. of ITERATIONS REACHED LIMIT.\n",
      "\n",
      "Increase the number of iterations (max_iter) or scale the data as shown in:\n",
      "    https://scikit-learn.org/stable/modules/preprocessing.html.\n",
      "Please also refer to the documentation for alternative solver options:\n",
      "    https://scikit-learn.org/stable/modules/linear_model.html#logistic-regression\n",
      "  extra_warning_msg=_LOGISTIC_SOLVER_CONVERGENCE_MSG)\n"
     ]
    },
    {
     "name": "stdout",
     "output_type": "stream",
     "text": [
      "train_f1: 0.9760424564063684 test_f1: 0.8977714892111779 , C 1.0 min_df 8\n",
      "train_f1: 0.97407126611069 test_f1: 0.8977714892111779 , C 1.0 min_df 9\n",
      "train_f1: 0.9915087187263079 test_f1: 0.9066147859922179 , C 1.5 min_df 2\n"
     ]
    },
    {
     "name": "stderr",
     "output_type": "stream",
     "text": [
      "C:\\Users\\a5694\\Anaconda3\\lib\\site-packages\\sklearn\\linear_model\\_logistic.py:939: ConvergenceWarning: lbfgs failed to converge (status=1):\n",
      "STOP: TOTAL NO. of ITERATIONS REACHED LIMIT.\n",
      "\n",
      "Increase the number of iterations (max_iter) or scale the data as shown in:\n",
      "    https://scikit-learn.org/stable/modules/preprocessing.html.\n",
      "Please also refer to the documentation for alternative solver options:\n",
      "    https://scikit-learn.org/stable/modules/linear_model.html#logistic-regression\n",
      "  extra_warning_msg=_LOGISTIC_SOLVER_CONVERGENCE_MSG)\n"
     ]
    },
    {
     "name": "stdout",
     "output_type": "stream",
     "text": [
      "train_f1: 0.9893858984078847 test_f1: 0.9059073222497347 , C 1.5 min_df 3\n"
     ]
    },
    {
     "name": "stderr",
     "output_type": "stream",
     "text": [
      "C:\\Users\\a5694\\Anaconda3\\lib\\site-packages\\sklearn\\linear_model\\_logistic.py:939: ConvergenceWarning: lbfgs failed to converge (status=1):\n",
      "STOP: TOTAL NO. of ITERATIONS REACHED LIMIT.\n",
      "\n",
      "Increase the number of iterations (max_iter) or scale the data as shown in:\n",
      "    https://scikit-learn.org/stable/modules/preprocessing.html.\n",
      "Please also refer to the documentation for alternative solver options:\n",
      "    https://scikit-learn.org/stable/modules/linear_model.html#logistic-regression\n",
      "  extra_warning_msg=_LOGISTIC_SOLVER_CONVERGENCE_MSG)\n"
     ]
    },
    {
     "name": "stdout",
     "output_type": "stream",
     "text": [
      "train_f1: 0.9866565579984837 test_f1: 0.9069685178634594 , C 1.5 min_df 4\n"
     ]
    },
    {
     "name": "stderr",
     "output_type": "stream",
     "text": [
      "C:\\Users\\a5694\\Anaconda3\\lib\\site-packages\\sklearn\\linear_model\\_logistic.py:939: ConvergenceWarning: lbfgs failed to converge (status=1):\n",
      "STOP: TOTAL NO. of ITERATIONS REACHED LIMIT.\n",
      "\n",
      "Increase the number of iterations (max_iter) or scale the data as shown in:\n",
      "    https://scikit-learn.org/stable/modules/preprocessing.html.\n",
      "Please also refer to the documentation for alternative solver options:\n",
      "    https://scikit-learn.org/stable/modules/linear_model.html#logistic-regression\n",
      "  extra_warning_msg=_LOGISTIC_SOLVER_CONVERGENCE_MSG)\n"
     ]
    },
    {
     "name": "stdout",
     "output_type": "stream",
     "text": [
      "train_f1: 0.9849886277482942 test_f1: 0.9051998585072514 , C 1.5 min_df 5\n"
     ]
    },
    {
     "name": "stderr",
     "output_type": "stream",
     "text": [
      "C:\\Users\\a5694\\Anaconda3\\lib\\site-packages\\sklearn\\linear_model\\_logistic.py:939: ConvergenceWarning: lbfgs failed to converge (status=1):\n",
      "STOP: TOTAL NO. of ITERATIONS REACHED LIMIT.\n",
      "\n",
      "Increase the number of iterations (max_iter) or scale the data as shown in:\n",
      "    https://scikit-learn.org/stable/modules/preprocessing.html.\n",
      "Please also refer to the documentation for alternative solver options:\n",
      "    https://scikit-learn.org/stable/modules/linear_model.html#logistic-regression\n",
      "  extra_warning_msg=_LOGISTIC_SOLVER_CONVERGENCE_MSG)\n"
     ]
    },
    {
     "name": "stdout",
     "output_type": "stream",
     "text": [
      "train_f1: 0.9833206974981046 test_f1: 0.9030774672798019 , C 1.5 min_df 6\n"
     ]
    },
    {
     "name": "stderr",
     "output_type": "stream",
     "text": [
      "C:\\Users\\a5694\\Anaconda3\\lib\\site-packages\\sklearn\\linear_model\\_logistic.py:939: ConvergenceWarning: lbfgs failed to converge (status=1):\n",
      "STOP: TOTAL NO. of ITERATIONS REACHED LIMIT.\n",
      "\n",
      "Increase the number of iterations (max_iter) or scale the data as shown in:\n",
      "    https://scikit-learn.org/stable/modules/preprocessing.html.\n",
      "Please also refer to the documentation for alternative solver options:\n",
      "    https://scikit-learn.org/stable/modules/linear_model.html#logistic-regression\n",
      "  extra_warning_msg=_LOGISTIC_SOLVER_CONVERGENCE_MSG)\n"
     ]
    },
    {
     "name": "stdout",
     "output_type": "stream",
     "text": [
      "train_f1: 0.9828658074298711 test_f1: 0.9006013441811107 , C 1.5 min_df 7\n"
     ]
    },
    {
     "name": "stderr",
     "output_type": "stream",
     "text": [
      "C:\\Users\\a5694\\Anaconda3\\lib\\site-packages\\sklearn\\linear_model\\_logistic.py:939: ConvergenceWarning: lbfgs failed to converge (status=1):\n",
      "STOP: TOTAL NO. of ITERATIONS REACHED LIMIT.\n",
      "\n",
      "Increase the number of iterations (max_iter) or scale the data as shown in:\n",
      "    https://scikit-learn.org/stable/modules/preprocessing.html.\n",
      "Please also refer to the documentation for alternative solver options:\n",
      "    https://scikit-learn.org/stable/modules/linear_model.html#logistic-regression\n",
      "  extra_warning_msg=_LOGISTIC_SOLVER_CONVERGENCE_MSG)\n"
     ]
    },
    {
     "name": "stdout",
     "output_type": "stream",
     "text": [
      "train_f1: 0.9813495072024261 test_f1: 0.9013088079235939 , C 1.5 min_df 8\n"
     ]
    },
    {
     "name": "stderr",
     "output_type": "stream",
     "text": [
      "C:\\Users\\a5694\\Anaconda3\\lib\\site-packages\\sklearn\\linear_model\\_logistic.py:939: ConvergenceWarning: lbfgs failed to converge (status=1):\n",
      "STOP: TOTAL NO. of ITERATIONS REACHED LIMIT.\n",
      "\n",
      "Increase the number of iterations (max_iter) or scale the data as shown in:\n",
      "    https://scikit-learn.org/stable/modules/preprocessing.html.\n",
      "Please also refer to the documentation for alternative solver options:\n",
      "    https://scikit-learn.org/stable/modules/linear_model.html#logistic-regression\n",
      "  extra_warning_msg=_LOGISTIC_SOLVER_CONVERGENCE_MSG)\n"
     ]
    },
    {
     "name": "stdout",
     "output_type": "stream",
     "text": [
      "train_f1: 0.9802880970432145 test_f1: 0.899540148567386 , C 1.5 min_df 9\n"
     ]
    },
    {
     "name": "stderr",
     "output_type": "stream",
     "text": [
      "C:\\Users\\a5694\\Anaconda3\\lib\\site-packages\\sklearn\\linear_model\\_logistic.py:939: ConvergenceWarning: lbfgs failed to converge (status=1):\n",
      "STOP: TOTAL NO. of ITERATIONS REACHED LIMIT.\n",
      "\n",
      "Increase the number of iterations (max_iter) or scale the data as shown in:\n",
      "    https://scikit-learn.org/stable/modules/preprocessing.html.\n",
      "Please also refer to the documentation for alternative solver options:\n",
      "    https://scikit-learn.org/stable/modules/linear_model.html#logistic-regression\n",
      "  extra_warning_msg=_LOGISTIC_SOLVER_CONVERGENCE_MSG)\n"
     ]
    },
    {
     "name": "stdout",
     "output_type": "stream",
     "text": [
      "train_f1: 0.9931766489764974 test_f1: 0.9055535903784931 , C 2.0 min_df 2\n"
     ]
    },
    {
     "name": "stderr",
     "output_type": "stream",
     "text": [
      "C:\\Users\\a5694\\Anaconda3\\lib\\site-packages\\sklearn\\linear_model\\_logistic.py:939: ConvergenceWarning: lbfgs failed to converge (status=1):\n",
      "STOP: TOTAL NO. of ITERATIONS REACHED LIMIT.\n",
      "\n",
      "Increase the number of iterations (max_iter) or scale the data as shown in:\n",
      "    https://scikit-learn.org/stable/modules/preprocessing.html.\n",
      "Please also refer to the documentation for alternative solver options:\n",
      "    https://scikit-learn.org/stable/modules/linear_model.html#logistic-regression\n",
      "  extra_warning_msg=_LOGISTIC_SOLVER_CONVERGENCE_MSG)\n"
     ]
    },
    {
     "name": "stdout",
     "output_type": "stream",
     "text": [
      "train_f1: 0.9907505686125853 test_f1: 0.9076759816059426 , C 2.0 min_df 3\n"
     ]
    },
    {
     "name": "stderr",
     "output_type": "stream",
     "text": [
      "C:\\Users\\a5694\\Anaconda3\\lib\\site-packages\\sklearn\\linear_model\\_logistic.py:939: ConvergenceWarning: lbfgs failed to converge (status=1):\n",
      "STOP: TOTAL NO. of ITERATIONS REACHED LIMIT.\n",
      "\n",
      "Increase the number of iterations (max_iter) or scale the data as shown in:\n",
      "    https://scikit-learn.org/stable/modules/preprocessing.html.\n",
      "Please also refer to the documentation for alternative solver options:\n",
      "    https://scikit-learn.org/stable/modules/linear_model.html#logistic-regression\n",
      "  extra_warning_msg=_LOGISTIC_SOLVER_CONVERGENCE_MSG)\n"
     ]
    },
    {
     "name": "stdout",
     "output_type": "stream",
     "text": [
      "train_f1: 0.9895375284306293 test_f1: 0.9062610541209764 , C 2.0 min_df 4\n"
     ]
    },
    {
     "name": "stderr",
     "output_type": "stream",
     "text": [
      "C:\\Users\\a5694\\Anaconda3\\lib\\site-packages\\sklearn\\linear_model\\_logistic.py:939: ConvergenceWarning: lbfgs failed to converge (status=1):\n",
      "STOP: TOTAL NO. of ITERATIONS REACHED LIMIT.\n",
      "\n",
      "Increase the number of iterations (max_iter) or scale the data as shown in:\n",
      "    https://scikit-learn.org/stable/modules/preprocessing.html.\n",
      "Please also refer to the documentation for alternative solver options:\n",
      "    https://scikit-learn.org/stable/modules/linear_model.html#logistic-regression\n",
      "  extra_warning_msg=_LOGISTIC_SOLVER_CONVERGENCE_MSG)\n"
     ]
    },
    {
     "name": "stdout",
     "output_type": "stream",
     "text": [
      "train_f1: 0.9884761182714178 test_f1: 0.9034311991510435 , C 2.0 min_df 5\n"
     ]
    },
    {
     "name": "stderr",
     "output_type": "stream",
     "text": [
      "C:\\Users\\a5694\\Anaconda3\\lib\\site-packages\\sklearn\\linear_model\\_logistic.py:939: ConvergenceWarning: lbfgs failed to converge (status=1):\n",
      "STOP: TOTAL NO. of ITERATIONS REACHED LIMIT.\n",
      "\n",
      "Increase the number of iterations (max_iter) or scale the data as shown in:\n",
      "    https://scikit-learn.org/stable/modules/preprocessing.html.\n",
      "Please also refer to the documentation for alternative solver options:\n",
      "    https://scikit-learn.org/stable/modules/linear_model.html#logistic-regression\n",
      "  extra_warning_msg=_LOGISTIC_SOLVER_CONVERGENCE_MSG)\n"
     ]
    },
    {
     "name": "stdout",
     "output_type": "stream",
     "text": [
      "train_f1: 0.9871114480667172 test_f1: 0.9016625397948355 , C 2.0 min_df 6\n"
     ]
    },
    {
     "name": "stderr",
     "output_type": "stream",
     "text": [
      "C:\\Users\\a5694\\Anaconda3\\lib\\site-packages\\sklearn\\linear_model\\_logistic.py:939: ConvergenceWarning: lbfgs failed to converge (status=1):\n",
      "STOP: TOTAL NO. of ITERATIONS REACHED LIMIT.\n",
      "\n",
      "Increase the number of iterations (max_iter) or scale the data as shown in:\n",
      "    https://scikit-learn.org/stable/modules/preprocessing.html.\n",
      "Please also refer to the documentation for alternative solver options:\n",
      "    https://scikit-learn.org/stable/modules/linear_model.html#logistic-regression\n",
      "  extra_warning_msg=_LOGISTIC_SOLVER_CONVERGENCE_MSG)\n"
     ]
    },
    {
     "name": "stdout",
     "output_type": "stream",
     "text": [
      "train_f1: 0.9865049279757392 test_f1: 0.9013088079235939 , C 2.0 min_df 7\n"
     ]
    },
    {
     "name": "stderr",
     "output_type": "stream",
     "text": [
      "C:\\Users\\a5694\\Anaconda3\\lib\\site-packages\\sklearn\\linear_model\\_logistic.py:939: ConvergenceWarning: lbfgs failed to converge (status=1):\n",
      "STOP: TOTAL NO. of ITERATIONS REACHED LIMIT.\n",
      "\n",
      "Increase the number of iterations (max_iter) or scale the data as shown in:\n",
      "    https://scikit-learn.org/stable/modules/preprocessing.html.\n",
      "Please also refer to the documentation for alternative solver options:\n",
      "    https://scikit-learn.org/stable/modules/linear_model.html#logistic-regression\n",
      "  extra_warning_msg=_LOGISTIC_SOLVER_CONVERGENCE_MSG)\n"
     ]
    },
    {
     "name": "stdout",
     "output_type": "stream",
     "text": [
      "train_f1: 0.9842304776345716 test_f1: 0.9006013441811107 , C 2.0 min_df 8\n"
     ]
    },
    {
     "name": "stderr",
     "output_type": "stream",
     "text": [
      "C:\\Users\\a5694\\Anaconda3\\lib\\site-packages\\sklearn\\linear_model\\_logistic.py:939: ConvergenceWarning: lbfgs failed to converge (status=1):\n",
      "STOP: TOTAL NO. of ITERATIONS REACHED LIMIT.\n",
      "\n",
      "Increase the number of iterations (max_iter) or scale the data as shown in:\n",
      "    https://scikit-learn.org/stable/modules/preprocessing.html.\n",
      "Please also refer to the documentation for alternative solver options:\n",
      "    https://scikit-learn.org/stable/modules/linear_model.html#logistic-regression\n",
      "  extra_warning_msg=_LOGISTIC_SOLVER_CONVERGENCE_MSG)\n"
     ]
    },
    {
     "name": "stdout",
     "output_type": "stream",
     "text": [
      "train_f1: 0.9830174374526156 test_f1: 0.8998938804386275 , C 2.0 min_df 9\n"
     ]
    },
    {
     "name": "stderr",
     "output_type": "stream",
     "text": [
      "C:\\Users\\a5694\\Anaconda3\\lib\\site-packages\\sklearn\\linear_model\\_logistic.py:939: ConvergenceWarning: lbfgs failed to converge (status=1):\n",
      "STOP: TOTAL NO. of ITERATIONS REACHED LIMIT.\n",
      "\n",
      "Increase the number of iterations (max_iter) or scale the data as shown in:\n",
      "    https://scikit-learn.org/stable/modules/preprocessing.html.\n",
      "Please also refer to the documentation for alternative solver options:\n",
      "    https://scikit-learn.org/stable/modules/linear_model.html#logistic-regression\n",
      "  extra_warning_msg=_LOGISTIC_SOLVER_CONVERGENCE_MSG)\n"
     ]
    },
    {
     "name": "stdout",
     "output_type": "stream",
     "text": [
      "train_f1: 0.9937831690674753 test_f1: 0.9055535903784931 , C 2.5 min_df 2\n"
     ]
    },
    {
     "name": "stderr",
     "output_type": "stream",
     "text": [
      "C:\\Users\\a5694\\Anaconda3\\lib\\site-packages\\sklearn\\linear_model\\_logistic.py:939: ConvergenceWarning: lbfgs failed to converge (status=1):\n",
      "STOP: TOTAL NO. of ITERATIONS REACHED LIMIT.\n",
      "\n",
      "Increase the number of iterations (max_iter) or scale the data as shown in:\n",
      "    https://scikit-learn.org/stable/modules/preprocessing.html.\n",
      "Please also refer to the documentation for alternative solver options:\n",
      "    https://scikit-learn.org/stable/modules/linear_model.html#logistic-regression\n",
      "  extra_warning_msg=_LOGISTIC_SOLVER_CONVERGENCE_MSG)\n"
     ]
    },
    {
     "name": "stdout",
     "output_type": "stream",
     "text": [
      "train_f1: 0.9919636087945414 test_f1: 0.9076759816059426 , C 2.5 min_df 3\n"
     ]
    },
    {
     "name": "stderr",
     "output_type": "stream",
     "text": [
      "C:\\Users\\a5694\\Anaconda3\\lib\\site-packages\\sklearn\\linear_model\\_logistic.py:939: ConvergenceWarning: lbfgs failed to converge (status=1):\n",
      "STOP: TOTAL NO. of ITERATIONS REACHED LIMIT.\n",
      "\n",
      "Increase the number of iterations (max_iter) or scale the data as shown in:\n",
      "    https://scikit-learn.org/stable/modules/preprocessing.html.\n",
      "Please also refer to the documentation for alternative solver options:\n",
      "    https://scikit-learn.org/stable/modules/linear_model.html#logistic-regression\n",
      "  extra_warning_msg=_LOGISTIC_SOLVER_CONVERGENCE_MSG)\n"
     ]
    },
    {
     "name": "stdout",
     "output_type": "stream",
     "text": [
      "train_f1: 0.9912054586808188 test_f1: 0.9051998585072514 , C 2.5 min_df 4\n"
     ]
    },
    {
     "name": "stderr",
     "output_type": "stream",
     "text": [
      "C:\\Users\\a5694\\Anaconda3\\lib\\site-packages\\sklearn\\linear_model\\_logistic.py:939: ConvergenceWarning: lbfgs failed to converge (status=1):\n",
      "STOP: TOTAL NO. of ITERATIONS REACHED LIMIT.\n",
      "\n",
      "Increase the number of iterations (max_iter) or scale the data as shown in:\n",
      "    https://scikit-learn.org/stable/modules/preprocessing.html.\n",
      "Please also refer to the documentation for alternative solver options:\n",
      "    https://scikit-learn.org/stable/modules/linear_model.html#logistic-regression\n",
      "  extra_warning_msg=_LOGISTIC_SOLVER_CONVERGENCE_MSG)\n"
     ]
    },
    {
     "name": "stdout",
     "output_type": "stream",
     "text": [
      "train_f1: 0.9899924184988628 test_f1: 0.9048461266360099 , C 2.5 min_df 5\n"
     ]
    },
    {
     "name": "stderr",
     "output_type": "stream",
     "text": [
      "C:\\Users\\a5694\\Anaconda3\\lib\\site-packages\\sklearn\\linear_model\\_logistic.py:939: ConvergenceWarning: lbfgs failed to converge (status=1):\n",
      "STOP: TOTAL NO. of ITERATIONS REACHED LIMIT.\n",
      "\n",
      "Increase the number of iterations (max_iter) or scale the data as shown in:\n",
      "    https://scikit-learn.org/stable/modules/preprocessing.html.\n",
      "Please also refer to the documentation for alternative solver options:\n",
      "    https://scikit-learn.org/stable/modules/linear_model.html#logistic-regression\n",
      "  extra_warning_msg=_LOGISTIC_SOLVER_CONVERGENCE_MSG)\n"
     ]
    },
    {
     "name": "stdout",
     "output_type": "stream",
     "text": [
      "train_f1: 0.9884761182714178 test_f1: 0.9013088079235939 , C 2.5 min_df 6\n"
     ]
    },
    {
     "name": "stderr",
     "output_type": "stream",
     "text": [
      "C:\\Users\\a5694\\Anaconda3\\lib\\site-packages\\sklearn\\linear_model\\_logistic.py:939: ConvergenceWarning: lbfgs failed to converge (status=1):\n",
      "STOP: TOTAL NO. of ITERATIONS REACHED LIMIT.\n",
      "\n",
      "Increase the number of iterations (max_iter) or scale the data as shown in:\n",
      "    https://scikit-learn.org/stable/modules/preprocessing.html.\n",
      "Please also refer to the documentation for alternative solver options:\n",
      "    https://scikit-learn.org/stable/modules/linear_model.html#logistic-regression\n",
      "  extra_warning_msg=_LOGISTIC_SOLVER_CONVERGENCE_MSG)\n"
     ]
    },
    {
     "name": "stdout",
     "output_type": "stream",
     "text": [
      "train_f1: 0.9878695981804397 test_f1: 0.8974177573399363 , C 2.5 min_df 7\n"
     ]
    },
    {
     "name": "stderr",
     "output_type": "stream",
     "text": [
      "C:\\Users\\a5694\\Anaconda3\\lib\\site-packages\\sklearn\\linear_model\\_logistic.py:939: ConvergenceWarning: lbfgs failed to converge (status=1):\n",
      "STOP: TOTAL NO. of ITERATIONS REACHED LIMIT.\n",
      "\n",
      "Increase the number of iterations (max_iter) or scale the data as shown in:\n",
      "    https://scikit-learn.org/stable/modules/preprocessing.html.\n",
      "Please also refer to the documentation for alternative solver options:\n",
      "    https://scikit-learn.org/stable/modules/linear_model.html#logistic-regression\n",
      "  extra_warning_msg=_LOGISTIC_SOLVER_CONVERGENCE_MSG)\n"
     ]
    },
    {
     "name": "stdout",
     "output_type": "stream",
     "text": [
      "train_f1: 0.9865049279757392 test_f1: 0.9002476123098692 , C 2.5 min_df 8\n"
     ]
    },
    {
     "name": "stderr",
     "output_type": "stream",
     "text": [
      "C:\\Users\\a5694\\Anaconda3\\lib\\site-packages\\sklearn\\linear_model\\_logistic.py:939: ConvergenceWarning: lbfgs failed to converge (status=1):\n",
      "STOP: TOTAL NO. of ITERATIONS REACHED LIMIT.\n",
      "\n",
      "Increase the number of iterations (max_iter) or scale the data as shown in:\n",
      "    https://scikit-learn.org/stable/modules/preprocessing.html.\n",
      "Please also refer to the documentation for alternative solver options:\n",
      "    https://scikit-learn.org/stable/modules/linear_model.html#logistic-regression\n",
      "  extra_warning_msg=_LOGISTIC_SOLVER_CONVERGENCE_MSG)\n"
     ]
    },
    {
     "name": "stdout",
     "output_type": "stream",
     "text": [
      "train_f1: 0.9854435178165277 test_f1: 0.8981252210824195 , C 2.5 min_df 9\n"
     ]
    },
    {
     "name": "stderr",
     "output_type": "stream",
     "text": [
      "C:\\Users\\a5694\\Anaconda3\\lib\\site-packages\\sklearn\\linear_model\\_logistic.py:939: ConvergenceWarning: lbfgs failed to converge (status=1):\n",
      "STOP: TOTAL NO. of ITERATIONS REACHED LIMIT.\n",
      "\n",
      "Increase the number of iterations (max_iter) or scale the data as shown in:\n",
      "    https://scikit-learn.org/stable/modules/preprocessing.html.\n",
      "Please also refer to the documentation for alternative solver options:\n",
      "    https://scikit-learn.org/stable/modules/linear_model.html#logistic-regression\n",
      "  extra_warning_msg=_LOGISTIC_SOLVER_CONVERGENCE_MSG)\n"
     ]
    },
    {
     "name": "stdout",
     "output_type": "stream",
     "text": [
      "train_f1: 0.9940864291129644 test_f1: 0.9048461266360099 , C 3.0 min_df 2\n"
     ]
    },
    {
     "name": "stderr",
     "output_type": "stream",
     "text": [
      "C:\\Users\\a5694\\Anaconda3\\lib\\site-packages\\sklearn\\linear_model\\_logistic.py:939: ConvergenceWarning: lbfgs failed to converge (status=1):\n",
      "STOP: TOTAL NO. of ITERATIONS REACHED LIMIT.\n",
      "\n",
      "Increase the number of iterations (max_iter) or scale the data as shown in:\n",
      "    https://scikit-learn.org/stable/modules/preprocessing.html.\n",
      "Please also refer to the documentation for alternative solver options:\n",
      "    https://scikit-learn.org/stable/modules/linear_model.html#logistic-regression\n",
      "  extra_warning_msg=_LOGISTIC_SOLVER_CONVERGENCE_MSG)\n"
     ]
    },
    {
     "name": "stdout",
     "output_type": "stream",
     "text": [
      "train_f1: 0.9927217589082639 test_f1: 0.9073222497347011 , C 3.0 min_df 3\n"
     ]
    },
    {
     "name": "stderr",
     "output_type": "stream",
     "text": [
      "C:\\Users\\a5694\\Anaconda3\\lib\\site-packages\\sklearn\\linear_model\\_logistic.py:939: ConvergenceWarning: lbfgs failed to converge (status=1):\n",
      "STOP: TOTAL NO. of ITERATIONS REACHED LIMIT.\n",
      "\n",
      "Increase the number of iterations (max_iter) or scale the data as shown in:\n",
      "    https://scikit-learn.org/stable/modules/preprocessing.html.\n",
      "Please also refer to the documentation for alternative solver options:\n",
      "    https://scikit-learn.org/stable/modules/linear_model.html#logistic-regression\n",
      "  extra_warning_msg=_LOGISTIC_SOLVER_CONVERGENCE_MSG)\n"
     ]
    },
    {
     "name": "stdout",
     "output_type": "stream",
     "text": [
      "train_f1: 0.9913570887035633 test_f1: 0.9051998585072514 , C 3.0 min_df 4\n"
     ]
    },
    {
     "name": "stderr",
     "output_type": "stream",
     "text": [
      "C:\\Users\\a5694\\Anaconda3\\lib\\site-packages\\sklearn\\linear_model\\_logistic.py:939: ConvergenceWarning: lbfgs failed to converge (status=1):\n",
      "STOP: TOTAL NO. of ITERATIONS REACHED LIMIT.\n",
      "\n",
      "Increase the number of iterations (max_iter) or scale the data as shown in:\n",
      "    https://scikit-learn.org/stable/modules/preprocessing.html.\n",
      "Please also refer to the documentation for alternative solver options:\n",
      "    https://scikit-learn.org/stable/modules/linear_model.html#logistic-regression\n",
      "  extra_warning_msg=_LOGISTIC_SOLVER_CONVERGENCE_MSG)\n"
     ]
    },
    {
     "name": "stdout",
     "output_type": "stream",
     "text": [
      "train_f1: 0.9905989385898408 test_f1: 0.9048461266360099 , C 3.0 min_df 5\n"
     ]
    },
    {
     "name": "stderr",
     "output_type": "stream",
     "text": [
      "C:\\Users\\a5694\\Anaconda3\\lib\\site-packages\\sklearn\\linear_model\\_logistic.py:939: ConvergenceWarning: lbfgs failed to converge (status=1):\n",
      "STOP: TOTAL NO. of ITERATIONS REACHED LIMIT.\n",
      "\n",
      "Increase the number of iterations (max_iter) or scale the data as shown in:\n",
      "    https://scikit-learn.org/stable/modules/preprocessing.html.\n",
      "Please also refer to the documentation for alternative solver options:\n",
      "    https://scikit-learn.org/stable/modules/linear_model.html#logistic-regression\n",
      "  extra_warning_msg=_LOGISTIC_SOLVER_CONVERGENCE_MSG)\n"
     ]
    },
    {
     "name": "stdout",
     "output_type": "stream",
     "text": [
      "train_f1: 0.9893858984078847 test_f1: 0.899540148567386 , C 3.0 min_df 6\n"
     ]
    },
    {
     "name": "stderr",
     "output_type": "stream",
     "text": [
      "C:\\Users\\a5694\\Anaconda3\\lib\\site-packages\\sklearn\\linear_model\\_logistic.py:939: ConvergenceWarning: lbfgs failed to converge (status=1):\n",
      "STOP: TOTAL NO. of ITERATIONS REACHED LIMIT.\n",
      "\n",
      "Increase the number of iterations (max_iter) or scale the data as shown in:\n",
      "    https://scikit-learn.org/stable/modules/preprocessing.html.\n",
      "Please also refer to the documentation for alternative solver options:\n",
      "    https://scikit-learn.org/stable/modules/linear_model.html#logistic-regression\n",
      "  extra_warning_msg=_LOGISTIC_SOLVER_CONVERGENCE_MSG)\n"
     ]
    },
    {
     "name": "stdout",
     "output_type": "stream",
     "text": [
      "train_f1: 0.9890826383623957 test_f1: 0.8977714892111779 , C 3.0 min_df 7\n"
     ]
    },
    {
     "name": "stderr",
     "output_type": "stream",
     "text": [
      "C:\\Users\\a5694\\Anaconda3\\lib\\site-packages\\sklearn\\linear_model\\_logistic.py:939: ConvergenceWarning: lbfgs failed to converge (status=1):\n",
      "STOP: TOTAL NO. of ITERATIONS REACHED LIMIT.\n",
      "\n",
      "Increase the number of iterations (max_iter) or scale the data as shown in:\n",
      "    https://scikit-learn.org/stable/modules/preprocessing.html.\n",
      "Please also refer to the documentation for alternative solver options:\n",
      "    https://scikit-learn.org/stable/modules/linear_model.html#logistic-regression\n",
      "  extra_warning_msg=_LOGISTIC_SOLVER_CONVERGENCE_MSG)\n"
     ]
    },
    {
     "name": "stdout",
     "output_type": "stream",
     "text": [
      "train_f1: 0.9884761182714178 test_f1: 0.8977714892111779 , C 3.0 min_df 8\n"
     ]
    },
    {
     "name": "stderr",
     "output_type": "stream",
     "text": [
      "C:\\Users\\a5694\\Anaconda3\\lib\\site-packages\\sklearn\\linear_model\\_logistic.py:939: ConvergenceWarning: lbfgs failed to converge (status=1):\n",
      "STOP: TOTAL NO. of ITERATIONS REACHED LIMIT.\n",
      "\n",
      "Increase the number of iterations (max_iter) or scale the data as shown in:\n",
      "    https://scikit-learn.org/stable/modules/preprocessing.html.\n",
      "Please also refer to the documentation for alternative solver options:\n",
      "    https://scikit-learn.org/stable/modules/linear_model.html#logistic-regression\n",
      "  extra_warning_msg=_LOGISTIC_SOLVER_CONVERGENCE_MSG)\n"
     ]
    },
    {
     "name": "stdout",
     "output_type": "stream",
     "text": [
      "train_f1: 0.9872630780894617 test_f1: 0.8981252210824195 , C 3.0 min_df 9\n"
     ]
    },
    {
     "name": "stderr",
     "output_type": "stream",
     "text": [
      "C:\\Users\\a5694\\Anaconda3\\lib\\site-packages\\sklearn\\linear_model\\_logistic.py:939: ConvergenceWarning: lbfgs failed to converge (status=1):\n",
      "STOP: TOTAL NO. of ITERATIONS REACHED LIMIT.\n",
      "\n",
      "Increase the number of iterations (max_iter) or scale the data as shown in:\n",
      "    https://scikit-learn.org/stable/modules/preprocessing.html.\n",
      "Please also refer to the documentation for alternative solver options:\n",
      "    https://scikit-learn.org/stable/modules/linear_model.html#logistic-regression\n",
      "  extra_warning_msg=_LOGISTIC_SOLVER_CONVERGENCE_MSG)\n"
     ]
    },
    {
     "name": "stdout",
     "output_type": "stream",
     "text": [
      "train_f1: 0.9948445792266869 test_f1: 0.9041386628935267 , C 3.5 min_df 2\n"
     ]
    },
    {
     "name": "stderr",
     "output_type": "stream",
     "text": [
      "C:\\Users\\a5694\\Anaconda3\\lib\\site-packages\\sklearn\\linear_model\\_logistic.py:939: ConvergenceWarning: lbfgs failed to converge (status=1):\n",
      "STOP: TOTAL NO. of ITERATIONS REACHED LIMIT.\n",
      "\n",
      "Increase the number of iterations (max_iter) or scale the data as shown in:\n",
      "    https://scikit-learn.org/stable/modules/preprocessing.html.\n",
      "Please also refer to the documentation for alternative solver options:\n",
      "    https://scikit-learn.org/stable/modules/linear_model.html#logistic-regression\n",
      "  extra_warning_msg=_LOGISTIC_SOLVER_CONVERGENCE_MSG)\n"
     ]
    },
    {
     "name": "stdout",
     "output_type": "stream",
     "text": [
      "train_f1: 0.9931766489764974 test_f1: 0.9080297134771843 , C 3.5 min_df 3\n"
     ]
    },
    {
     "name": "stderr",
     "output_type": "stream",
     "text": [
      "C:\\Users\\a5694\\Anaconda3\\lib\\site-packages\\sklearn\\linear_model\\_logistic.py:939: ConvergenceWarning: lbfgs failed to converge (status=1):\n",
      "STOP: TOTAL NO. of ITERATIONS REACHED LIMIT.\n",
      "\n",
      "Increase the number of iterations (max_iter) or scale the data as shown in:\n",
      "    https://scikit-learn.org/stable/modules/preprocessing.html.\n",
      "Please also refer to the documentation for alternative solver options:\n",
      "    https://scikit-learn.org/stable/modules/linear_model.html#logistic-regression\n",
      "  extra_warning_msg=_LOGISTIC_SOLVER_CONVERGENCE_MSG)\n"
     ]
    },
    {
     "name": "stdout",
     "output_type": "stream",
     "text": [
      "train_f1: 0.9921152388172858 test_f1: 0.9059073222497347 , C 3.5 min_df 4\n"
     ]
    },
    {
     "name": "stderr",
     "output_type": "stream",
     "text": [
      "C:\\Users\\a5694\\Anaconda3\\lib\\site-packages\\sklearn\\linear_model\\_logistic.py:939: ConvergenceWarning: lbfgs failed to converge (status=1):\n",
      "STOP: TOTAL NO. of ITERATIONS REACHED LIMIT.\n",
      "\n",
      "Increase the number of iterations (max_iter) or scale the data as shown in:\n",
      "    https://scikit-learn.org/stable/modules/preprocessing.html.\n",
      "Please also refer to the documentation for alternative solver options:\n",
      "    https://scikit-learn.org/stable/modules/linear_model.html#logistic-regression\n",
      "  extra_warning_msg=_LOGISTIC_SOLVER_CONVERGENCE_MSG)\n"
     ]
    },
    {
     "name": "stdout",
     "output_type": "stream",
     "text": [
      "train_f1: 0.9909021986353298 test_f1: 0.9044923947647683 , C 3.5 min_df 5\n"
     ]
    },
    {
     "name": "stderr",
     "output_type": "stream",
     "text": [
      "C:\\Users\\a5694\\Anaconda3\\lib\\site-packages\\sklearn\\linear_model\\_logistic.py:939: ConvergenceWarning: lbfgs failed to converge (status=1):\n",
      "STOP: TOTAL NO. of ITERATIONS REACHED LIMIT.\n",
      "\n",
      "Increase the number of iterations (max_iter) or scale the data as shown in:\n",
      "    https://scikit-learn.org/stable/modules/preprocessing.html.\n",
      "Please also refer to the documentation for alternative solver options:\n",
      "    https://scikit-learn.org/stable/modules/linear_model.html#logistic-regression\n",
      "  extra_warning_msg=_LOGISTIC_SOLVER_CONVERGENCE_MSG)\n"
     ]
    },
    {
     "name": "stdout",
     "output_type": "stream",
     "text": [
      "train_f1: 0.9901440485216073 test_f1: 0.8998938804386275 , C 3.5 min_df 6\n"
     ]
    },
    {
     "name": "stderr",
     "output_type": "stream",
     "text": [
      "C:\\Users\\a5694\\Anaconda3\\lib\\site-packages\\sklearn\\linear_model\\_logistic.py:939: ConvergenceWarning: lbfgs failed to converge (status=1):\n",
      "STOP: TOTAL NO. of ITERATIONS REACHED LIMIT.\n",
      "\n",
      "Increase the number of iterations (max_iter) or scale the data as shown in:\n",
      "    https://scikit-learn.org/stable/modules/preprocessing.html.\n",
      "Please also refer to the documentation for alternative solver options:\n",
      "    https://scikit-learn.org/stable/modules/linear_model.html#logistic-regression\n",
      "  extra_warning_msg=_LOGISTIC_SOLVER_CONVERGENCE_MSG)\n"
     ]
    },
    {
     "name": "stdout",
     "output_type": "stream",
     "text": [
      "train_f1: 0.9895375284306293 test_f1: 0.8970640254686947 , C 3.5 min_df 7\n"
     ]
    },
    {
     "name": "stderr",
     "output_type": "stream",
     "text": [
      "C:\\Users\\a5694\\Anaconda3\\lib\\site-packages\\sklearn\\linear_model\\_logistic.py:939: ConvergenceWarning: lbfgs failed to converge (status=1):\n",
      "STOP: TOTAL NO. of ITERATIONS REACHED LIMIT.\n",
      "\n",
      "Increase the number of iterations (max_iter) or scale the data as shown in:\n",
      "    https://scikit-learn.org/stable/modules/preprocessing.html.\n",
      "Please also refer to the documentation for alternative solver options:\n",
      "    https://scikit-learn.org/stable/modules/linear_model.html#logistic-regression\n",
      "  extra_warning_msg=_LOGISTIC_SOLVER_CONVERGENCE_MSG)\n"
     ]
    },
    {
     "name": "stdout",
     "output_type": "stream",
     "text": [
      "train_f1: 0.9893858984078847 test_f1: 0.8984789529536611 , C 3.5 min_df 8\n"
     ]
    },
    {
     "name": "stderr",
     "output_type": "stream",
     "text": [
      "C:\\Users\\a5694\\Anaconda3\\lib\\site-packages\\sklearn\\linear_model\\_logistic.py:939: ConvergenceWarning: lbfgs failed to converge (status=1):\n",
      "STOP: TOTAL NO. of ITERATIONS REACHED LIMIT.\n",
      "\n",
      "Increase the number of iterations (max_iter) or scale the data as shown in:\n",
      "    https://scikit-learn.org/stable/modules/preprocessing.html.\n",
      "Please also refer to the documentation for alternative solver options:\n",
      "    https://scikit-learn.org/stable/modules/linear_model.html#logistic-regression\n",
      "  extra_warning_msg=_LOGISTIC_SOLVER_CONVERGENCE_MSG)\n"
     ]
    },
    {
     "name": "stdout",
     "output_type": "stream",
     "text": [
      "train_f1: 0.9884761182714178 test_f1: 0.8991864166961443 , C 3.5 min_df 9\n"
     ]
    },
    {
     "name": "stderr",
     "output_type": "stream",
     "text": [
      "C:\\Users\\a5694\\Anaconda3\\lib\\site-packages\\sklearn\\linear_model\\_logistic.py:939: ConvergenceWarning: lbfgs failed to converge (status=1):\n",
      "STOP: TOTAL NO. of ITERATIONS REACHED LIMIT.\n",
      "\n",
      "Increase the number of iterations (max_iter) or scale the data as shown in:\n",
      "    https://scikit-learn.org/stable/modules/preprocessing.html.\n",
      "Please also refer to the documentation for alternative solver options:\n",
      "    https://scikit-learn.org/stable/modules/linear_model.html#logistic-regression\n",
      "  extra_warning_msg=_LOGISTIC_SOLVER_CONVERGENCE_MSG)\n"
     ]
    },
    {
     "name": "stdout",
     "output_type": "stream",
     "text": [
      "train_f1: 0.9948445792266869 test_f1: 0.9059073222497347 , C 4.0 min_df 2\n"
     ]
    },
    {
     "name": "stderr",
     "output_type": "stream",
     "text": [
      "C:\\Users\\a5694\\Anaconda3\\lib\\site-packages\\sklearn\\linear_model\\_logistic.py:939: ConvergenceWarning: lbfgs failed to converge (status=1):\n",
      "STOP: TOTAL NO. of ITERATIONS REACHED LIMIT.\n",
      "\n",
      "Increase the number of iterations (max_iter) or scale the data as shown in:\n",
      "    https://scikit-learn.org/stable/modules/preprocessing.html.\n",
      "Please also refer to the documentation for alternative solver options:\n",
      "    https://scikit-learn.org/stable/modules/linear_model.html#logistic-regression\n",
      "  extra_warning_msg=_LOGISTIC_SOLVER_CONVERGENCE_MSG)\n"
     ]
    },
    {
     "name": "stdout",
     "output_type": "stream",
     "text": [
      "train_f1: 0.9934799090219864 test_f1: 0.9073222497347011 , C 4.0 min_df 3\n"
     ]
    },
    {
     "name": "stderr",
     "output_type": "stream",
     "text": [
      "C:\\Users\\a5694\\Anaconda3\\lib\\site-packages\\sklearn\\linear_model\\_logistic.py:939: ConvergenceWarning: lbfgs failed to converge (status=1):\n",
      "STOP: TOTAL NO. of ITERATIONS REACHED LIMIT.\n",
      "\n",
      "Increase the number of iterations (max_iter) or scale the data as shown in:\n",
      "    https://scikit-learn.org/stable/modules/preprocessing.html.\n",
      "Please also refer to the documentation for alternative solver options:\n",
      "    https://scikit-learn.org/stable/modules/linear_model.html#logistic-regression\n",
      "  extra_warning_msg=_LOGISTIC_SOLVER_CONVERGENCE_MSG)\n"
     ]
    },
    {
     "name": "stdout",
     "output_type": "stream",
     "text": [
      "train_f1: 0.9925701288855193 test_f1: 0.9051998585072514 , C 4.0 min_df 4\n"
     ]
    },
    {
     "name": "stderr",
     "output_type": "stream",
     "text": [
      "C:\\Users\\a5694\\Anaconda3\\lib\\site-packages\\sklearn\\linear_model\\_logistic.py:939: ConvergenceWarning: lbfgs failed to converge (status=1):\n",
      "STOP: TOTAL NO. of ITERATIONS REACHED LIMIT.\n",
      "\n",
      "Increase the number of iterations (max_iter) or scale the data as shown in:\n",
      "    https://scikit-learn.org/stable/modules/preprocessing.html.\n",
      "Please also refer to the documentation for alternative solver options:\n",
      "    https://scikit-learn.org/stable/modules/linear_model.html#logistic-regression\n",
      "  extra_warning_msg=_LOGISTIC_SOLVER_CONVERGENCE_MSG)\n"
     ]
    },
    {
     "name": "stdout",
     "output_type": "stream",
     "text": [
      "train_f1: 0.9916603487490523 test_f1: 0.9041386628935267 , C 4.0 min_df 5\n"
     ]
    },
    {
     "name": "stderr",
     "output_type": "stream",
     "text": [
      "C:\\Users\\a5694\\Anaconda3\\lib\\site-packages\\sklearn\\linear_model\\_logistic.py:939: ConvergenceWarning: lbfgs failed to converge (status=1):\n",
      "STOP: TOTAL NO. of ITERATIONS REACHED LIMIT.\n",
      "\n",
      "Increase the number of iterations (max_iter) or scale the data as shown in:\n",
      "    https://scikit-learn.org/stable/modules/preprocessing.html.\n",
      "Please also refer to the documentation for alternative solver options:\n",
      "    https://scikit-learn.org/stable/modules/linear_model.html#logistic-regression\n",
      "  extra_warning_msg=_LOGISTIC_SOLVER_CONVERGENCE_MSG)\n"
     ]
    },
    {
     "name": "stdout",
     "output_type": "stream",
     "text": [
      "train_f1: 0.9904473085670963 test_f1: 0.8998938804386275 , C 4.0 min_df 6\n"
     ]
    },
    {
     "name": "stderr",
     "output_type": "stream",
     "text": [
      "C:\\Users\\a5694\\Anaconda3\\lib\\site-packages\\sklearn\\linear_model\\_logistic.py:939: ConvergenceWarning: lbfgs failed to converge (status=1):\n",
      "STOP: TOTAL NO. of ITERATIONS REACHED LIMIT.\n",
      "\n",
      "Increase the number of iterations (max_iter) or scale the data as shown in:\n",
      "    https://scikit-learn.org/stable/modules/preprocessing.html.\n",
      "Please also refer to the documentation for alternative solver options:\n",
      "    https://scikit-learn.org/stable/modules/linear_model.html#logistic-regression\n",
      "  extra_warning_msg=_LOGISTIC_SOLVER_CONVERGENCE_MSG)\n"
     ]
    },
    {
     "name": "stdout",
     "output_type": "stream",
     "text": [
      "train_f1: 0.9901440485216073 test_f1: 0.8970640254686947 , C 4.0 min_df 7\n"
     ]
    },
    {
     "name": "stderr",
     "output_type": "stream",
     "text": [
      "C:\\Users\\a5694\\Anaconda3\\lib\\site-packages\\sklearn\\linear_model\\_logistic.py:939: ConvergenceWarning: lbfgs failed to converge (status=1):\n",
      "STOP: TOTAL NO. of ITERATIONS REACHED LIMIT.\n",
      "\n",
      "Increase the number of iterations (max_iter) or scale the data as shown in:\n",
      "    https://scikit-learn.org/stable/modules/preprocessing.html.\n",
      "Please also refer to the documentation for alternative solver options:\n",
      "    https://scikit-learn.org/stable/modules/linear_model.html#logistic-regression\n",
      "  extra_warning_msg=_LOGISTIC_SOLVER_CONVERGENCE_MSG)\n"
     ]
    },
    {
     "name": "stdout",
     "output_type": "stream",
     "text": [
      "train_f1: 0.9898407884761182 test_f1: 0.8981252210824195 , C 4.0 min_df 8\n"
     ]
    },
    {
     "name": "stderr",
     "output_type": "stream",
     "text": [
      "C:\\Users\\a5694\\Anaconda3\\lib\\site-packages\\sklearn\\linear_model\\_logistic.py:939: ConvergenceWarning: lbfgs failed to converge (status=1):\n",
      "STOP: TOTAL NO. of ITERATIONS REACHED LIMIT.\n",
      "\n",
      "Increase the number of iterations (max_iter) or scale the data as shown in:\n",
      "    https://scikit-learn.org/stable/modules/preprocessing.html.\n",
      "Please also refer to the documentation for alternative solver options:\n",
      "    https://scikit-learn.org/stable/modules/linear_model.html#logistic-regression\n",
      "  extra_warning_msg=_LOGISTIC_SOLVER_CONVERGENCE_MSG)\n"
     ]
    },
    {
     "name": "stdout",
     "output_type": "stream",
     "text": [
      "train_f1: 0.9890826383623957 test_f1: 0.8970640254686947 , C 4.0 min_df 9\n"
     ]
    },
    {
     "name": "stderr",
     "output_type": "stream",
     "text": [
      "C:\\Users\\a5694\\Anaconda3\\lib\\site-packages\\sklearn\\linear_model\\_logistic.py:939: ConvergenceWarning: lbfgs failed to converge (status=1):\n",
      "STOP: TOTAL NO. of ITERATIONS REACHED LIMIT.\n",
      "\n",
      "Increase the number of iterations (max_iter) or scale the data as shown in:\n",
      "    https://scikit-learn.org/stable/modules/preprocessing.html.\n",
      "Please also refer to the documentation for alternative solver options:\n",
      "    https://scikit-learn.org/stable/modules/linear_model.html#logistic-regression\n",
      "  extra_warning_msg=_LOGISTIC_SOLVER_CONVERGENCE_MSG)\n"
     ]
    },
    {
     "name": "stdout",
     "output_type": "stream",
     "text": [
      "train_f1: 0.9949962092494314 test_f1: 0.9059073222497347 , C 4.5 min_df 2\n"
     ]
    },
    {
     "name": "stderr",
     "output_type": "stream",
     "text": [
      "C:\\Users\\a5694\\Anaconda3\\lib\\site-packages\\sklearn\\linear_model\\_logistic.py:939: ConvergenceWarning: lbfgs failed to converge (status=1):\n",
      "STOP: TOTAL NO. of ITERATIONS REACHED LIMIT.\n",
      "\n",
      "Increase the number of iterations (max_iter) or scale the data as shown in:\n",
      "    https://scikit-learn.org/stable/modules/preprocessing.html.\n",
      "Please also refer to the documentation for alternative solver options:\n",
      "    https://scikit-learn.org/stable/modules/linear_model.html#logistic-regression\n",
      "  extra_warning_msg=_LOGISTIC_SOLVER_CONVERGENCE_MSG)\n"
     ]
    },
    {
     "name": "stdout",
     "output_type": "stream",
     "text": [
      "train_f1: 0.9936315390447309 test_f1: 0.9076759816059426 , C 4.5 min_df 3\n"
     ]
    },
    {
     "name": "stderr",
     "output_type": "stream",
     "text": [
      "C:\\Users\\a5694\\Anaconda3\\lib\\site-packages\\sklearn\\linear_model\\_logistic.py:939: ConvergenceWarning: lbfgs failed to converge (status=1):\n",
      "STOP: TOTAL NO. of ITERATIONS REACHED LIMIT.\n",
      "\n",
      "Increase the number of iterations (max_iter) or scale the data as shown in:\n",
      "    https://scikit-learn.org/stable/modules/preprocessing.html.\n",
      "Please also refer to the documentation for alternative solver options:\n",
      "    https://scikit-learn.org/stable/modules/linear_model.html#logistic-regression\n",
      "  extra_warning_msg=_LOGISTIC_SOLVER_CONVERGENCE_MSG)\n"
     ]
    },
    {
     "name": "stdout",
     "output_type": "stream",
     "text": [
      "train_f1: 0.9927217589082639 test_f1: 0.9051998585072514 , C 4.5 min_df 4\n"
     ]
    },
    {
     "name": "stderr",
     "output_type": "stream",
     "text": [
      "C:\\Users\\a5694\\Anaconda3\\lib\\site-packages\\sklearn\\linear_model\\_logistic.py:939: ConvergenceWarning: lbfgs failed to converge (status=1):\n",
      "STOP: TOTAL NO. of ITERATIONS REACHED LIMIT.\n",
      "\n",
      "Increase the number of iterations (max_iter) or scale the data as shown in:\n",
      "    https://scikit-learn.org/stable/modules/preprocessing.html.\n",
      "Please also refer to the documentation for alternative solver options:\n",
      "    https://scikit-learn.org/stable/modules/linear_model.html#logistic-regression\n",
      "  extra_warning_msg=_LOGISTIC_SOLVER_CONVERGENCE_MSG)\n"
     ]
    },
    {
     "name": "stdout",
     "output_type": "stream",
     "text": [
      "train_f1: 0.9918119787717968 test_f1: 0.9023700035373187 , C 4.5 min_df 5\n"
     ]
    },
    {
     "name": "stderr",
     "output_type": "stream",
     "text": [
      "C:\\Users\\a5694\\Anaconda3\\lib\\site-packages\\sklearn\\linear_model\\_logistic.py:939: ConvergenceWarning: lbfgs failed to converge (status=1):\n",
      "STOP: TOTAL NO. of ITERATIONS REACHED LIMIT.\n",
      "\n",
      "Increase the number of iterations (max_iter) or scale the data as shown in:\n",
      "    https://scikit-learn.org/stable/modules/preprocessing.html.\n",
      "Please also refer to the documentation for alternative solver options:\n",
      "    https://scikit-learn.org/stable/modules/linear_model.html#logistic-regression\n",
      "  extra_warning_msg=_LOGISTIC_SOLVER_CONVERGENCE_MSG)\n"
     ]
    },
    {
     "name": "stdout",
     "output_type": "stream",
     "text": [
      "train_f1: 0.9907505686125853 test_f1: 0.9002476123098692 , C 4.5 min_df 6\n"
     ]
    },
    {
     "name": "stderr",
     "output_type": "stream",
     "text": [
      "C:\\Users\\a5694\\Anaconda3\\lib\\site-packages\\sklearn\\linear_model\\_logistic.py:939: ConvergenceWarning: lbfgs failed to converge (status=1):\n",
      "STOP: TOTAL NO. of ITERATIONS REACHED LIMIT.\n",
      "\n",
      "Increase the number of iterations (max_iter) or scale the data as shown in:\n",
      "    https://scikit-learn.org/stable/modules/preprocessing.html.\n",
      "Please also refer to the documentation for alternative solver options:\n",
      "    https://scikit-learn.org/stable/modules/linear_model.html#logistic-regression\n",
      "  extra_warning_msg=_LOGISTIC_SOLVER_CONVERGENCE_MSG)\n"
     ]
    },
    {
     "name": "stdout",
     "output_type": "stream",
     "text": [
      "train_f1: 0.9905989385898408 test_f1: 0.8949416342412452 , C 4.5 min_df 7\n"
     ]
    },
    {
     "name": "stderr",
     "output_type": "stream",
     "text": [
      "C:\\Users\\a5694\\Anaconda3\\lib\\site-packages\\sklearn\\linear_model\\_logistic.py:939: ConvergenceWarning: lbfgs failed to converge (status=1):\n",
      "STOP: TOTAL NO. of ITERATIONS REACHED LIMIT.\n",
      "\n",
      "Increase the number of iterations (max_iter) or scale the data as shown in:\n",
      "    https://scikit-learn.org/stable/modules/preprocessing.html.\n",
      "Please also refer to the documentation for alternative solver options:\n",
      "    https://scikit-learn.org/stable/modules/linear_model.html#logistic-regression\n",
      "  extra_warning_msg=_LOGISTIC_SOLVER_CONVERGENCE_MSG)\n"
     ]
    },
    {
     "name": "stdout",
     "output_type": "stream",
     "text": [
      "train_f1: 0.9898407884761182 test_f1: 0.8967102935974531 , C 4.5 min_df 8\n"
     ]
    },
    {
     "name": "stderr",
     "output_type": "stream",
     "text": [
      "C:\\Users\\a5694\\Anaconda3\\lib\\site-packages\\sklearn\\linear_model\\_logistic.py:939: ConvergenceWarning: lbfgs failed to converge (status=1):\n",
      "STOP: TOTAL NO. of ITERATIONS REACHED LIMIT.\n",
      "\n",
      "Increase the number of iterations (max_iter) or scale the data as shown in:\n",
      "    https://scikit-learn.org/stable/modules/preprocessing.html.\n",
      "Please also refer to the documentation for alternative solver options:\n",
      "    https://scikit-learn.org/stable/modules/linear_model.html#logistic-regression\n",
      "  extra_warning_msg=_LOGISTIC_SOLVER_CONVERGENCE_MSG)\n"
     ]
    },
    {
     "name": "stdout",
     "output_type": "stream",
     "text": [
      "train_f1: 0.9892342683851403 test_f1: 0.8960028298549699 , C 4.5 min_df 9\n"
     ]
    },
    {
     "name": "stderr",
     "output_type": "stream",
     "text": [
      "C:\\Users\\a5694\\Anaconda3\\lib\\site-packages\\sklearn\\linear_model\\_logistic.py:939: ConvergenceWarning: lbfgs failed to converge (status=1):\n",
      "STOP: TOTAL NO. of ITERATIONS REACHED LIMIT.\n",
      "\n",
      "Increase the number of iterations (max_iter) or scale the data as shown in:\n",
      "    https://scikit-learn.org/stable/modules/preprocessing.html.\n",
      "Please also refer to the documentation for alternative solver options:\n",
      "    https://scikit-learn.org/stable/modules/linear_model.html#logistic-regression\n",
      "  extra_warning_msg=_LOGISTIC_SOLVER_CONVERGENCE_MSG)\n"
     ]
    },
    {
     "name": "stdout",
     "output_type": "stream",
     "text": [
      "train_f1: 0.9951478392721759 test_f1: 0.9066147859922179 , C 5.0 min_df 2\n"
     ]
    },
    {
     "name": "stderr",
     "output_type": "stream",
     "text": [
      "C:\\Users\\a5694\\Anaconda3\\lib\\site-packages\\sklearn\\linear_model\\_logistic.py:939: ConvergenceWarning: lbfgs failed to converge (status=1):\n",
      "STOP: TOTAL NO. of ITERATIONS REACHED LIMIT.\n",
      "\n",
      "Increase the number of iterations (max_iter) or scale the data as shown in:\n",
      "    https://scikit-learn.org/stable/modules/preprocessing.html.\n",
      "Please also refer to the documentation for alternative solver options:\n",
      "    https://scikit-learn.org/stable/modules/linear_model.html#logistic-regression\n",
      "  extra_warning_msg=_LOGISTIC_SOLVER_CONVERGENCE_MSG)\n"
     ]
    },
    {
     "name": "stdout",
     "output_type": "stream",
     "text": [
      "train_f1: 0.9937831690674753 test_f1: 0.9069685178634594 , C 5.0 min_df 3\n"
     ]
    },
    {
     "name": "stderr",
     "output_type": "stream",
     "text": [
      "C:\\Users\\a5694\\Anaconda3\\lib\\site-packages\\sklearn\\linear_model\\_logistic.py:939: ConvergenceWarning: lbfgs failed to converge (status=1):\n",
      "STOP: TOTAL NO. of ITERATIONS REACHED LIMIT.\n",
      "\n",
      "Increase the number of iterations (max_iter) or scale the data as shown in:\n",
      "    https://scikit-learn.org/stable/modules/preprocessing.html.\n",
      "Please also refer to the documentation for alternative solver options:\n",
      "    https://scikit-learn.org/stable/modules/linear_model.html#logistic-regression\n",
      "  extra_warning_msg=_LOGISTIC_SOLVER_CONVERGENCE_MSG)\n"
     ]
    },
    {
     "name": "stdout",
     "output_type": "stream",
     "text": [
      "train_f1: 0.9927217589082639 test_f1: 0.9041386628935267 , C 5.0 min_df 4\n"
     ]
    },
    {
     "name": "stderr",
     "output_type": "stream",
     "text": [
      "C:\\Users\\a5694\\Anaconda3\\lib\\site-packages\\sklearn\\linear_model\\_logistic.py:939: ConvergenceWarning: lbfgs failed to converge (status=1):\n",
      "STOP: TOTAL NO. of ITERATIONS REACHED LIMIT.\n",
      "\n",
      "Increase the number of iterations (max_iter) or scale the data as shown in:\n",
      "    https://scikit-learn.org/stable/modules/preprocessing.html.\n",
      "Please also refer to the documentation for alternative solver options:\n",
      "    https://scikit-learn.org/stable/modules/linear_model.html#logistic-regression\n",
      "  extra_warning_msg=_LOGISTIC_SOLVER_CONVERGENCE_MSG)\n"
     ]
    },
    {
     "name": "stdout",
     "output_type": "stream",
     "text": [
      "train_f1: 0.9919636087945414 test_f1: 0.9023700035373187 , C 5.0 min_df 5\n"
     ]
    },
    {
     "name": "stderr",
     "output_type": "stream",
     "text": [
      "C:\\Users\\a5694\\Anaconda3\\lib\\site-packages\\sklearn\\linear_model\\_logistic.py:939: ConvergenceWarning: lbfgs failed to converge (status=1):\n",
      "STOP: TOTAL NO. of ITERATIONS REACHED LIMIT.\n",
      "\n",
      "Increase the number of iterations (max_iter) or scale the data as shown in:\n",
      "    https://scikit-learn.org/stable/modules/preprocessing.html.\n",
      "Please also refer to the documentation for alternative solver options:\n",
      "    https://scikit-learn.org/stable/modules/linear_model.html#logistic-regression\n",
      "  extra_warning_msg=_LOGISTIC_SOLVER_CONVERGENCE_MSG)\n"
     ]
    },
    {
     "name": "stdout",
     "output_type": "stream",
     "text": [
      "train_f1: 0.9913570887035633 test_f1: 0.9002476123098692 , C 5.0 min_df 6\n"
     ]
    },
    {
     "name": "stderr",
     "output_type": "stream",
     "text": [
      "C:\\Users\\a5694\\Anaconda3\\lib\\site-packages\\sklearn\\linear_model\\_logistic.py:939: ConvergenceWarning: lbfgs failed to converge (status=1):\n",
      "STOP: TOTAL NO. of ITERATIONS REACHED LIMIT.\n",
      "\n",
      "Increase the number of iterations (max_iter) or scale the data as shown in:\n",
      "    https://scikit-learn.org/stable/modules/preprocessing.html.\n",
      "Please also refer to the documentation for alternative solver options:\n",
      "    https://scikit-learn.org/stable/modules/linear_model.html#logistic-regression\n",
      "  extra_warning_msg=_LOGISTIC_SOLVER_CONVERGENCE_MSG)\n"
     ]
    },
    {
     "name": "stdout",
     "output_type": "stream",
     "text": [
      "train_f1: 0.9910538286580743 test_f1: 0.8960028298549699 , C 5.0 min_df 7\n"
     ]
    },
    {
     "name": "stderr",
     "output_type": "stream",
     "text": [
      "C:\\Users\\a5694\\Anaconda3\\lib\\site-packages\\sklearn\\linear_model\\_logistic.py:939: ConvergenceWarning: lbfgs failed to converge (status=1):\n",
      "STOP: TOTAL NO. of ITERATIONS REACHED LIMIT.\n",
      "\n",
      "Increase the number of iterations (max_iter) or scale the data as shown in:\n",
      "    https://scikit-learn.org/stable/modules/preprocessing.html.\n",
      "Please also refer to the documentation for alternative solver options:\n",
      "    https://scikit-learn.org/stable/modules/linear_model.html#logistic-regression\n",
      "  extra_warning_msg=_LOGISTIC_SOLVER_CONVERGENCE_MSG)\n"
     ]
    },
    {
     "name": "stdout",
     "output_type": "stream",
     "text": [
      "train_f1: 0.9905989385898408 test_f1: 0.8960028298549699 , C 5.0 min_df 8\n"
     ]
    },
    {
     "name": "stderr",
     "output_type": "stream",
     "text": [
      "C:\\Users\\a5694\\Anaconda3\\lib\\site-packages\\sklearn\\linear_model\\_logistic.py:939: ConvergenceWarning: lbfgs failed to converge (status=1):\n",
      "STOP: TOTAL NO. of ITERATIONS REACHED LIMIT.\n",
      "\n",
      "Increase the number of iterations (max_iter) or scale the data as shown in:\n",
      "    https://scikit-learn.org/stable/modules/preprocessing.html.\n",
      "Please also refer to the documentation for alternative solver options:\n",
      "    https://scikit-learn.org/stable/modules/linear_model.html#logistic-regression\n",
      "  extra_warning_msg=_LOGISTIC_SOLVER_CONVERGENCE_MSG)\n"
     ]
    },
    {
     "name": "stdout",
     "output_type": "stream",
     "text": [
      "train_f1: 0.9895375284306293 test_f1: 0.8949416342412452 , C 5.0 min_df 9\n"
     ]
    },
    {
     "name": "stderr",
     "output_type": "stream",
     "text": [
      "C:\\Users\\a5694\\Anaconda3\\lib\\site-packages\\sklearn\\linear_model\\_logistic.py:939: ConvergenceWarning: lbfgs failed to converge (status=1):\n",
      "STOP: TOTAL NO. of ITERATIONS REACHED LIMIT.\n",
      "\n",
      "Increase the number of iterations (max_iter) or scale the data as shown in:\n",
      "    https://scikit-learn.org/stable/modules/preprocessing.html.\n",
      "Please also refer to the documentation for alternative solver options:\n",
      "    https://scikit-learn.org/stable/modules/linear_model.html#logistic-regression\n",
      "  extra_warning_msg=_LOGISTIC_SOLVER_CONVERGENCE_MSG)\n"
     ]
    },
    {
     "name": "stdout",
     "output_type": "stream",
     "text": [
      "train_f1: 0.9952994692949204 test_f1: 0.9059073222497347 , C 5.5 min_df 2\n"
     ]
    },
    {
     "name": "stderr",
     "output_type": "stream",
     "text": [
      "C:\\Users\\a5694\\Anaconda3\\lib\\site-packages\\sklearn\\linear_model\\_logistic.py:939: ConvergenceWarning: lbfgs failed to converge (status=1):\n",
      "STOP: TOTAL NO. of ITERATIONS REACHED LIMIT.\n",
      "\n",
      "Increase the number of iterations (max_iter) or scale the data as shown in:\n",
      "    https://scikit-learn.org/stable/modules/preprocessing.html.\n",
      "Please also refer to the documentation for alternative solver options:\n",
      "    https://scikit-learn.org/stable/modules/linear_model.html#logistic-regression\n",
      "  extra_warning_msg=_LOGISTIC_SOLVER_CONVERGENCE_MSG)\n"
     ]
    },
    {
     "name": "stdout",
     "output_type": "stream",
     "text": [
      "train_f1: 0.9940864291129644 test_f1: 0.9069685178634594 , C 5.5 min_df 3\n"
     ]
    },
    {
     "name": "stderr",
     "output_type": "stream",
     "text": [
      "C:\\Users\\a5694\\Anaconda3\\lib\\site-packages\\sklearn\\linear_model\\_logistic.py:939: ConvergenceWarning: lbfgs failed to converge (status=1):\n",
      "STOP: TOTAL NO. of ITERATIONS REACHED LIMIT.\n",
      "\n",
      "Increase the number of iterations (max_iter) or scale the data as shown in:\n",
      "    https://scikit-learn.org/stable/modules/preprocessing.html.\n",
      "Please also refer to the documentation for alternative solver options:\n",
      "    https://scikit-learn.org/stable/modules/linear_model.html#logistic-regression\n",
      "  extra_warning_msg=_LOGISTIC_SOLVER_CONVERGENCE_MSG)\n"
     ]
    },
    {
     "name": "stdout",
     "output_type": "stream",
     "text": [
      "train_f1: 0.9927217589082639 test_f1: 0.9055535903784931 , C 5.5 min_df 4\n"
     ]
    },
    {
     "name": "stderr",
     "output_type": "stream",
     "text": [
      "C:\\Users\\a5694\\Anaconda3\\lib\\site-packages\\sklearn\\linear_model\\_logistic.py:939: ConvergenceWarning: lbfgs failed to converge (status=1):\n",
      "STOP: TOTAL NO. of ITERATIONS REACHED LIMIT.\n",
      "\n",
      "Increase the number of iterations (max_iter) or scale the data as shown in:\n",
      "    https://scikit-learn.org/stable/modules/preprocessing.html.\n",
      "Please also refer to the documentation for alternative solver options:\n",
      "    https://scikit-learn.org/stable/modules/linear_model.html#logistic-regression\n",
      "  extra_warning_msg=_LOGISTIC_SOLVER_CONVERGENCE_MSG)\n"
     ]
    },
    {
     "name": "stdout",
     "output_type": "stream",
     "text": [
      "train_f1: 0.9922668688400303 test_f1: 0.9027237354085603 , C 5.5 min_df 5\n"
     ]
    },
    {
     "name": "stderr",
     "output_type": "stream",
     "text": [
      "C:\\Users\\a5694\\Anaconda3\\lib\\site-packages\\sklearn\\linear_model\\_logistic.py:939: ConvergenceWarning: lbfgs failed to converge (status=1):\n",
      "STOP: TOTAL NO. of ITERATIONS REACHED LIMIT.\n",
      "\n",
      "Increase the number of iterations (max_iter) or scale the data as shown in:\n",
      "    https://scikit-learn.org/stable/modules/preprocessing.html.\n",
      "Please also refer to the documentation for alternative solver options:\n",
      "    https://scikit-learn.org/stable/modules/linear_model.html#logistic-regression\n",
      "  extra_warning_msg=_LOGISTIC_SOLVER_CONVERGENCE_MSG)\n"
     ]
    },
    {
     "name": "stdout",
     "output_type": "stream",
     "text": [
      "train_f1: 0.9915087187263079 test_f1: 0.8998938804386275 , C 5.5 min_df 6\n"
     ]
    },
    {
     "name": "stderr",
     "output_type": "stream",
     "text": [
      "C:\\Users\\a5694\\Anaconda3\\lib\\site-packages\\sklearn\\linear_model\\_logistic.py:939: ConvergenceWarning: lbfgs failed to converge (status=1):\n",
      "STOP: TOTAL NO. of ITERATIONS REACHED LIMIT.\n",
      "\n",
      "Increase the number of iterations (max_iter) or scale the data as shown in:\n",
      "    https://scikit-learn.org/stable/modules/preprocessing.html.\n",
      "Please also refer to the documentation for alternative solver options:\n",
      "    https://scikit-learn.org/stable/modules/linear_model.html#logistic-regression\n",
      "  extra_warning_msg=_LOGISTIC_SOLVER_CONVERGENCE_MSG)\n"
     ]
    },
    {
     "name": "stdout",
     "output_type": "stream",
     "text": [
      "train_f1: 0.9910538286580743 test_f1: 0.8956490979837284 , C 5.5 min_df 7\n"
     ]
    },
    {
     "name": "stderr",
     "output_type": "stream",
     "text": [
      "C:\\Users\\a5694\\Anaconda3\\lib\\site-packages\\sklearn\\linear_model\\_logistic.py:939: ConvergenceWarning: lbfgs failed to converge (status=1):\n",
      "STOP: TOTAL NO. of ITERATIONS REACHED LIMIT.\n",
      "\n",
      "Increase the number of iterations (max_iter) or scale the data as shown in:\n",
      "    https://scikit-learn.org/stable/modules/preprocessing.html.\n",
      "Please also refer to the documentation for alternative solver options:\n",
      "    https://scikit-learn.org/stable/modules/linear_model.html#logistic-regression\n",
      "  extra_warning_msg=_LOGISTIC_SOLVER_CONVERGENCE_MSG)\n"
     ]
    },
    {
     "name": "stdout",
     "output_type": "stream",
     "text": [
      "train_f1: 0.9909021986353298 test_f1: 0.8949416342412452 , C 5.5 min_df 8\n"
     ]
    },
    {
     "name": "stderr",
     "output_type": "stream",
     "text": [
      "C:\\Users\\a5694\\Anaconda3\\lib\\site-packages\\sklearn\\linear_model\\_logistic.py:939: ConvergenceWarning: lbfgs failed to converge (status=1):\n",
      "STOP: TOTAL NO. of ITERATIONS REACHED LIMIT.\n",
      "\n",
      "Increase the number of iterations (max_iter) or scale the data as shown in:\n",
      "    https://scikit-learn.org/stable/modules/preprocessing.html.\n",
      "Please also refer to the documentation for alternative solver options:\n",
      "    https://scikit-learn.org/stable/modules/linear_model.html#logistic-regression\n",
      "  extra_warning_msg=_LOGISTIC_SOLVER_CONVERGENCE_MSG)\n"
     ]
    },
    {
     "name": "stdout",
     "output_type": "stream",
     "text": [
      "train_f1: 0.9898407884761182 test_f1: 0.8960028298549699 , C 5.5 min_df 9\n"
     ]
    },
    {
     "name": "stderr",
     "output_type": "stream",
     "text": [
      "C:\\Users\\a5694\\Anaconda3\\lib\\site-packages\\sklearn\\linear_model\\_logistic.py:939: ConvergenceWarning: lbfgs failed to converge (status=1):\n",
      "STOP: TOTAL NO. of ITERATIONS REACHED LIMIT.\n",
      "\n",
      "Increase the number of iterations (max_iter) or scale the data as shown in:\n",
      "    https://scikit-learn.org/stable/modules/preprocessing.html.\n",
      "Please also refer to the documentation for alternative solver options:\n",
      "    https://scikit-learn.org/stable/modules/linear_model.html#logistic-regression\n",
      "  extra_warning_msg=_LOGISTIC_SOLVER_CONVERGENCE_MSG)\n"
     ]
    },
    {
     "name": "stdout",
     "output_type": "stream",
     "text": [
      "train_f1: 0.9954510993176648 test_f1: 0.9062610541209764 , C 6.0 min_df 2\n"
     ]
    },
    {
     "name": "stderr",
     "output_type": "stream",
     "text": [
      "C:\\Users\\a5694\\Anaconda3\\lib\\site-packages\\sklearn\\linear_model\\_logistic.py:939: ConvergenceWarning: lbfgs failed to converge (status=1):\n",
      "STOP: TOTAL NO. of ITERATIONS REACHED LIMIT.\n",
      "\n",
      "Increase the number of iterations (max_iter) or scale the data as shown in:\n",
      "    https://scikit-learn.org/stable/modules/preprocessing.html.\n",
      "Please also refer to the documentation for alternative solver options:\n",
      "    https://scikit-learn.org/stable/modules/linear_model.html#logistic-regression\n",
      "  extra_warning_msg=_LOGISTIC_SOLVER_CONVERGENCE_MSG)\n"
     ]
    },
    {
     "name": "stdout",
     "output_type": "stream",
     "text": [
      "train_f1: 0.9943896891584534 test_f1: 0.9066147859922179 , C 6.0 min_df 3\n"
     ]
    },
    {
     "name": "stderr",
     "output_type": "stream",
     "text": [
      "C:\\Users\\a5694\\Anaconda3\\lib\\site-packages\\sklearn\\linear_model\\_logistic.py:939: ConvergenceWarning: lbfgs failed to converge (status=1):\n",
      "STOP: TOTAL NO. of ITERATIONS REACHED LIMIT.\n",
      "\n",
      "Increase the number of iterations (max_iter) or scale the data as shown in:\n",
      "    https://scikit-learn.org/stable/modules/preprocessing.html.\n",
      "Please also refer to the documentation for alternative solver options:\n",
      "    https://scikit-learn.org/stable/modules/linear_model.html#logistic-regression\n",
      "  extra_warning_msg=_LOGISTIC_SOLVER_CONVERGENCE_MSG)\n"
     ]
    },
    {
     "name": "stdout",
     "output_type": "stream",
     "text": [
      "train_f1: 0.9933282789992418 test_f1: 0.9055535903784931 , C 6.0 min_df 4\n"
     ]
    },
    {
     "name": "stderr",
     "output_type": "stream",
     "text": [
      "C:\\Users\\a5694\\Anaconda3\\lib\\site-packages\\sklearn\\linear_model\\_logistic.py:939: ConvergenceWarning: lbfgs failed to converge (status=1):\n",
      "STOP: TOTAL NO. of ITERATIONS REACHED LIMIT.\n",
      "\n",
      "Increase the number of iterations (max_iter) or scale the data as shown in:\n",
      "    https://scikit-learn.org/stable/modules/preprocessing.html.\n",
      "Please also refer to the documentation for alternative solver options:\n",
      "    https://scikit-learn.org/stable/modules/linear_model.html#logistic-regression\n",
      "  extra_warning_msg=_LOGISTIC_SOLVER_CONVERGENCE_MSG)\n"
     ]
    },
    {
     "name": "stdout",
     "output_type": "stream",
     "text": [
      "train_f1: 0.9925701288855193 test_f1: 0.9037849310222851 , C 6.0 min_df 5\n"
     ]
    },
    {
     "name": "stderr",
     "output_type": "stream",
     "text": [
      "C:\\Users\\a5694\\Anaconda3\\lib\\site-packages\\sklearn\\linear_model\\_logistic.py:939: ConvergenceWarning: lbfgs failed to converge (status=1):\n",
      "STOP: TOTAL NO. of ITERATIONS REACHED LIMIT.\n",
      "\n",
      "Increase the number of iterations (max_iter) or scale the data as shown in:\n",
      "    https://scikit-learn.org/stable/modules/preprocessing.html.\n",
      "Please also refer to the documentation for alternative solver options:\n",
      "    https://scikit-learn.org/stable/modules/linear_model.html#logistic-regression\n",
      "  extra_warning_msg=_LOGISTIC_SOLVER_CONVERGENCE_MSG)\n"
     ]
    },
    {
     "name": "stdout",
     "output_type": "stream",
     "text": [
      "train_f1: 0.9918119787717968 test_f1: 0.9002476123098692 , C 6.0 min_df 6\n"
     ]
    },
    {
     "name": "stderr",
     "output_type": "stream",
     "text": [
      "C:\\Users\\a5694\\Anaconda3\\lib\\site-packages\\sklearn\\linear_model\\_logistic.py:939: ConvergenceWarning: lbfgs failed to converge (status=1):\n",
      "STOP: TOTAL NO. of ITERATIONS REACHED LIMIT.\n",
      "\n",
      "Increase the number of iterations (max_iter) or scale the data as shown in:\n",
      "    https://scikit-learn.org/stable/modules/preprocessing.html.\n",
      "Please also refer to the documentation for alternative solver options:\n",
      "    https://scikit-learn.org/stable/modules/linear_model.html#logistic-regression\n",
      "  extra_warning_msg=_LOGISTIC_SOLVER_CONVERGENCE_MSG)\n"
     ]
    },
    {
     "name": "stdout",
     "output_type": "stream",
     "text": [
      "train_f1: 0.9910538286580743 test_f1: 0.8956490979837284 , C 6.0 min_df 7\n"
     ]
    },
    {
     "name": "stderr",
     "output_type": "stream",
     "text": [
      "C:\\Users\\a5694\\Anaconda3\\lib\\site-packages\\sklearn\\linear_model\\_logistic.py:939: ConvergenceWarning: lbfgs failed to converge (status=1):\n",
      "STOP: TOTAL NO. of ITERATIONS REACHED LIMIT.\n",
      "\n",
      "Increase the number of iterations (max_iter) or scale the data as shown in:\n",
      "    https://scikit-learn.org/stable/modules/preprocessing.html.\n",
      "Please also refer to the documentation for alternative solver options:\n",
      "    https://scikit-learn.org/stable/modules/linear_model.html#logistic-regression\n",
      "  extra_warning_msg=_LOGISTIC_SOLVER_CONVERGENCE_MSG)\n"
     ]
    },
    {
     "name": "stdout",
     "output_type": "stream",
     "text": [
      "train_f1: 0.9909021986353298 test_f1: 0.8956490979837284 , C 6.0 min_df 8\n"
     ]
    },
    {
     "name": "stderr",
     "output_type": "stream",
     "text": [
      "C:\\Users\\a5694\\Anaconda3\\lib\\site-packages\\sklearn\\linear_model\\_logistic.py:939: ConvergenceWarning: lbfgs failed to converge (status=1):\n",
      "STOP: TOTAL NO. of ITERATIONS REACHED LIMIT.\n",
      "\n",
      "Increase the number of iterations (max_iter) or scale the data as shown in:\n",
      "    https://scikit-learn.org/stable/modules/preprocessing.html.\n",
      "Please also refer to the documentation for alternative solver options:\n",
      "    https://scikit-learn.org/stable/modules/linear_model.html#logistic-regression\n",
      "  extra_warning_msg=_LOGISTIC_SOLVER_CONVERGENCE_MSG)\n"
     ]
    },
    {
     "name": "stdout",
     "output_type": "stream",
     "text": [
      "train_f1: 0.9898407884761182 test_f1: 0.8938804386275203 , C 6.0 min_df 9\n"
     ]
    },
    {
     "name": "stderr",
     "output_type": "stream",
     "text": [
      "C:\\Users\\a5694\\Anaconda3\\lib\\site-packages\\sklearn\\linear_model\\_logistic.py:939: ConvergenceWarning: lbfgs failed to converge (status=1):\n",
      "STOP: TOTAL NO. of ITERATIONS REACHED LIMIT.\n",
      "\n",
      "Increase the number of iterations (max_iter) or scale the data as shown in:\n",
      "    https://scikit-learn.org/stable/modules/preprocessing.html.\n",
      "Please also refer to the documentation for alternative solver options:\n",
      "    https://scikit-learn.org/stable/modules/linear_model.html#logistic-regression\n",
      "  extra_warning_msg=_LOGISTIC_SOLVER_CONVERGENCE_MSG)\n"
     ]
    },
    {
     "name": "stdout",
     "output_type": "stream",
     "text": [
      "train_f1: 0.9956027293404094 test_f1: 0.9059073222497347 , C 6.5 min_df 2\n"
     ]
    },
    {
     "name": "stderr",
     "output_type": "stream",
     "text": [
      "C:\\Users\\a5694\\Anaconda3\\lib\\site-packages\\sklearn\\linear_model\\_logistic.py:939: ConvergenceWarning: lbfgs failed to converge (status=1):\n",
      "STOP: TOTAL NO. of ITERATIONS REACHED LIMIT.\n",
      "\n",
      "Increase the number of iterations (max_iter) or scale the data as shown in:\n",
      "    https://scikit-learn.org/stable/modules/preprocessing.html.\n",
      "Please also refer to the documentation for alternative solver options:\n",
      "    https://scikit-learn.org/stable/modules/linear_model.html#logistic-regression\n",
      "  extra_warning_msg=_LOGISTIC_SOLVER_CONVERGENCE_MSG)\n"
     ]
    },
    {
     "name": "stdout",
     "output_type": "stream",
     "text": [
      "train_f1: 0.9943896891584534 test_f1: 0.9069685178634594 , C 6.5 min_df 3\n"
     ]
    },
    {
     "name": "stderr",
     "output_type": "stream",
     "text": [
      "C:\\Users\\a5694\\Anaconda3\\lib\\site-packages\\sklearn\\linear_model\\_logistic.py:939: ConvergenceWarning: lbfgs failed to converge (status=1):\n",
      "STOP: TOTAL NO. of ITERATIONS REACHED LIMIT.\n",
      "\n",
      "Increase the number of iterations (max_iter) or scale the data as shown in:\n",
      "    https://scikit-learn.org/stable/modules/preprocessing.html.\n",
      "Please also refer to the documentation for alternative solver options:\n",
      "    https://scikit-learn.org/stable/modules/linear_model.html#logistic-regression\n",
      "  extra_warning_msg=_LOGISTIC_SOLVER_CONVERGENCE_MSG)\n"
     ]
    },
    {
     "name": "stdout",
     "output_type": "stream",
     "text": [
      "train_f1: 0.9934799090219864 test_f1: 0.9059073222497347 , C 6.5 min_df 4\n"
     ]
    },
    {
     "name": "stderr",
     "output_type": "stream",
     "text": [
      "C:\\Users\\a5694\\Anaconda3\\lib\\site-packages\\sklearn\\linear_model\\_logistic.py:939: ConvergenceWarning: lbfgs failed to converge (status=1):\n",
      "STOP: TOTAL NO. of ITERATIONS REACHED LIMIT.\n",
      "\n",
      "Increase the number of iterations (max_iter) or scale the data as shown in:\n",
      "    https://scikit-learn.org/stable/modules/preprocessing.html.\n",
      "Please also refer to the documentation for alternative solver options:\n",
      "    https://scikit-learn.org/stable/modules/linear_model.html#logistic-regression\n",
      "  extra_warning_msg=_LOGISTIC_SOLVER_CONVERGENCE_MSG)\n"
     ]
    },
    {
     "name": "stdout",
     "output_type": "stream",
     "text": [
      "train_f1: 0.9925701288855193 test_f1: 0.9034311991510435 , C 6.5 min_df 5\n"
     ]
    },
    {
     "name": "stderr",
     "output_type": "stream",
     "text": [
      "C:\\Users\\a5694\\Anaconda3\\lib\\site-packages\\sklearn\\linear_model\\_logistic.py:939: ConvergenceWarning: lbfgs failed to converge (status=1):\n",
      "STOP: TOTAL NO. of ITERATIONS REACHED LIMIT.\n",
      "\n",
      "Increase the number of iterations (max_iter) or scale the data as shown in:\n",
      "    https://scikit-learn.org/stable/modules/preprocessing.html.\n",
      "Please also refer to the documentation for alternative solver options:\n",
      "    https://scikit-learn.org/stable/modules/linear_model.html#logistic-regression\n",
      "  extra_warning_msg=_LOGISTIC_SOLVER_CONVERGENCE_MSG)\n"
     ]
    },
    {
     "name": "stdout",
     "output_type": "stream",
     "text": [
      "train_f1: 0.9919636087945414 test_f1: 0.8991864166961443 , C 6.5 min_df 6\n"
     ]
    },
    {
     "name": "stderr",
     "output_type": "stream",
     "text": [
      "C:\\Users\\a5694\\Anaconda3\\lib\\site-packages\\sklearn\\linear_model\\_logistic.py:939: ConvergenceWarning: lbfgs failed to converge (status=1):\n",
      "STOP: TOTAL NO. of ITERATIONS REACHED LIMIT.\n",
      "\n",
      "Increase the number of iterations (max_iter) or scale the data as shown in:\n",
      "    https://scikit-learn.org/stable/modules/preprocessing.html.\n",
      "Please also refer to the documentation for alternative solver options:\n",
      "    https://scikit-learn.org/stable/modules/linear_model.html#logistic-regression\n",
      "  extra_warning_msg=_LOGISTIC_SOLVER_CONVERGENCE_MSG)\n"
     ]
    },
    {
     "name": "stdout",
     "output_type": "stream",
     "text": [
      "train_f1: 0.9916603487490523 test_f1: 0.8952953661124867 , C 6.5 min_df 7\n"
     ]
    },
    {
     "name": "stderr",
     "output_type": "stream",
     "text": [
      "C:\\Users\\a5694\\Anaconda3\\lib\\site-packages\\sklearn\\linear_model\\_logistic.py:939: ConvergenceWarning: lbfgs failed to converge (status=1):\n",
      "STOP: TOTAL NO. of ITERATIONS REACHED LIMIT.\n",
      "\n",
      "Increase the number of iterations (max_iter) or scale the data as shown in:\n",
      "    https://scikit-learn.org/stable/modules/preprocessing.html.\n",
      "Please also refer to the documentation for alternative solver options:\n",
      "    https://scikit-learn.org/stable/modules/linear_model.html#logistic-regression\n",
      "  extra_warning_msg=_LOGISTIC_SOLVER_CONVERGENCE_MSG)\n"
     ]
    },
    {
     "name": "stdout",
     "output_type": "stream",
     "text": [
      "train_f1: 0.9915087187263079 test_f1: 0.8956490979837284 , C 6.5 min_df 8\n"
     ]
    },
    {
     "name": "stderr",
     "output_type": "stream",
     "text": [
      "C:\\Users\\a5694\\Anaconda3\\lib\\site-packages\\sklearn\\linear_model\\_logistic.py:939: ConvergenceWarning: lbfgs failed to converge (status=1):\n",
      "STOP: TOTAL NO. of ITERATIONS REACHED LIMIT.\n",
      "\n",
      "Increase the number of iterations (max_iter) or scale the data as shown in:\n",
      "    https://scikit-learn.org/stable/modules/preprocessing.html.\n",
      "Please also refer to the documentation for alternative solver options:\n",
      "    https://scikit-learn.org/stable/modules/linear_model.html#logistic-regression\n",
      "  extra_warning_msg=_LOGISTIC_SOLVER_CONVERGENCE_MSG)\n"
     ]
    },
    {
     "name": "stdout",
     "output_type": "stream",
     "text": [
      "train_f1: 0.9904473085670963 test_f1: 0.8928192430137956 , C 6.5 min_df 9\n"
     ]
    },
    {
     "name": "stderr",
     "output_type": "stream",
     "text": [
      "C:\\Users\\a5694\\Anaconda3\\lib\\site-packages\\sklearn\\linear_model\\_logistic.py:939: ConvergenceWarning: lbfgs failed to converge (status=1):\n",
      "STOP: TOTAL NO. of ITERATIONS REACHED LIMIT.\n",
      "\n",
      "Increase the number of iterations (max_iter) or scale the data as shown in:\n",
      "    https://scikit-learn.org/stable/modules/preprocessing.html.\n",
      "Please also refer to the documentation for alternative solver options:\n",
      "    https://scikit-learn.org/stable/modules/linear_model.html#logistic-regression\n",
      "  extra_warning_msg=_LOGISTIC_SOLVER_CONVERGENCE_MSG)\n"
     ]
    },
    {
     "name": "stdout",
     "output_type": "stream",
     "text": [
      "train_f1: 0.9959059893858984 test_f1: 0.9059073222497347 , C 7.0 min_df 2\n"
     ]
    },
    {
     "name": "stderr",
     "output_type": "stream",
     "text": [
      "C:\\Users\\a5694\\Anaconda3\\lib\\site-packages\\sklearn\\linear_model\\_logistic.py:939: ConvergenceWarning: lbfgs failed to converge (status=1):\n",
      "STOP: TOTAL NO. of ITERATIONS REACHED LIMIT.\n",
      "\n",
      "Increase the number of iterations (max_iter) or scale the data as shown in:\n",
      "    https://scikit-learn.org/stable/modules/preprocessing.html.\n",
      "Please also refer to the documentation for alternative solver options:\n",
      "    https://scikit-learn.org/stable/modules/linear_model.html#logistic-regression\n",
      "  extra_warning_msg=_LOGISTIC_SOLVER_CONVERGENCE_MSG)\n"
     ]
    },
    {
     "name": "stdout",
     "output_type": "stream",
     "text": [
      "train_f1: 0.9945413191811979 test_f1: 0.9066147859922179 , C 7.0 min_df 3\n"
     ]
    },
    {
     "name": "stderr",
     "output_type": "stream",
     "text": [
      "C:\\Users\\a5694\\Anaconda3\\lib\\site-packages\\sklearn\\linear_model\\_logistic.py:939: ConvergenceWarning: lbfgs failed to converge (status=1):\n",
      "STOP: TOTAL NO. of ITERATIONS REACHED LIMIT.\n",
      "\n",
      "Increase the number of iterations (max_iter) or scale the data as shown in:\n",
      "    https://scikit-learn.org/stable/modules/preprocessing.html.\n",
      "Please also refer to the documentation for alternative solver options:\n",
      "    https://scikit-learn.org/stable/modules/linear_model.html#logistic-regression\n",
      "  extra_warning_msg=_LOGISTIC_SOLVER_CONVERGENCE_MSG)\n"
     ]
    },
    {
     "name": "stdout",
     "output_type": "stream",
     "text": [
      "train_f1: 0.9934799090219864 test_f1: 0.9069685178634594 , C 7.0 min_df 4\n"
     ]
    },
    {
     "name": "stderr",
     "output_type": "stream",
     "text": [
      "C:\\Users\\a5694\\Anaconda3\\lib\\site-packages\\sklearn\\linear_model\\_logistic.py:939: ConvergenceWarning: lbfgs failed to converge (status=1):\n",
      "STOP: TOTAL NO. of ITERATIONS REACHED LIMIT.\n",
      "\n",
      "Increase the number of iterations (max_iter) or scale the data as shown in:\n",
      "    https://scikit-learn.org/stable/modules/preprocessing.html.\n",
      "Please also refer to the documentation for alternative solver options:\n",
      "    https://scikit-learn.org/stable/modules/linear_model.html#logistic-regression\n",
      "  extra_warning_msg=_LOGISTIC_SOLVER_CONVERGENCE_MSG)\n"
     ]
    },
    {
     "name": "stdout",
     "output_type": "stream",
     "text": [
      "train_f1: 0.9930250189537528 test_f1: 0.9030774672798019 , C 7.0 min_df 5\n"
     ]
    },
    {
     "name": "stderr",
     "output_type": "stream",
     "text": [
      "C:\\Users\\a5694\\Anaconda3\\lib\\site-packages\\sklearn\\linear_model\\_logistic.py:939: ConvergenceWarning: lbfgs failed to converge (status=1):\n",
      "STOP: TOTAL NO. of ITERATIONS REACHED LIMIT.\n",
      "\n",
      "Increase the number of iterations (max_iter) or scale the data as shown in:\n",
      "    https://scikit-learn.org/stable/modules/preprocessing.html.\n",
      "Please also refer to the documentation for alternative solver options:\n",
      "    https://scikit-learn.org/stable/modules/linear_model.html#logistic-regression\n",
      "  extra_warning_msg=_LOGISTIC_SOLVER_CONVERGENCE_MSG)\n"
     ]
    },
    {
     "name": "stdout",
     "output_type": "stream",
     "text": [
      "train_f1: 0.9924184988627748 test_f1: 0.899540148567386 , C 7.0 min_df 6\n"
     ]
    },
    {
     "name": "stderr",
     "output_type": "stream",
     "text": [
      "C:\\Users\\a5694\\Anaconda3\\lib\\site-packages\\sklearn\\linear_model\\_logistic.py:939: ConvergenceWarning: lbfgs failed to converge (status=1):\n",
      "STOP: TOTAL NO. of ITERATIONS REACHED LIMIT.\n",
      "\n",
      "Increase the number of iterations (max_iter) or scale the data as shown in:\n",
      "    https://scikit-learn.org/stable/modules/preprocessing.html.\n",
      "Please also refer to the documentation for alternative solver options:\n",
      "    https://scikit-learn.org/stable/modules/linear_model.html#logistic-regression\n",
      "  extra_warning_msg=_LOGISTIC_SOLVER_CONVERGENCE_MSG)\n"
     ]
    },
    {
     "name": "stdout",
     "output_type": "stream",
     "text": [
      "train_f1: 0.9918119787717968 test_f1: 0.8949416342412452 , C 7.0 min_df 7\n"
     ]
    },
    {
     "name": "stderr",
     "output_type": "stream",
     "text": [
      "C:\\Users\\a5694\\Anaconda3\\lib\\site-packages\\sklearn\\linear_model\\_logistic.py:939: ConvergenceWarning: lbfgs failed to converge (status=1):\n",
      "STOP: TOTAL NO. of ITERATIONS REACHED LIMIT.\n",
      "\n",
      "Increase the number of iterations (max_iter) or scale the data as shown in:\n",
      "    https://scikit-learn.org/stable/modules/preprocessing.html.\n",
      "Please also refer to the documentation for alternative solver options:\n",
      "    https://scikit-learn.org/stable/modules/linear_model.html#logistic-regression\n",
      "  extra_warning_msg=_LOGISTIC_SOLVER_CONVERGENCE_MSG)\n"
     ]
    },
    {
     "name": "stdout",
     "output_type": "stream",
     "text": [
      "train_f1: 0.9915087187263079 test_f1: 0.8945879023700035 , C 7.0 min_df 8\n"
     ]
    },
    {
     "name": "stderr",
     "output_type": "stream",
     "text": [
      "C:\\Users\\a5694\\Anaconda3\\lib\\site-packages\\sklearn\\linear_model\\_logistic.py:939: ConvergenceWarning: lbfgs failed to converge (status=1):\n",
      "STOP: TOTAL NO. of ITERATIONS REACHED LIMIT.\n",
      "\n",
      "Increase the number of iterations (max_iter) or scale the data as shown in:\n",
      "    https://scikit-learn.org/stable/modules/preprocessing.html.\n",
      "Please also refer to the documentation for alternative solver options:\n",
      "    https://scikit-learn.org/stable/modules/linear_model.html#logistic-regression\n",
      "  extra_warning_msg=_LOGISTIC_SOLVER_CONVERGENCE_MSG)\n"
     ]
    },
    {
     "name": "stdout",
     "output_type": "stream",
     "text": [
      "train_f1: 0.9904473085670963 test_f1: 0.8924655111425539 , C 7.0 min_df 9\n"
     ]
    },
    {
     "name": "stderr",
     "output_type": "stream",
     "text": [
      "C:\\Users\\a5694\\Anaconda3\\lib\\site-packages\\sklearn\\linear_model\\_logistic.py:939: ConvergenceWarning: lbfgs failed to converge (status=1):\n",
      "STOP: TOTAL NO. of ITERATIONS REACHED LIMIT.\n",
      "\n",
      "Increase the number of iterations (max_iter) or scale the data as shown in:\n",
      "    https://scikit-learn.org/stable/modules/preprocessing.html.\n",
      "Please also refer to the documentation for alternative solver options:\n",
      "    https://scikit-learn.org/stable/modules/linear_model.html#logistic-regression\n",
      "  extra_warning_msg=_LOGISTIC_SOLVER_CONVERGENCE_MSG)\n"
     ]
    },
    {
     "name": "stdout",
     "output_type": "stream",
     "text": [
      "train_f1: 0.9959059893858984 test_f1: 0.9059073222497347 , C 7.5 min_df 2\n"
     ]
    },
    {
     "name": "stderr",
     "output_type": "stream",
     "text": [
      "C:\\Users\\a5694\\Anaconda3\\lib\\site-packages\\sklearn\\linear_model\\_logistic.py:939: ConvergenceWarning: lbfgs failed to converge (status=1):\n",
      "STOP: TOTAL NO. of ITERATIONS REACHED LIMIT.\n",
      "\n",
      "Increase the number of iterations (max_iter) or scale the data as shown in:\n",
      "    https://scikit-learn.org/stable/modules/preprocessing.html.\n",
      "Please also refer to the documentation for alternative solver options:\n",
      "    https://scikit-learn.org/stable/modules/linear_model.html#logistic-regression\n",
      "  extra_warning_msg=_LOGISTIC_SOLVER_CONVERGENCE_MSG)\n"
     ]
    },
    {
     "name": "stdout",
     "output_type": "stream",
     "text": [
      "train_f1: 0.9945413191811979 test_f1: 0.9059073222497347 , C 7.5 min_df 3\n"
     ]
    },
    {
     "name": "stderr",
     "output_type": "stream",
     "text": [
      "C:\\Users\\a5694\\Anaconda3\\lib\\site-packages\\sklearn\\linear_model\\_logistic.py:939: ConvergenceWarning: lbfgs failed to converge (status=1):\n",
      "STOP: TOTAL NO. of ITERATIONS REACHED LIMIT.\n",
      "\n",
      "Increase the number of iterations (max_iter) or scale the data as shown in:\n",
      "    https://scikit-learn.org/stable/modules/preprocessing.html.\n",
      "Please also refer to the documentation for alternative solver options:\n",
      "    https://scikit-learn.org/stable/modules/linear_model.html#logistic-regression\n",
      "  extra_warning_msg=_LOGISTIC_SOLVER_CONVERGENCE_MSG)\n"
     ]
    },
    {
     "name": "stdout",
     "output_type": "stream",
     "text": [
      "train_f1: 0.9937831690674753 test_f1: 0.9069685178634594 , C 7.5 min_df 4\n"
     ]
    },
    {
     "name": "stderr",
     "output_type": "stream",
     "text": [
      "C:\\Users\\a5694\\Anaconda3\\lib\\site-packages\\sklearn\\linear_model\\_logistic.py:939: ConvergenceWarning: lbfgs failed to converge (status=1):\n",
      "STOP: TOTAL NO. of ITERATIONS REACHED LIMIT.\n",
      "\n",
      "Increase the number of iterations (max_iter) or scale the data as shown in:\n",
      "    https://scikit-learn.org/stable/modules/preprocessing.html.\n",
      "Please also refer to the documentation for alternative solver options:\n",
      "    https://scikit-learn.org/stable/modules/linear_model.html#logistic-regression\n",
      "  extra_warning_msg=_LOGISTIC_SOLVER_CONVERGENCE_MSG)\n"
     ]
    },
    {
     "name": "stdout",
     "output_type": "stream",
     "text": [
      "train_f1: 0.9931766489764974 test_f1: 0.9030774672798019 , C 7.5 min_df 5\n"
     ]
    },
    {
     "name": "stderr",
     "output_type": "stream",
     "text": [
      "C:\\Users\\a5694\\Anaconda3\\lib\\site-packages\\sklearn\\linear_model\\_logistic.py:939: ConvergenceWarning: lbfgs failed to converge (status=1):\n",
      "STOP: TOTAL NO. of ITERATIONS REACHED LIMIT.\n",
      "\n",
      "Increase the number of iterations (max_iter) or scale the data as shown in:\n",
      "    https://scikit-learn.org/stable/modules/preprocessing.html.\n",
      "Please also refer to the documentation for alternative solver options:\n",
      "    https://scikit-learn.org/stable/modules/linear_model.html#logistic-regression\n",
      "  extra_warning_msg=_LOGISTIC_SOLVER_CONVERGENCE_MSG)\n"
     ]
    },
    {
     "name": "stdout",
     "output_type": "stream",
     "text": [
      "train_f1: 0.9924184988627748 test_f1: 0.899540148567386 , C 7.5 min_df 6\n"
     ]
    },
    {
     "name": "stderr",
     "output_type": "stream",
     "text": [
      "C:\\Users\\a5694\\Anaconda3\\lib\\site-packages\\sklearn\\linear_model\\_logistic.py:939: ConvergenceWarning: lbfgs failed to converge (status=1):\n",
      "STOP: TOTAL NO. of ITERATIONS REACHED LIMIT.\n",
      "\n",
      "Increase the number of iterations (max_iter) or scale the data as shown in:\n",
      "    https://scikit-learn.org/stable/modules/preprocessing.html.\n",
      "Please also refer to the documentation for alternative solver options:\n",
      "    https://scikit-learn.org/stable/modules/linear_model.html#logistic-regression\n",
      "  extra_warning_msg=_LOGISTIC_SOLVER_CONVERGENCE_MSG)\n"
     ]
    },
    {
     "name": "stdout",
     "output_type": "stream",
     "text": [
      "train_f1: 0.9924184988627748 test_f1: 0.8949416342412452 , C 7.5 min_df 7\n"
     ]
    },
    {
     "name": "stderr",
     "output_type": "stream",
     "text": [
      "C:\\Users\\a5694\\Anaconda3\\lib\\site-packages\\sklearn\\linear_model\\_logistic.py:939: ConvergenceWarning: lbfgs failed to converge (status=1):\n",
      "STOP: TOTAL NO. of ITERATIONS REACHED LIMIT.\n",
      "\n",
      "Increase the number of iterations (max_iter) or scale the data as shown in:\n",
      "    https://scikit-learn.org/stable/modules/preprocessing.html.\n",
      "Please also refer to the documentation for alternative solver options:\n",
      "    https://scikit-learn.org/stable/modules/linear_model.html#logistic-regression\n",
      "  extra_warning_msg=_LOGISTIC_SOLVER_CONVERGENCE_MSG)\n"
     ]
    },
    {
     "name": "stdout",
     "output_type": "stream",
     "text": [
      "train_f1: 0.9915087187263079 test_f1: 0.8949416342412452 , C 7.5 min_df 8\n"
     ]
    },
    {
     "name": "stderr",
     "output_type": "stream",
     "text": [
      "C:\\Users\\a5694\\Anaconda3\\lib\\site-packages\\sklearn\\linear_model\\_logistic.py:939: ConvergenceWarning: lbfgs failed to converge (status=1):\n",
      "STOP: TOTAL NO. of ITERATIONS REACHED LIMIT.\n",
      "\n",
      "Increase the number of iterations (max_iter) or scale the data as shown in:\n",
      "    https://scikit-learn.org/stable/modules/preprocessing.html.\n",
      "Please also refer to the documentation for alternative solver options:\n",
      "    https://scikit-learn.org/stable/modules/linear_model.html#logistic-regression\n",
      "  extra_warning_msg=_LOGISTIC_SOLVER_CONVERGENCE_MSG)\n"
     ]
    },
    {
     "name": "stdout",
     "output_type": "stream",
     "text": [
      "train_f1: 0.9909021986353298 test_f1: 0.8921117792713124 , C 7.5 min_df 9\n"
     ]
    },
    {
     "name": "stderr",
     "output_type": "stream",
     "text": [
      "C:\\Users\\a5694\\Anaconda3\\lib\\site-packages\\sklearn\\linear_model\\_logistic.py:939: ConvergenceWarning: lbfgs failed to converge (status=1):\n",
      "STOP: TOTAL NO. of ITERATIONS REACHED LIMIT.\n",
      "\n",
      "Increase the number of iterations (max_iter) or scale the data as shown in:\n",
      "    https://scikit-learn.org/stable/modules/preprocessing.html.\n",
      "Please also refer to the documentation for alternative solver options:\n",
      "    https://scikit-learn.org/stable/modules/linear_model.html#logistic-regression\n",
      "  extra_warning_msg=_LOGISTIC_SOLVER_CONVERGENCE_MSG)\n"
     ]
    },
    {
     "name": "stdout",
     "output_type": "stream",
     "text": [
      "train_f1: 0.9959059893858984 test_f1: 0.9059073222497347 , C 8.0 min_df 2\n"
     ]
    },
    {
     "name": "stderr",
     "output_type": "stream",
     "text": [
      "C:\\Users\\a5694\\Anaconda3\\lib\\site-packages\\sklearn\\linear_model\\_logistic.py:939: ConvergenceWarning: lbfgs failed to converge (status=1):\n",
      "STOP: TOTAL NO. of ITERATIONS REACHED LIMIT.\n",
      "\n",
      "Increase the number of iterations (max_iter) or scale the data as shown in:\n",
      "    https://scikit-learn.org/stable/modules/preprocessing.html.\n",
      "Please also refer to the documentation for alternative solver options:\n",
      "    https://scikit-learn.org/stable/modules/linear_model.html#logistic-regression\n",
      "  extra_warning_msg=_LOGISTIC_SOLVER_CONVERGENCE_MSG)\n"
     ]
    },
    {
     "name": "stdout",
     "output_type": "stream",
     "text": [
      "train_f1: 0.9946929492039424 test_f1: 0.9066147859922179 , C 8.0 min_df 3\n"
     ]
    },
    {
     "name": "stderr",
     "output_type": "stream",
     "text": [
      "C:\\Users\\a5694\\Anaconda3\\lib\\site-packages\\sklearn\\linear_model\\_logistic.py:939: ConvergenceWarning: lbfgs failed to converge (status=1):\n",
      "STOP: TOTAL NO. of ITERATIONS REACHED LIMIT.\n",
      "\n",
      "Increase the number of iterations (max_iter) or scale the data as shown in:\n",
      "    https://scikit-learn.org/stable/modules/preprocessing.html.\n",
      "Please also refer to the documentation for alternative solver options:\n",
      "    https://scikit-learn.org/stable/modules/linear_model.html#logistic-regression\n",
      "  extra_warning_msg=_LOGISTIC_SOLVER_CONVERGENCE_MSG)\n"
     ]
    },
    {
     "name": "stdout",
     "output_type": "stream",
     "text": [
      "train_f1: 0.9940864291129644 test_f1: 0.9073222497347011 , C 8.0 min_df 4\n"
     ]
    },
    {
     "name": "stderr",
     "output_type": "stream",
     "text": [
      "C:\\Users\\a5694\\Anaconda3\\lib\\site-packages\\sklearn\\linear_model\\_logistic.py:939: ConvergenceWarning: lbfgs failed to converge (status=1):\n",
      "STOP: TOTAL NO. of ITERATIONS REACHED LIMIT.\n",
      "\n",
      "Increase the number of iterations (max_iter) or scale the data as shown in:\n",
      "    https://scikit-learn.org/stable/modules/preprocessing.html.\n",
      "Please also refer to the documentation for alternative solver options:\n",
      "    https://scikit-learn.org/stable/modules/linear_model.html#logistic-regression\n",
      "  extra_warning_msg=_LOGISTIC_SOLVER_CONVERGENCE_MSG)\n"
     ]
    },
    {
     "name": "stdout",
     "output_type": "stream",
     "text": [
      "train_f1: 0.9934799090219864 test_f1: 0.9020162716660771 , C 8.0 min_df 5\n"
     ]
    },
    {
     "name": "stderr",
     "output_type": "stream",
     "text": [
      "C:\\Users\\a5694\\Anaconda3\\lib\\site-packages\\sklearn\\linear_model\\_logistic.py:939: ConvergenceWarning: lbfgs failed to converge (status=1):\n",
      "STOP: TOTAL NO. of ITERATIONS REACHED LIMIT.\n",
      "\n",
      "Increase the number of iterations (max_iter) or scale the data as shown in:\n",
      "    https://scikit-learn.org/stable/modules/preprocessing.html.\n",
      "Please also refer to the documentation for alternative solver options:\n",
      "    https://scikit-learn.org/stable/modules/linear_model.html#logistic-regression\n",
      "  extra_warning_msg=_LOGISTIC_SOLVER_CONVERGENCE_MSG)\n"
     ]
    },
    {
     "name": "stdout",
     "output_type": "stream",
     "text": [
      "train_f1: 0.9925701288855193 test_f1: 0.899540148567386 , C 8.0 min_df 6\n"
     ]
    },
    {
     "name": "stderr",
     "output_type": "stream",
     "text": [
      "C:\\Users\\a5694\\Anaconda3\\lib\\site-packages\\sklearn\\linear_model\\_logistic.py:939: ConvergenceWarning: lbfgs failed to converge (status=1):\n",
      "STOP: TOTAL NO. of ITERATIONS REACHED LIMIT.\n",
      "\n",
      "Increase the number of iterations (max_iter) or scale the data as shown in:\n",
      "    https://scikit-learn.org/stable/modules/preprocessing.html.\n",
      "Please also refer to the documentation for alternative solver options:\n",
      "    https://scikit-learn.org/stable/modules/linear_model.html#logistic-regression\n",
      "  extra_warning_msg=_LOGISTIC_SOLVER_CONVERGENCE_MSG)\n"
     ]
    },
    {
     "name": "stdout",
     "output_type": "stream",
     "text": [
      "train_f1: 0.9924184988627748 test_f1: 0.8956490979837284 , C 8.0 min_df 7\n"
     ]
    },
    {
     "name": "stderr",
     "output_type": "stream",
     "text": [
      "C:\\Users\\a5694\\Anaconda3\\lib\\site-packages\\sklearn\\linear_model\\_logistic.py:939: ConvergenceWarning: lbfgs failed to converge (status=1):\n",
      "STOP: TOTAL NO. of ITERATIONS REACHED LIMIT.\n",
      "\n",
      "Increase the number of iterations (max_iter) or scale the data as shown in:\n",
      "    https://scikit-learn.org/stable/modules/preprocessing.html.\n",
      "Please also refer to the documentation for alternative solver options:\n",
      "    https://scikit-learn.org/stable/modules/linear_model.html#logistic-regression\n",
      "  extra_warning_msg=_LOGISTIC_SOLVER_CONVERGENCE_MSG)\n"
     ]
    },
    {
     "name": "stdout",
     "output_type": "stream",
     "text": [
      "train_f1: 0.9918119787717968 test_f1: 0.8952953661124867 , C 8.0 min_df 8\n"
     ]
    },
    {
     "name": "stderr",
     "output_type": "stream",
     "text": [
      "C:\\Users\\a5694\\Anaconda3\\lib\\site-packages\\sklearn\\linear_model\\_logistic.py:939: ConvergenceWarning: lbfgs failed to converge (status=1):\n",
      "STOP: TOTAL NO. of ITERATIONS REACHED LIMIT.\n",
      "\n",
      "Increase the number of iterations (max_iter) or scale the data as shown in:\n",
      "    https://scikit-learn.org/stable/modules/preprocessing.html.\n",
      "Please also refer to the documentation for alternative solver options:\n",
      "    https://scikit-learn.org/stable/modules/linear_model.html#logistic-regression\n",
      "  extra_warning_msg=_LOGISTIC_SOLVER_CONVERGENCE_MSG)\n"
     ]
    },
    {
     "name": "stdout",
     "output_type": "stream",
     "text": [
      "train_f1: 0.9913570887035633 test_f1: 0.8917580474000707 , C 8.0 min_df 9\n"
     ]
    },
    {
     "name": "stderr",
     "output_type": "stream",
     "text": [
      "C:\\Users\\a5694\\Anaconda3\\lib\\site-packages\\sklearn\\linear_model\\_logistic.py:939: ConvergenceWarning: lbfgs failed to converge (status=1):\n",
      "STOP: TOTAL NO. of ITERATIONS REACHED LIMIT.\n",
      "\n",
      "Increase the number of iterations (max_iter) or scale the data as shown in:\n",
      "    https://scikit-learn.org/stable/modules/preprocessing.html.\n",
      "Please also refer to the documentation for alternative solver options:\n",
      "    https://scikit-learn.org/stable/modules/linear_model.html#logistic-regression\n",
      "  extra_warning_msg=_LOGISTIC_SOLVER_CONVERGENCE_MSG)\n"
     ]
    },
    {
     "name": "stdout",
     "output_type": "stream",
     "text": [
      "train_f1: 0.9959059893858984 test_f1: 0.9066147859922179 , C 8.5 min_df 2\n"
     ]
    },
    {
     "name": "stderr",
     "output_type": "stream",
     "text": [
      "C:\\Users\\a5694\\Anaconda3\\lib\\site-packages\\sklearn\\linear_model\\_logistic.py:939: ConvergenceWarning: lbfgs failed to converge (status=1):\n",
      "STOP: TOTAL NO. of ITERATIONS REACHED LIMIT.\n",
      "\n",
      "Increase the number of iterations (max_iter) or scale the data as shown in:\n",
      "    https://scikit-learn.org/stable/modules/preprocessing.html.\n",
      "Please also refer to the documentation for alternative solver options:\n",
      "    https://scikit-learn.org/stable/modules/linear_model.html#logistic-regression\n",
      "  extra_warning_msg=_LOGISTIC_SOLVER_CONVERGENCE_MSG)\n"
     ]
    },
    {
     "name": "stdout",
     "output_type": "stream",
     "text": [
      "train_f1: 0.9948445792266869 test_f1: 0.9066147859922179 , C 8.5 min_df 3\n"
     ]
    },
    {
     "name": "stderr",
     "output_type": "stream",
     "text": [
      "C:\\Users\\a5694\\Anaconda3\\lib\\site-packages\\sklearn\\linear_model\\_logistic.py:939: ConvergenceWarning: lbfgs failed to converge (status=1):\n",
      "STOP: TOTAL NO. of ITERATIONS REACHED LIMIT.\n",
      "\n",
      "Increase the number of iterations (max_iter) or scale the data as shown in:\n",
      "    https://scikit-learn.org/stable/modules/preprocessing.html.\n",
      "Please also refer to the documentation for alternative solver options:\n",
      "    https://scikit-learn.org/stable/modules/linear_model.html#logistic-regression\n",
      "  extra_warning_msg=_LOGISTIC_SOLVER_CONVERGENCE_MSG)\n"
     ]
    },
    {
     "name": "stdout",
     "output_type": "stream",
     "text": [
      "train_f1: 0.9942380591357088 test_f1: 0.9062610541209764 , C 8.5 min_df 4\n"
     ]
    },
    {
     "name": "stderr",
     "output_type": "stream",
     "text": [
      "C:\\Users\\a5694\\Anaconda3\\lib\\site-packages\\sklearn\\linear_model\\_logistic.py:939: ConvergenceWarning: lbfgs failed to converge (status=1):\n",
      "STOP: TOTAL NO. of ITERATIONS REACHED LIMIT.\n",
      "\n",
      "Increase the number of iterations (max_iter) or scale the data as shown in:\n",
      "    https://scikit-learn.org/stable/modules/preprocessing.html.\n",
      "Please also refer to the documentation for alternative solver options:\n",
      "    https://scikit-learn.org/stable/modules/linear_model.html#logistic-regression\n",
      "  extra_warning_msg=_LOGISTIC_SOLVER_CONVERGENCE_MSG)\n"
     ]
    },
    {
     "name": "stdout",
     "output_type": "stream",
     "text": [
      "train_f1: 0.9936315390447309 test_f1: 0.9023700035373187 , C 8.5 min_df 5\n"
     ]
    },
    {
     "name": "stderr",
     "output_type": "stream",
     "text": [
      "C:\\Users\\a5694\\Anaconda3\\lib\\site-packages\\sklearn\\linear_model\\_logistic.py:939: ConvergenceWarning: lbfgs failed to converge (status=1):\n",
      "STOP: TOTAL NO. of ITERATIONS REACHED LIMIT.\n",
      "\n",
      "Increase the number of iterations (max_iter) or scale the data as shown in:\n",
      "    https://scikit-learn.org/stable/modules/preprocessing.html.\n",
      "Please also refer to the documentation for alternative solver options:\n",
      "    https://scikit-learn.org/stable/modules/linear_model.html#logistic-regression\n",
      "  extra_warning_msg=_LOGISTIC_SOLVER_CONVERGENCE_MSG)\n"
     ]
    },
    {
     "name": "stdout",
     "output_type": "stream",
     "text": [
      "train_f1: 0.9931766489764974 test_f1: 0.899540148567386 , C 8.5 min_df 6\n"
     ]
    },
    {
     "name": "stderr",
     "output_type": "stream",
     "text": [
      "C:\\Users\\a5694\\Anaconda3\\lib\\site-packages\\sklearn\\linear_model\\_logistic.py:939: ConvergenceWarning: lbfgs failed to converge (status=1):\n",
      "STOP: TOTAL NO. of ITERATIONS REACHED LIMIT.\n",
      "\n",
      "Increase the number of iterations (max_iter) or scale the data as shown in:\n",
      "    https://scikit-learn.org/stable/modules/preprocessing.html.\n",
      "Please also refer to the documentation for alternative solver options:\n",
      "    https://scikit-learn.org/stable/modules/linear_model.html#logistic-regression\n",
      "  extra_warning_msg=_LOGISTIC_SOLVER_CONVERGENCE_MSG)\n"
     ]
    },
    {
     "name": "stdout",
     "output_type": "stream",
     "text": [
      "train_f1: 0.9927217589082639 test_f1: 0.8949416342412452 , C 8.5 min_df 7\n"
     ]
    },
    {
     "name": "stderr",
     "output_type": "stream",
     "text": [
      "C:\\Users\\a5694\\Anaconda3\\lib\\site-packages\\sklearn\\linear_model\\_logistic.py:939: ConvergenceWarning: lbfgs failed to converge (status=1):\n",
      "STOP: TOTAL NO. of ITERATIONS REACHED LIMIT.\n",
      "\n",
      "Increase the number of iterations (max_iter) or scale the data as shown in:\n",
      "    https://scikit-learn.org/stable/modules/preprocessing.html.\n",
      "Please also refer to the documentation for alternative solver options:\n",
      "    https://scikit-learn.org/stable/modules/linear_model.html#logistic-regression\n",
      "  extra_warning_msg=_LOGISTIC_SOLVER_CONVERGENCE_MSG)\n"
     ]
    },
    {
     "name": "stdout",
     "output_type": "stream",
     "text": [
      "train_f1: 0.9924184988627748 test_f1: 0.8952953661124867 , C 8.5 min_df 8\n"
     ]
    },
    {
     "name": "stderr",
     "output_type": "stream",
     "text": [
      "C:\\Users\\a5694\\Anaconda3\\lib\\site-packages\\sklearn\\linear_model\\_logistic.py:939: ConvergenceWarning: lbfgs failed to converge (status=1):\n",
      "STOP: TOTAL NO. of ITERATIONS REACHED LIMIT.\n",
      "\n",
      "Increase the number of iterations (max_iter) or scale the data as shown in:\n",
      "    https://scikit-learn.org/stable/modules/preprocessing.html.\n",
      "Please also refer to the documentation for alternative solver options:\n",
      "    https://scikit-learn.org/stable/modules/linear_model.html#logistic-regression\n",
      "  extra_warning_msg=_LOGISTIC_SOLVER_CONVERGENCE_MSG)\n"
     ]
    },
    {
     "name": "stdout",
     "output_type": "stream",
     "text": [
      "train_f1: 0.9916603487490523 test_f1: 0.8906968517863459 , C 8.5 min_df 9\n"
     ]
    },
    {
     "name": "stderr",
     "output_type": "stream",
     "text": [
      "C:\\Users\\a5694\\Anaconda3\\lib\\site-packages\\sklearn\\linear_model\\_logistic.py:939: ConvergenceWarning: lbfgs failed to converge (status=1):\n",
      "STOP: TOTAL NO. of ITERATIONS REACHED LIMIT.\n",
      "\n",
      "Increase the number of iterations (max_iter) or scale the data as shown in:\n",
      "    https://scikit-learn.org/stable/modules/preprocessing.html.\n",
      "Please also refer to the documentation for alternative solver options:\n",
      "    https://scikit-learn.org/stable/modules/linear_model.html#logistic-regression\n",
      "  extra_warning_msg=_LOGISTIC_SOLVER_CONVERGENCE_MSG)\n"
     ]
    },
    {
     "name": "stdout",
     "output_type": "stream",
     "text": [
      "train_f1: 0.9959059893858984 test_f1: 0.9059073222497347 , C 9.0 min_df 2\n"
     ]
    },
    {
     "name": "stderr",
     "output_type": "stream",
     "text": [
      "C:\\Users\\a5694\\Anaconda3\\lib\\site-packages\\sklearn\\linear_model\\_logistic.py:939: ConvergenceWarning: lbfgs failed to converge (status=1):\n",
      "STOP: TOTAL NO. of ITERATIONS REACHED LIMIT.\n",
      "\n",
      "Increase the number of iterations (max_iter) or scale the data as shown in:\n",
      "    https://scikit-learn.org/stable/modules/preprocessing.html.\n",
      "Please also refer to the documentation for alternative solver options:\n",
      "    https://scikit-learn.org/stable/modules/linear_model.html#logistic-regression\n",
      "  extra_warning_msg=_LOGISTIC_SOLVER_CONVERGENCE_MSG)\n"
     ]
    },
    {
     "name": "stdout",
     "output_type": "stream",
     "text": [
      "train_f1: 0.9949962092494314 test_f1: 0.9062610541209764 , C 9.0 min_df 3\n"
     ]
    },
    {
     "name": "stderr",
     "output_type": "stream",
     "text": [
      "C:\\Users\\a5694\\Anaconda3\\lib\\site-packages\\sklearn\\linear_model\\_logistic.py:939: ConvergenceWarning: lbfgs failed to converge (status=1):\n",
      "STOP: TOTAL NO. of ITERATIONS REACHED LIMIT.\n",
      "\n",
      "Increase the number of iterations (max_iter) or scale the data as shown in:\n",
      "    https://scikit-learn.org/stable/modules/preprocessing.html.\n",
      "Please also refer to the documentation for alternative solver options:\n",
      "    https://scikit-learn.org/stable/modules/linear_model.html#logistic-regression\n",
      "  extra_warning_msg=_LOGISTIC_SOLVER_CONVERGENCE_MSG)\n"
     ]
    },
    {
     "name": "stdout",
     "output_type": "stream",
     "text": [
      "train_f1: 0.9945413191811979 test_f1: 0.9048461266360099 , C 9.0 min_df 4\n"
     ]
    },
    {
     "name": "stderr",
     "output_type": "stream",
     "text": [
      "C:\\Users\\a5694\\Anaconda3\\lib\\site-packages\\sklearn\\linear_model\\_logistic.py:939: ConvergenceWarning: lbfgs failed to converge (status=1):\n",
      "STOP: TOTAL NO. of ITERATIONS REACHED LIMIT.\n",
      "\n",
      "Increase the number of iterations (max_iter) or scale the data as shown in:\n",
      "    https://scikit-learn.org/stable/modules/preprocessing.html.\n",
      "Please also refer to the documentation for alternative solver options:\n",
      "    https://scikit-learn.org/stable/modules/linear_model.html#logistic-regression\n",
      "  extra_warning_msg=_LOGISTIC_SOLVER_CONVERGENCE_MSG)\n"
     ]
    },
    {
     "name": "stdout",
     "output_type": "stream",
     "text": [
      "train_f1: 0.9939347990902199 test_f1: 0.9020162716660771 , C 9.0 min_df 5\n"
     ]
    },
    {
     "name": "stderr",
     "output_type": "stream",
     "text": [
      "C:\\Users\\a5694\\Anaconda3\\lib\\site-packages\\sklearn\\linear_model\\_logistic.py:939: ConvergenceWarning: lbfgs failed to converge (status=1):\n",
      "STOP: TOTAL NO. of ITERATIONS REACHED LIMIT.\n",
      "\n",
      "Increase the number of iterations (max_iter) or scale the data as shown in:\n",
      "    https://scikit-learn.org/stable/modules/preprocessing.html.\n",
      "Please also refer to the documentation for alternative solver options:\n",
      "    https://scikit-learn.org/stable/modules/linear_model.html#logistic-regression\n",
      "  extra_warning_msg=_LOGISTIC_SOLVER_CONVERGENCE_MSG)\n"
     ]
    },
    {
     "name": "stdout",
     "output_type": "stream",
     "text": [
      "train_f1: 0.9933282789992418 test_f1: 0.8991864166961443 , C 9.0 min_df 6\n"
     ]
    },
    {
     "name": "stderr",
     "output_type": "stream",
     "text": [
      "C:\\Users\\a5694\\Anaconda3\\lib\\site-packages\\sklearn\\linear_model\\_logistic.py:939: ConvergenceWarning: lbfgs failed to converge (status=1):\n",
      "STOP: TOTAL NO. of ITERATIONS REACHED LIMIT.\n",
      "\n",
      "Increase the number of iterations (max_iter) or scale the data as shown in:\n",
      "    https://scikit-learn.org/stable/modules/preprocessing.html.\n",
      "Please also refer to the documentation for alternative solver options:\n",
      "    https://scikit-learn.org/stable/modules/linear_model.html#logistic-regression\n",
      "  extra_warning_msg=_LOGISTIC_SOLVER_CONVERGENCE_MSG)\n"
     ]
    },
    {
     "name": "stdout",
     "output_type": "stream",
     "text": [
      "train_f1: 0.9928733889310083 test_f1: 0.894234170498762 , C 9.0 min_df 7\n"
     ]
    },
    {
     "name": "stderr",
     "output_type": "stream",
     "text": [
      "C:\\Users\\a5694\\Anaconda3\\lib\\site-packages\\sklearn\\linear_model\\_logistic.py:939: ConvergenceWarning: lbfgs failed to converge (status=1):\n",
      "STOP: TOTAL NO. of ITERATIONS REACHED LIMIT.\n",
      "\n",
      "Increase the number of iterations (max_iter) or scale the data as shown in:\n",
      "    https://scikit-learn.org/stable/modules/preprocessing.html.\n",
      "Please also refer to the documentation for alternative solver options:\n",
      "    https://scikit-learn.org/stable/modules/linear_model.html#logistic-regression\n",
      "  extra_warning_msg=_LOGISTIC_SOLVER_CONVERGENCE_MSG)\n"
     ]
    },
    {
     "name": "stdout",
     "output_type": "stream",
     "text": [
      "train_f1: 0.9924184988627748 test_f1: 0.894234170498762 , C 9.0 min_df 8\n"
     ]
    },
    {
     "name": "stderr",
     "output_type": "stream",
     "text": [
      "C:\\Users\\a5694\\Anaconda3\\lib\\site-packages\\sklearn\\linear_model\\_logistic.py:939: ConvergenceWarning: lbfgs failed to converge (status=1):\n",
      "STOP: TOTAL NO. of ITERATIONS REACHED LIMIT.\n",
      "\n",
      "Increase the number of iterations (max_iter) or scale the data as shown in:\n",
      "    https://scikit-learn.org/stable/modules/preprocessing.html.\n",
      "Please also refer to the documentation for alternative solver options:\n",
      "    https://scikit-learn.org/stable/modules/linear_model.html#logistic-regression\n",
      "  extra_warning_msg=_LOGISTIC_SOLVER_CONVERGENCE_MSG)\n"
     ]
    },
    {
     "name": "stdout",
     "output_type": "stream",
     "text": [
      "train_f1: 0.9918119787717968 test_f1: 0.8899893880438627 , C 9.0 min_df 9\n"
     ]
    },
    {
     "name": "stderr",
     "output_type": "stream",
     "text": [
      "C:\\Users\\a5694\\Anaconda3\\lib\\site-packages\\sklearn\\linear_model\\_logistic.py:939: ConvergenceWarning: lbfgs failed to converge (status=1):\n",
      "STOP: TOTAL NO. of ITERATIONS REACHED LIMIT.\n",
      "\n",
      "Increase the number of iterations (max_iter) or scale the data as shown in:\n",
      "    https://scikit-learn.org/stable/modules/preprocessing.html.\n",
      "Please also refer to the documentation for alternative solver options:\n",
      "    https://scikit-learn.org/stable/modules/linear_model.html#logistic-regression\n",
      "  extra_warning_msg=_LOGISTIC_SOLVER_CONVERGENCE_MSG)\n"
     ]
    },
    {
     "name": "stdout",
     "output_type": "stream",
     "text": [
      "train_f1: 0.9960576194086429 test_f1: 0.9059073222497347 , C 9.5 min_df 2\n"
     ]
    },
    {
     "name": "stderr",
     "output_type": "stream",
     "text": [
      "C:\\Users\\a5694\\Anaconda3\\lib\\site-packages\\sklearn\\linear_model\\_logistic.py:939: ConvergenceWarning: lbfgs failed to converge (status=1):\n",
      "STOP: TOTAL NO. of ITERATIONS REACHED LIMIT.\n",
      "\n",
      "Increase the number of iterations (max_iter) or scale the data as shown in:\n",
      "    https://scikit-learn.org/stable/modules/preprocessing.html.\n",
      "Please also refer to the documentation for alternative solver options:\n",
      "    https://scikit-learn.org/stable/modules/linear_model.html#logistic-regression\n",
      "  extra_warning_msg=_LOGISTIC_SOLVER_CONVERGENCE_MSG)\n"
     ]
    },
    {
     "name": "stdout",
     "output_type": "stream",
     "text": [
      "train_f1: 0.9949962092494314 test_f1: 0.9059073222497347 , C 9.5 min_df 3\n"
     ]
    },
    {
     "name": "stderr",
     "output_type": "stream",
     "text": [
      "C:\\Users\\a5694\\Anaconda3\\lib\\site-packages\\sklearn\\linear_model\\_logistic.py:939: ConvergenceWarning: lbfgs failed to converge (status=1):\n",
      "STOP: TOTAL NO. of ITERATIONS REACHED LIMIT.\n",
      "\n",
      "Increase the number of iterations (max_iter) or scale the data as shown in:\n",
      "    https://scikit-learn.org/stable/modules/preprocessing.html.\n",
      "Please also refer to the documentation for alternative solver options:\n",
      "    https://scikit-learn.org/stable/modules/linear_model.html#logistic-regression\n",
      "  extra_warning_msg=_LOGISTIC_SOLVER_CONVERGENCE_MSG)\n"
     ]
    },
    {
     "name": "stdout",
     "output_type": "stream",
     "text": [
      "train_f1: 0.9946929492039424 test_f1: 0.9048461266360099 , C 9.5 min_df 4\n"
     ]
    },
    {
     "name": "stderr",
     "output_type": "stream",
     "text": [
      "C:\\Users\\a5694\\Anaconda3\\lib\\site-packages\\sklearn\\linear_model\\_logistic.py:939: ConvergenceWarning: lbfgs failed to converge (status=1):\n",
      "STOP: TOTAL NO. of ITERATIONS REACHED LIMIT.\n",
      "\n",
      "Increase the number of iterations (max_iter) or scale the data as shown in:\n",
      "    https://scikit-learn.org/stable/modules/preprocessing.html.\n",
      "Please also refer to the documentation for alternative solver options:\n",
      "    https://scikit-learn.org/stable/modules/linear_model.html#logistic-regression\n",
      "  extra_warning_msg=_LOGISTIC_SOLVER_CONVERGENCE_MSG)\n"
     ]
    },
    {
     "name": "stdout",
     "output_type": "stream",
     "text": [
      "train_f1: 0.9939347990902199 test_f1: 0.9016625397948355 , C 9.5 min_df 5\n"
     ]
    },
    {
     "name": "stderr",
     "output_type": "stream",
     "text": [
      "C:\\Users\\a5694\\Anaconda3\\lib\\site-packages\\sklearn\\linear_model\\_logistic.py:939: ConvergenceWarning: lbfgs failed to converge (status=1):\n",
      "STOP: TOTAL NO. of ITERATIONS REACHED LIMIT.\n",
      "\n",
      "Increase the number of iterations (max_iter) or scale the data as shown in:\n",
      "    https://scikit-learn.org/stable/modules/preprocessing.html.\n",
      "Please also refer to the documentation for alternative solver options:\n",
      "    https://scikit-learn.org/stable/modules/linear_model.html#logistic-regression\n",
      "  extra_warning_msg=_LOGISTIC_SOLVER_CONVERGENCE_MSG)\n"
     ]
    },
    {
     "name": "stdout",
     "output_type": "stream",
     "text": [
      "train_f1: 0.9937831690674753 test_f1: 0.8998938804386275 , C 9.5 min_df 6\n"
     ]
    },
    {
     "name": "stderr",
     "output_type": "stream",
     "text": [
      "C:\\Users\\a5694\\Anaconda3\\lib\\site-packages\\sklearn\\linear_model\\_logistic.py:939: ConvergenceWarning: lbfgs failed to converge (status=1):\n",
      "STOP: TOTAL NO. of ITERATIONS REACHED LIMIT.\n",
      "\n",
      "Increase the number of iterations (max_iter) or scale the data as shown in:\n",
      "    https://scikit-learn.org/stable/modules/preprocessing.html.\n",
      "Please also refer to the documentation for alternative solver options:\n",
      "    https://scikit-learn.org/stable/modules/linear_model.html#logistic-regression\n",
      "  extra_warning_msg=_LOGISTIC_SOLVER_CONVERGENCE_MSG)\n"
     ]
    },
    {
     "name": "stdout",
     "output_type": "stream",
     "text": [
      "train_f1: 0.9931766489764974 test_f1: 0.8935267067562788 , C 9.5 min_df 7\n"
     ]
    },
    {
     "name": "stderr",
     "output_type": "stream",
     "text": [
      "C:\\Users\\a5694\\Anaconda3\\lib\\site-packages\\sklearn\\linear_model\\_logistic.py:939: ConvergenceWarning: lbfgs failed to converge (status=1):\n",
      "STOP: TOTAL NO. of ITERATIONS REACHED LIMIT.\n",
      "\n",
      "Increase the number of iterations (max_iter) or scale the data as shown in:\n",
      "    https://scikit-learn.org/stable/modules/preprocessing.html.\n",
      "Please also refer to the documentation for alternative solver options:\n",
      "    https://scikit-learn.org/stable/modules/linear_model.html#logistic-regression\n",
      "  extra_warning_msg=_LOGISTIC_SOLVER_CONVERGENCE_MSG)\n"
     ]
    },
    {
     "name": "stdout",
     "output_type": "stream",
     "text": [
      "train_f1: 0.9927217589082639 test_f1: 0.8952953661124867 , C 9.5 min_df 8\n"
     ]
    },
    {
     "name": "stderr",
     "output_type": "stream",
     "text": [
      "C:\\Users\\a5694\\Anaconda3\\lib\\site-packages\\sklearn\\linear_model\\_logistic.py:939: ConvergenceWarning: lbfgs failed to converge (status=1):\n",
      "STOP: TOTAL NO. of ITERATIONS REACHED LIMIT.\n",
      "\n",
      "Increase the number of iterations (max_iter) or scale the data as shown in:\n",
      "    https://scikit-learn.org/stable/modules/preprocessing.html.\n",
      "Please also refer to the documentation for alternative solver options:\n",
      "    https://scikit-learn.org/stable/modules/linear_model.html#logistic-regression\n",
      "  extra_warning_msg=_LOGISTIC_SOLVER_CONVERGENCE_MSG)\n"
     ]
    },
    {
     "name": "stdout",
     "output_type": "stream",
     "text": [
      "train_f1: 0.9918119787717968 test_f1: 0.8906968517863459 , C 9.5 min_df 9\n"
     ]
    }
   ],
   "source": [
    "## lr model with CountVectorizer\n",
    "C = np.arange(0.5,10,0.5)\n",
    "max_test_f1 = 0\n",
    "for i in C:\n",
    "    for j in range(2, 10, 1):\n",
    "        lr_model = LogisticRegression(C=i)\n",
    "        #my_stop_words = text.ENGLISH_STOP_WORDS.union([\"love\",'great','best','like','better','phone'])\n",
    "        vec = CountVectorizer(min_df = j, stop_words ='english', lowercase = True, ngram_range = (1,3))\n",
    "        pipe = make_pipeline(vec, lr_model)\n",
    "        pipe.fit(nlp_train.clean_up_review.values.astype('U'), nlp_train.target)\n",
    "        train_preds = pipe.predict(nlp_train.clean_up_review.values.astype('U'))\n",
    "        train_f1 = f1_score(nlp_train.target, train_preds, average='micro')\n",
    "        test_preds = pipe.predict(nlp_test.clean_up_review.values.astype('U'))\n",
    "        test_f1 = f1_score(nlp_test.target, test_preds, average='micro')\n",
    "        train_f1, test_f1\n",
    "        print('train_f1:',train_f1,'test_f1:', test_f1, \",\",\"C\", i, \"min_df\",  j)\n",
    "        if( test_f1 > max_test_f1):\n",
    "            opt_c = i\n",
    "            opt_min_df = j \n",
    "            max_test_f1 = test_f1"
   ]
  },
  {
   "cell_type": "code",
   "execution_count": 21,
   "metadata": {},
   "outputs": [
    {
     "data": {
      "text/plain": [
       "(0.9956027293404094, 0.8945879023700035)"
      ]
     },
     "execution_count": 21,
     "metadata": {},
     "output_type": "execute_result"
    }
   ],
   "source": [
    "### rf model with CountVectorizer\n",
    "rf_model = RandomForestClassifier(n_estimators=1000,min_samples_split=3)\n",
    "vec = CountVectorizer(stop_words = 'english', min_df = 5,lowercase = True, ngram_range = (1,3))\n",
    "pipe = make_pipeline(vec, rf_model)\n",
    "pipe.fit(nlp_train.clean_up_review.values.astype('U'), nlp_train.target)\n",
    "train_preds = pipe.predict(nlp_train.clean_up_review.values.astype('U'))\n",
    "train_f1 = f1_score(nlp_train.target, train_preds, average='micro')\n",
    "test_preds = pipe.predict(nlp_test.clean_up_review.values.astype('U'))\n",
    "test_f1 = f1_score(nlp_test.target, test_preds, average='micro')\n",
    "train_f1, test_f1 "
   ]
  },
  {
   "cell_type": "code",
   "execution_count": 22,
   "metadata": {},
   "outputs": [
    {
     "data": {
      "text/plain": [
       "(0.9962092494313874, 0.8931729748850371)"
      ]
     },
     "execution_count": 22,
     "metadata": {},
     "output_type": "execute_result"
    }
   ],
   "source": [
    "#rf tfidf\n",
    "rf_model = RandomForestClassifier(n_estimators=100)\n",
    "vec = TfidfVectorizer(stop_words = 'english', min_df = 5,lowercase = True, ngram_range = (1,3))\n",
    "pipe = make_pipeline(vec, rf_model)\n",
    "pipe.fit(nlp_train.clean_up_review.values.astype('U'), nlp_train.target)\n",
    "train_preds = pipe.predict(nlp_train.clean_up_review.values.astype('U'))\n",
    "train_f1 = f1_score(nlp_train.target, train_preds, average='micro')\n",
    "test_preds = pipe.predict(nlp_test.clean_up_review.values.astype('U'))\n",
    "test_f1 = f1_score(nlp_test.target, test_preds, average='micro')\n",
    "train_f1, test_f1 "
   ]
  },
  {
   "cell_type": "code",
   "execution_count": 23,
   "metadata": {
    "scrolled": true
   },
   "outputs": [
    {
     "name": "stdout",
     "output_type": "stream",
     "text": [
      "train_f1: 0.9968157695223654 test_f1: 0.8931729748850371 , n_estimator 100 min_df 2\n",
      "train_f1: 0.996664139499621 test_f1: 0.8921117792713124 , n_estimator 100 min_df 3\n",
      "train_f1: 0.9963608794541319 test_f1: 0.8931729748850371 , n_estimator 100 min_df 4\n",
      "train_f1: 0.9962092494313874 test_f1: 0.8945879023700035 , n_estimator 100 min_df 5\n",
      "train_f1: 0.9962092494313874 test_f1: 0.8875132649451716 , n_estimator 100 min_df 6\n",
      "train_f1: 0.9962092494313874 test_f1: 0.8910505836575876 , n_estimator 100 min_df 7\n",
      "train_f1: 0.9962092494313874 test_f1: 0.8924655111425539 , n_estimator 100 min_df 8\n",
      "train_f1: 0.9960576194086429 test_f1: 0.8892819243013795 , n_estimator 100 min_df 9\n",
      "train_f1: 0.9969673995451099 test_f1: 0.8931729748850371 , n_estimator 200 min_df 2\n",
      "train_f1: 0.996664139499621 test_f1: 0.8924655111425539 , n_estimator 200 min_df 3\n",
      "train_f1: 0.9963608794541319 test_f1: 0.8928192430137956 , n_estimator 200 min_df 4\n",
      "train_f1: 0.9962092494313874 test_f1: 0.8956490979837284 , n_estimator 200 min_df 5\n",
      "train_f1: 0.9962092494313874 test_f1: 0.8945879023700035 , n_estimator 200 min_df 6\n",
      "train_f1: 0.9962092494313874 test_f1: 0.8931729748850371 , n_estimator 200 min_df 7\n",
      "train_f1: 0.9962092494313874 test_f1: 0.8910505836575876 , n_estimator 200 min_df 8\n",
      "train_f1: 0.9960576194086429 test_f1: 0.8921117792713124 , n_estimator 200 min_df 9\n",
      "train_f1: 0.9969673995451099 test_f1: 0.8938804386275203 , n_estimator 300 min_df 2\n",
      "train_f1: 0.996664139499621 test_f1: 0.8945879023700035 , n_estimator 300 min_df 3\n",
      "train_f1: 0.9963608794541319 test_f1: 0.8963565617262116 , n_estimator 300 min_df 4\n",
      "train_f1: 0.9962092494313874 test_f1: 0.8963565617262116 , n_estimator 300 min_df 5\n",
      "train_f1: 0.9962092494313874 test_f1: 0.894234170498762 , n_estimator 300 min_df 6\n",
      "train_f1: 0.9962092494313874 test_f1: 0.8938804386275203 , n_estimator 300 min_df 7\n",
      "train_f1: 0.9962092494313874 test_f1: 0.8924655111425539 , n_estimator 300 min_df 8\n",
      "train_f1: 0.9960576194086429 test_f1: 0.8892819243013795 , n_estimator 300 min_df 9\n",
      "train_f1: 0.9969673995451099 test_f1: 0.8952953661124867 , n_estimator 400 min_df 2\n",
      "train_f1: 0.996664139499621 test_f1: 0.8935267067562788 , n_estimator 400 min_df 3\n",
      "train_f1: 0.9963608794541319 test_f1: 0.894234170498762 , n_estimator 400 min_df 4\n",
      "train_f1: 0.9962092494313874 test_f1: 0.8949416342412452 , n_estimator 400 min_df 5\n",
      "train_f1: 0.9962092494313874 test_f1: 0.8949416342412452 , n_estimator 400 min_df 6\n",
      "train_f1: 0.9962092494313874 test_f1: 0.8945879023700035 , n_estimator 400 min_df 7\n",
      "train_f1: 0.9962092494313874 test_f1: 0.8917580474000707 , n_estimator 400 min_df 8\n",
      "train_f1: 0.9960576194086429 test_f1: 0.8963565617262116 , n_estimator 400 min_df 9\n",
      "train_f1: 0.9969673995451099 test_f1: 0.8956490979837284 , n_estimator 500 min_df 2\n",
      "train_f1: 0.996664139499621 test_f1: 0.8960028298549699 , n_estimator 500 min_df 3\n",
      "train_f1: 0.9963608794541319 test_f1: 0.8952953661124867 , n_estimator 500 min_df 4\n",
      "train_f1: 0.9962092494313874 test_f1: 0.8970640254686947 , n_estimator 500 min_df 5\n",
      "train_f1: 0.9962092494313874 test_f1: 0.8921117792713124 , n_estimator 500 min_df 6\n",
      "train_f1: 0.9962092494313874 test_f1: 0.8928192430137956 , n_estimator 500 min_df 7\n",
      "train_f1: 0.9962092494313874 test_f1: 0.8914043155288291 , n_estimator 500 min_df 8\n",
      "train_f1: 0.9960576194086429 test_f1: 0.8931729748850371 , n_estimator 500 min_df 9\n",
      "train_f1: 0.9969673995451099 test_f1: 0.8935267067562788 , n_estimator 600 min_df 2\n",
      "train_f1: 0.996664139499621 test_f1: 0.8970640254686947 , n_estimator 600 min_df 3\n",
      "train_f1: 0.9963608794541319 test_f1: 0.894234170498762 , n_estimator 600 min_df 4\n",
      "train_f1: 0.9962092494313874 test_f1: 0.894234170498762 , n_estimator 600 min_df 5\n",
      "train_f1: 0.9962092494313874 test_f1: 0.8956490979837284 , n_estimator 600 min_df 6\n",
      "train_f1: 0.9962092494313874 test_f1: 0.8967102935974531 , n_estimator 600 min_df 7\n",
      "train_f1: 0.9962092494313874 test_f1: 0.8935267067562788 , n_estimator 600 min_df 8\n",
      "train_f1: 0.9960576194086429 test_f1: 0.8892819243013795 , n_estimator 600 min_df 9\n",
      "train_f1: 0.9969673995451099 test_f1: 0.894234170498762 , n_estimator 700 min_df 2\n",
      "train_f1: 0.996664139499621 test_f1: 0.8981252210824195 , n_estimator 700 min_df 3\n",
      "train_f1: 0.9963608794541319 test_f1: 0.8970640254686947 , n_estimator 700 min_df 4\n",
      "train_f1: 0.9962092494313874 test_f1: 0.8977714892111779 , n_estimator 700 min_df 5\n",
      "train_f1: 0.9962092494313874 test_f1: 0.8945879023700035 , n_estimator 700 min_df 6\n",
      "train_f1: 0.9962092494313874 test_f1: 0.8952953661124867 , n_estimator 700 min_df 7\n",
      "train_f1: 0.9962092494313874 test_f1: 0.8960028298549699 , n_estimator 700 min_df 8\n",
      "train_f1: 0.9960576194086429 test_f1: 0.8910505836575876 , n_estimator 700 min_df 9\n",
      "train_f1: 0.9969673995451099 test_f1: 0.8931729748850371 , n_estimator 800 min_df 2\n",
      "train_f1: 0.996664139499621 test_f1: 0.8928192430137956 , n_estimator 800 min_df 3\n",
      "train_f1: 0.9963608794541319 test_f1: 0.8991864166961443 , n_estimator 800 min_df 4\n",
      "train_f1: 0.9962092494313874 test_f1: 0.8938804386275203 , n_estimator 800 min_df 5\n",
      "train_f1: 0.9962092494313874 test_f1: 0.8970640254686947 , n_estimator 800 min_df 6\n",
      "train_f1: 0.9962092494313874 test_f1: 0.8949416342412452 , n_estimator 800 min_df 7\n",
      "train_f1: 0.9962092494313874 test_f1: 0.894234170498762 , n_estimator 800 min_df 8\n",
      "train_f1: 0.9960576194086429 test_f1: 0.8921117792713124 , n_estimator 800 min_df 9\n",
      "train_f1: 0.9969673995451099 test_f1: 0.8974177573399363 , n_estimator 900 min_df 2\n",
      "train_f1: 0.996664139499621 test_f1: 0.8960028298549699 , n_estimator 900 min_df 3\n",
      "train_f1: 0.9963608794541319 test_f1: 0.8960028298549699 , n_estimator 900 min_df 4\n",
      "train_f1: 0.9962092494313874 test_f1: 0.8945879023700035 , n_estimator 900 min_df 5\n",
      "train_f1: 0.9962092494313874 test_f1: 0.8935267067562788 , n_estimator 900 min_df 6\n",
      "train_f1: 0.9962092494313874 test_f1: 0.8938804386275203 , n_estimator 900 min_df 7\n",
      "train_f1: 0.9962092494313874 test_f1: 0.8928192430137956 , n_estimator 900 min_df 8\n",
      "train_f1: 0.9960576194086429 test_f1: 0.8928192430137956 , n_estimator 900 min_df 9\n"
     ]
    }
   ],
   "source": [
    "## rf model with TfidfVectorizer\n",
    "n_estimater = np.arange(100,1000,100)\n",
    "max_test_f1 = 0\n",
    "for i in n_estimater:\n",
    "    for j in range(2, 10, 1):\n",
    "        rf_model = RandomForestClassifier(n_estimators=i)\n",
    "        #my_stop_words = text.ENGLISH_STOP_WORDS.union([\"love\",'great','best','like','better','phone'])\n",
    "        vec = TfidfVectorizer(min_df = j, stop_words ='english', lowercase = True, ngram_range = (1,3))\n",
    "        pipe = make_pipeline(vec, rf_model)\n",
    "        pipe.fit(nlp_train.clean_up_review.values.astype('U'), nlp_train.target)\n",
    "        train_preds = pipe.predict(nlp_train.clean_up_review.values.astype('U'))\n",
    "        train_f1 = f1_score(nlp_train.target, train_preds, average='micro')\n",
    "        test_preds = pipe.predict(nlp_test.clean_up_review.values.astype('U'))\n",
    "        test_f1 = f1_score(nlp_test.target, test_preds, average='micro')\n",
    "        train_f1, test_f1\n",
    "        print('train_f1:',train_f1,'test_f1:', test_f1, \",\",\"n_estimator\", i, \"min_df\",  j)\n",
    "        if( test_f1 > max_test_f1):\n",
    "            opt_n = i\n",
    "            opt_min_df = j \n",
    "            max_test_f1 = test_f1"
   ]
  },
  {
   "cell_type": "code",
   "execution_count": 194,
   "metadata": {},
   "outputs": [
    {
     "name": "stdout",
     "output_type": "stream",
     "text": [
      "500 4 0.9006013441811107\n"
     ]
    }
   ],
   "source": [
    "print(opt_n, opt_min_df, max_test_f1)"
   ]
  },
  {
   "cell_type": "code",
   "execution_count": 29,
   "metadata": {
    "scrolled": true
   },
   "outputs": [
    {
     "name": "stdout",
     "output_type": "stream",
     "text": [
      "train_f1: 0.9969673995451099 test_f1: 0.8928192430137956 , C 100 min_df 2\n",
      "train_f1: 0.996664139499621 test_f1: 0.8952953661124867 , C 100 min_df 3\n",
      "train_f1: 0.9963608794541319 test_f1: 0.8949416342412452 , C 100 min_df 4\n",
      "train_f1: 0.9962092494313874 test_f1: 0.8970640254686947 , C 100 min_df 5\n",
      "train_f1: 0.9962092494313874 test_f1: 0.8938804386275203 , C 100 min_df 6\n",
      "train_f1: 0.9962092494313874 test_f1: 0.8892819243013795 , C 100 min_df 7\n",
      "train_f1: 0.9962092494313874 test_f1: 0.894234170498762 , C 100 min_df 8\n",
      "train_f1: 0.9960576194086429 test_f1: 0.8935267067562788 , C 100 min_df 9\n",
      "train_f1: 0.9969673995451099 test_f1: 0.8928192430137956 , C 200 min_df 2\n",
      "train_f1: 0.996664139499621 test_f1: 0.8967102935974531 , C 200 min_df 3\n",
      "train_f1: 0.9963608794541319 test_f1: 0.8974177573399363 , C 200 min_df 4\n",
      "train_f1: 0.9962092494313874 test_f1: 0.8952953661124867 , C 200 min_df 5\n",
      "train_f1: 0.9962092494313874 test_f1: 0.894234170498762 , C 200 min_df 6\n",
      "train_f1: 0.9962092494313874 test_f1: 0.8928192430137956 , C 200 min_df 7\n",
      "train_f1: 0.9962092494313874 test_f1: 0.8917580474000707 , C 200 min_df 8\n",
      "train_f1: 0.9960576194086429 test_f1: 0.8928192430137956 , C 200 min_df 9\n",
      "train_f1: 0.9969673995451099 test_f1: 0.8952953661124867 , C 300 min_df 2\n",
      "train_f1: 0.996664139499621 test_f1: 0.8981252210824195 , C 300 min_df 3\n",
      "train_f1: 0.9963608794541319 test_f1: 0.9013088079235939 , C 300 min_df 4\n",
      "train_f1: 0.9962092494313874 test_f1: 0.8952953661124867 , C 300 min_df 5\n",
      "train_f1: 0.9962092494313874 test_f1: 0.894234170498762 , C 300 min_df 6\n",
      "train_f1: 0.9962092494313874 test_f1: 0.8935267067562788 , C 300 min_df 7\n",
      "train_f1: 0.9962092494313874 test_f1: 0.8906968517863459 , C 300 min_df 8\n",
      "train_f1: 0.9960576194086429 test_f1: 0.8945879023700035 , C 300 min_df 9\n",
      "train_f1: 0.9969673995451099 test_f1: 0.8974177573399363 , C 400 min_df 2\n",
      "train_f1: 0.996664139499621 test_f1: 0.8963565617262116 , C 400 min_df 3\n",
      "train_f1: 0.9963608794541319 test_f1: 0.8974177573399363 , C 400 min_df 4\n",
      "train_f1: 0.9962092494313874 test_f1: 0.8967102935974531 , C 400 min_df 5\n",
      "train_f1: 0.9962092494313874 test_f1: 0.8928192430137956 , C 400 min_df 6\n",
      "train_f1: 0.9962092494313874 test_f1: 0.894234170498762 , C 400 min_df 7\n",
      "train_f1: 0.9962092494313874 test_f1: 0.8906968517863459 , C 400 min_df 8\n",
      "train_f1: 0.9960576194086429 test_f1: 0.8882207286876549 , C 400 min_df 9\n",
      "train_f1: 0.9969673995451099 test_f1: 0.8984789529536611 , C 500 min_df 2\n",
      "train_f1: 0.996664139499621 test_f1: 0.899540148567386 , C 500 min_df 3\n",
      "train_f1: 0.9963608794541319 test_f1: 0.8977714892111779 , C 500 min_df 4\n",
      "train_f1: 0.9962092494313874 test_f1: 0.8984789529536611 , C 500 min_df 5\n",
      "train_f1: 0.9962092494313874 test_f1: 0.8935267067562788 , C 500 min_df 6\n",
      "train_f1: 0.9962092494313874 test_f1: 0.8938804386275203 , C 500 min_df 7\n",
      "train_f1: 0.9962092494313874 test_f1: 0.8910505836575876 , C 500 min_df 8\n",
      "train_f1: 0.9960576194086429 test_f1: 0.8899893880438627 , C 500 min_df 9\n",
      "train_f1: 0.9969673995451099 test_f1: 0.8988326848249028 , C 600 min_df 2\n",
      "train_f1: 0.996664139499621 test_f1: 0.8977714892111779 , C 600 min_df 3\n",
      "train_f1: 0.9963608794541319 test_f1: 0.8977714892111779 , C 600 min_df 4\n",
      "train_f1: 0.9962092494313874 test_f1: 0.8967102935974531 , C 600 min_df 5\n",
      "train_f1: 0.9962092494313874 test_f1: 0.8945879023700035 , C 600 min_df 6\n",
      "train_f1: 0.9962092494313874 test_f1: 0.8924655111425539 , C 600 min_df 7\n",
      "train_f1: 0.9962092494313874 test_f1: 0.8935267067562788 , C 600 min_df 8\n",
      "train_f1: 0.9960576194086429 test_f1: 0.8906968517863459 , C 600 min_df 9\n",
      "train_f1: 0.9969673995451099 test_f1: 0.8984789529536611 , C 700 min_df 2\n",
      "train_f1: 0.996664139499621 test_f1: 0.8988326848249028 , C 700 min_df 3\n",
      "train_f1: 0.9963608794541319 test_f1: 0.8984789529536611 , C 700 min_df 4\n",
      "train_f1: 0.9962092494313874 test_f1: 0.8963565617262116 , C 700 min_df 5\n",
      "train_f1: 0.9962092494313874 test_f1: 0.8956490979837284 , C 700 min_df 6\n",
      "train_f1: 0.9962092494313874 test_f1: 0.8914043155288291 , C 700 min_df 7\n",
      "train_f1: 0.9962092494313874 test_f1: 0.8914043155288291 , C 700 min_df 8\n",
      "train_f1: 0.9960576194086429 test_f1: 0.8903431199151044 , C 700 min_df 9\n",
      "train_f1: 0.9969673995451099 test_f1: 0.8956490979837284 , C 800 min_df 2\n",
      "train_f1: 0.996664139499621 test_f1: 0.8991864166961443 , C 800 min_df 3\n",
      "train_f1: 0.9963608794541319 test_f1: 0.8991864166961443 , C 800 min_df 4\n",
      "train_f1: 0.9962092494313874 test_f1: 0.8952953661124867 , C 800 min_df 5\n",
      "train_f1: 0.9962092494313874 test_f1: 0.8956490979837284 , C 800 min_df 6\n",
      "train_f1: 0.9962092494313874 test_f1: 0.8917580474000707 , C 800 min_df 7\n",
      "train_f1: 0.9962092494313874 test_f1: 0.8935267067562788 , C 800 min_df 8\n",
      "train_f1: 0.9960576194086429 test_f1: 0.8896356561726212 , C 800 min_df 9\n",
      "train_f1: 0.9969673995451099 test_f1: 0.8970640254686947 , C 900 min_df 2\n",
      "train_f1: 0.996664139499621 test_f1: 0.8970640254686947 , C 900 min_df 3\n",
      "train_f1: 0.9963608794541319 test_f1: 0.9009550760523524 , C 900 min_df 4\n",
      "train_f1: 0.9962092494313874 test_f1: 0.8949416342412452 , C 900 min_df 5\n",
      "train_f1: 0.9962092494313874 test_f1: 0.8931729748850371 , C 900 min_df 6\n",
      "train_f1: 0.9962092494313874 test_f1: 0.8924655111425539 , C 900 min_df 7\n",
      "train_f1: 0.9962092494313874 test_f1: 0.8914043155288291 , C 900 min_df 8\n",
      "train_f1: 0.9960576194086429 test_f1: 0.8910505836575876 , C 900 min_df 9\n"
     ]
    }
   ],
   "source": [
    "## rf model with CountVectorizer\n",
    "nestimator = np.arange(100,1000,100)\n",
    "max_test_f1 = 0\n",
    "for i in nestimator:\n",
    "    for j in range(2, 10, 1):\n",
    "        rf_model = RandomForestClassifier(n_estimators=i)\n",
    "        vec = CountVectorizer(min_df = j, stop_words ='english', lowercase = True, ngram_range = (1,3))\n",
    "        pipe = make_pipeline(vec, rf_model)\n",
    "        pipe.fit(nlp_train.clean_up_review.values.astype('U'), nlp_train.target)\n",
    "        train_preds = pipe.predict(nlp_train.clean_up_review.values.astype('U'))\n",
    "        train_f1 = f1_score(nlp_train.target, train_preds, average='micro')\n",
    "        test_preds = pipe.predict(nlp_test.clean_up_review.values.astype('U'))\n",
    "        test_f1 = f1_score(nlp_test.target, test_preds, average='micro')\n",
    "        train_f1, test_f1\n",
    "        print('train_f1:',train_f1,'test_f1:', test_f1, \",\",\"C\", i, \"min_df\",  j)\n",
    "        if( test_f1 > max_test_f1):\n",
    "            opt_rf_cnt_n = i\n",
    "            opt_rf_cnt_min_df = j \n",
    "            max_test_rf_cnt_f1 = test_f1"
   ]
  },
  {
   "cell_type": "code",
   "execution_count": 30,
   "metadata": {},
   "outputs": [
    {
     "name": "stdout",
     "output_type": "stream",
     "text": [
      "900 9 0.8910505836575876\n"
     ]
    }
   ],
   "source": [
    "print(opt_rf_cnt_n,opt_rf_cnt_min_df,max_test_lr_cnt_f1)"
   ]
  }
 ],
 "metadata": {
  "kernelspec": {
   "display_name": "Python 3",
   "language": "python",
   "name": "python3"
  },
  "language_info": {
   "codemirror_mode": {
    "name": "ipython",
    "version": 3
   },
   "file_extension": ".py",
   "mimetype": "text/x-python",
   "name": "python",
   "nbconvert_exporter": "python",
   "pygments_lexer": "ipython3",
   "version": "3.7.6"
  }
 },
 "nbformat": 4,
 "nbformat_minor": 4
}
