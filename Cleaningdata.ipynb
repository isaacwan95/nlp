{
  "nbformat": 4,
  "nbformat_minor": 0,
  "metadata": {
    "colab": {
      "name": "Cleaningdata.ipynb",
      "provenance": [],
      "authorship_tag": "ABX9TyOiqLvbzDP0uK6VGOnA/VAA",
      "include_colab_link": true
    },
    "kernelspec": {
      "name": "python3",
      "display_name": "Python 3"
    }
  },
  "cells": [
    {
      "cell_type": "markdown",
      "metadata": {
        "id": "view-in-github",
        "colab_type": "text"
      },
      "source": [
        "<a href=\"https://colab.research.google.com/github/isaacwan95/nlp/blob/master/Cleaningdata.ipynb\" target=\"_parent\"><img src=\"https://colab.research.google.com/assets/colab-badge.svg\" alt=\"Open In Colab\"/></a>"
      ]
    },
    {
      "cell_type": "code",
      "metadata": {
        "id": "rsUCY08nur-H",
        "colab_type": "code",
        "colab": {}
      },
      "source": [
        "import os\n",
        "import json\n",
        "import gzip\n",
        "import pandas as pd\n",
        "from urllib.request import urlopen"
      ],
      "execution_count": 0,
      "outputs": []
    },
    {
      "cell_type": "code",
      "metadata": {
        "id": "C38a0zujuuoB",
        "colab_type": "code",
        "outputId": "53ea31a0-be06-4cc7-ffb7-13664030cd47",
        "colab": {
          "base_uri": "https://localhost:8080/",
          "height": 202
        }
      },
      "source": [
        "!wget http://deepyeti.ucsd.edu/jianmo/amazon/metaFiles/meta_Cell_Phones_and_Accessories.json.gz"
      ],
      "execution_count": 0,
      "outputs": [
        {
          "output_type": "stream",
          "text": [
            "--2020-05-23 01:42:08--  http://deepyeti.ucsd.edu/jianmo/amazon/metaFiles/meta_Cell_Phones_and_Accessories.json.gz\n",
            "Resolving deepyeti.ucsd.edu (deepyeti.ucsd.edu)... 169.228.63.50\n",
            "Connecting to deepyeti.ucsd.edu (deepyeti.ucsd.edu)|169.228.63.50|:80... connected.\n",
            "HTTP request sent, awaiting response... 200 OK\n",
            "Length: 258166282 (246M) [application/octet-stream]\n",
            "Saving to: ‘meta_Cell_Phones_and_Accessories.json.gz.1’\n",
            "\n",
            "meta_Cell_Phones_an 100%[===================>] 246.21M  38.8MB/s    in 6.8s    \n",
            "\n",
            "2020-05-23 01:42:15 (36.4 MB/s) - ‘meta_Cell_Phones_and_Accessories.json.gz.1’ saved [258166282/258166282]\n",
            "\n"
          ],
          "name": "stdout"
        }
      ]
    },
    {
      "cell_type": "code",
      "metadata": {
        "id": "MllE7omAvDgS",
        "colab_type": "code",
        "colab": {}
      },
      "source": [
        "data = []\n",
        "with gzip.open('meta_Cell_Phones_and_Accessories.json.gz') as f:\n",
        "    for l in f:\n",
        "        data.append(json.loads(l.strip()))"
      ],
      "execution_count": 0,
      "outputs": []
    },
    {
      "cell_type": "code",
      "metadata": {
        "id": "tmN7SinfvM3Q",
        "colab_type": "code",
        "outputId": "d9abeca6-383f-42e2-9b0e-c662f04a6d67",
        "colab": {
          "base_uri": "https://localhost:8080/",
          "height": 34
        }
      },
      "source": [
        "print(len(data))"
      ],
      "execution_count": 0,
      "outputs": [
        {
          "output_type": "stream",
          "text": [
            "590269\n"
          ],
          "name": "stdout"
        }
      ]
    },
    {
      "cell_type": "code",
      "metadata": {
        "id": "CNsLo6C0vddJ",
        "colab_type": "code",
        "outputId": "5263bf55-ac8e-441e-810a-b07c488ecf9c",
        "colab": {
          "base_uri": "https://localhost:8080/",
          "height": 34
        }
      },
      "source": [
        "df = pd.DataFrame.from_dict(data)\n",
        "\n",
        "print(len(df))"
      ],
      "execution_count": 0,
      "outputs": [
        {
          "output_type": "stream",
          "text": [
            "590269\n"
          ],
          "name": "stdout"
        }
      ]
    },
    {
      "cell_type": "code",
      "metadata": {
        "id": "Mai-mzvTvfvL",
        "colab_type": "code",
        "outputId": "db4b35bd-8dd0-401e-f4be-343b3573e2bc",
        "colab": {
          "base_uri": "https://localhost:8080/",
          "height": 34
        }
      },
      "source": [
        "df['price'].isnull().sum()"
      ],
      "execution_count": 0,
      "outputs": [
        {
          "output_type": "execute_result",
          "data": {
            "text/plain": [
              "465532"
            ]
          },
          "metadata": {
            "tags": []
          },
          "execution_count": 6
        }
      ]
    },
    {
      "cell_type": "code",
      "metadata": {
        "id": "Tnm2EXLlw_PF",
        "colab_type": "code",
        "colab": {}
      },
      "source": [
        "df['price'] = df['price'].str.replace('$', '')\n",
        "df['price'] = df['price'].str.replace(',', '')"
      ],
      "execution_count": 0,
      "outputs": []
    },
    {
      "cell_type": "code",
      "metadata": {
        "id": "Fqpv1Ns40X-u",
        "colab_type": "code",
        "colab": {}
      },
      "source": [
        "df = df[~df['price'].str.contains('-', na = False)]"
      ],
      "execution_count": 0,
      "outputs": []
    },
    {
      "cell_type": "code",
      "metadata": {
        "id": "1TB2gUXBxhCV",
        "colab_type": "code",
        "colab": {}
      },
      "source": [
        "df['price'] = pd.to_numeric(df['price'])"
      ],
      "execution_count": 0,
      "outputs": []
    },
    {
      "cell_type": "code",
      "metadata": {
        "id": "biJanBkSzz29",
        "colab_type": "code",
        "colab": {}
      },
      "source": [
        "df['price'].dropna(inplace = True)"
      ],
      "execution_count": 0,
      "outputs": []
    },
    {
      "cell_type": "code",
      "metadata": {
        "id": "NpcGk50GzOXN",
        "colab_type": "code",
        "colab": {}
      },
      "source": [
        "df.dropna(subset = ['price'],inplace = True)"
      ],
      "execution_count": 0,
      "outputs": []
    },
    {
      "cell_type": "code",
      "metadata": {
        "id": "-HwLn2v72CRM",
        "colab_type": "code",
        "colab": {}
      },
      "source": [
        "df = df[df['price']> 250]"
      ],
      "execution_count": 0,
      "outputs": []
    },
    {
      "cell_type": "code",
      "metadata": {
        "id": "p2CPPCpI41v0",
        "colab_type": "code",
        "colab": {}
      },
      "source": [
        "df = df[df['main_cat'] == 'Cell Phones & Accessories']"
      ],
      "execution_count": 0,
      "outputs": []
    },
    {
      "cell_type": "code",
      "metadata": {
        "id": "yEVWkFxM5DlG",
        "colab_type": "code",
        "colab": {}
      },
      "source": [
        "brand = pd.DataFrame(df['brand'].unique())"
      ],
      "execution_count": 0,
      "outputs": []
    },
    {
      "cell_type": "code",
      "metadata": {
        "id": "jl4yM0R3507O",
        "colab_type": "code",
        "colab": {}
      },
      "source": [
        "df2 = df.groupby('brand')['asin'].nunique()"
      ],
      "execution_count": 0,
      "outputs": []
    },
    {
      "cell_type": "code",
      "metadata": {
        "id": "PR6cLvpJ6__f",
        "colab_type": "code",
        "colab": {}
      },
      "source": [
        "df2 = pd.DataFrame(df2)"
      ],
      "execution_count": 0,
      "outputs": []
    },
    {
      "cell_type": "code",
      "metadata": {
        "id": "9vScuUZn7HAy",
        "colab_type": "code",
        "outputId": "fb95f4ce-de75-4a7c-d510-ba14cd5054d4",
        "colab": {
          "base_uri": "https://localhost:8080/",
          "height": 402
        }
      },
      "source": [
        "df2 = df2.reset_index()\n",
        "df2"
      ],
      "execution_count": 0,
      "outputs": [
        {
          "output_type": "execute_result",
          "data": {
            "text/html": [
              "<div>\n",
              "<style scoped>\n",
              "    .dataframe tbody tr th:only-of-type {\n",
              "        vertical-align: middle;\n",
              "    }\n",
              "\n",
              "    .dataframe tbody tr th {\n",
              "        vertical-align: top;\n",
              "    }\n",
              "\n",
              "    .dataframe thead th {\n",
              "        text-align: right;\n",
              "    }\n",
              "</style>\n",
              "<table border=\"1\" class=\"dataframe\">\n",
              "  <thead>\n",
              "    <tr style=\"text-align: right;\">\n",
              "      <th></th>\n",
              "      <th>brand</th>\n",
              "      <th>asin</th>\n",
              "    </tr>\n",
              "  </thead>\n",
              "  <tbody>\n",
              "    <tr>\n",
              "      <th>0</th>\n",
              "      <td>1byone</td>\n",
              "      <td>1</td>\n",
              "    </tr>\n",
              "    <tr>\n",
              "      <th>1</th>\n",
              "      <td>ACCBTECH</td>\n",
              "      <td>1</td>\n",
              "    </tr>\n",
              "    <tr>\n",
              "      <th>2</th>\n",
              "      <td>ACK Avionics</td>\n",
              "      <td>1</td>\n",
              "    </tr>\n",
              "    <tr>\n",
              "      <th>3</th>\n",
              "      <td>ALTEAM</td>\n",
              "      <td>1</td>\n",
              "    </tr>\n",
              "    <tr>\n",
              "      <th>4</th>\n",
              "      <td>ASUS</td>\n",
              "      <td>1</td>\n",
              "    </tr>\n",
              "    <tr>\n",
              "      <th>...</th>\n",
              "      <td>...</td>\n",
              "      <td>...</td>\n",
              "    </tr>\n",
              "    <tr>\n",
              "      <th>123</th>\n",
              "      <td>redhoney</td>\n",
              "      <td>1</td>\n",
              "    </tr>\n",
              "    <tr>\n",
              "      <th>124</th>\n",
              "      <td>sneba</td>\n",
              "      <td>1</td>\n",
              "    </tr>\n",
              "    <tr>\n",
              "      <th>125</th>\n",
              "      <td>verykool</td>\n",
              "      <td>1</td>\n",
              "    </tr>\n",
              "    <tr>\n",
              "      <th>126</th>\n",
              "      <td>weBoost</td>\n",
              "      <td>1</td>\n",
              "    </tr>\n",
              "    <tr>\n",
              "      <th>127</th>\n",
              "      <td>wekin</td>\n",
              "      <td>1</td>\n",
              "    </tr>\n",
              "  </tbody>\n",
              "</table>\n",
              "<p>128 rows × 2 columns</p>\n",
              "</div>"
            ],
            "text/plain": [
              "            brand  asin\n",
              "0          1byone     1\n",
              "1        ACCBTECH     1\n",
              "2    ACK Avionics     1\n",
              "3          ALTEAM     1\n",
              "4            ASUS     1\n",
              "..            ...   ...\n",
              "123      redhoney     1\n",
              "124         sneba     1\n",
              "125      verykool     1\n",
              "126       weBoost     1\n",
              "127         wekin     1\n",
              "\n",
              "[128 rows x 2 columns]"
            ]
          },
          "metadata": {
            "tags": []
          },
          "execution_count": 17
        }
      ]
    },
    {
      "cell_type": "code",
      "metadata": {
        "id": "6UvjLTfg7x-L",
        "colab_type": "code",
        "colab": {}
      },
      "source": [
        "df2.sort_values(by=['asin'],ascending = False,inplace=True)"
      ],
      "execution_count": 0,
      "outputs": []
    },
    {
      "cell_type": "code",
      "metadata": {
        "id": "qtqERJ1i8UHL",
        "colab_type": "code",
        "outputId": "303850f3-ad12-4aa5-9d4e-e8c8e9cb2d81",
        "colab": {
          "base_uri": "https://localhost:8080/",
          "height": 639
        }
      },
      "source": [
        "df2.head(20)"
      ],
      "execution_count": 0,
      "outputs": [
        {
          "output_type": "execute_result",
          "data": {
            "text/html": [
              "<div>\n",
              "<style scoped>\n",
              "    .dataframe tbody tr th:only-of-type {\n",
              "        vertical-align: middle;\n",
              "    }\n",
              "\n",
              "    .dataframe tbody tr th {\n",
              "        vertical-align: top;\n",
              "    }\n",
              "\n",
              "    .dataframe thead th {\n",
              "        text-align: right;\n",
              "    }\n",
              "</style>\n",
              "<table border=\"1\" class=\"dataframe\">\n",
              "  <thead>\n",
              "    <tr style=\"text-align: right;\">\n",
              "      <th></th>\n",
              "      <th>brand</th>\n",
              "      <th>asin</th>\n",
              "    </tr>\n",
              "  </thead>\n",
              "  <tbody>\n",
              "    <tr>\n",
              "      <th>80</th>\n",
              "      <td>Samsung</td>\n",
              "      <td>51</td>\n",
              "    </tr>\n",
              "    <tr>\n",
              "      <th>91</th>\n",
              "      <td>Sony</td>\n",
              "      <td>9</td>\n",
              "    </tr>\n",
              "    <tr>\n",
              "      <th>10</th>\n",
              "      <td>BlackBerry</td>\n",
              "      <td>9</td>\n",
              "    </tr>\n",
              "    <tr>\n",
              "      <th>28</th>\n",
              "      <td>Garmin</td>\n",
              "      <td>9</td>\n",
              "    </tr>\n",
              "    <tr>\n",
              "      <th>63</th>\n",
              "      <td>Nokia</td>\n",
              "      <td>9</td>\n",
              "    </tr>\n",
              "    <tr>\n",
              "      <th>51</th>\n",
              "      <td>LG</td>\n",
              "      <td>8</td>\n",
              "    </tr>\n",
              "    <tr>\n",
              "      <th>31</th>\n",
              "      <td>HTC</td>\n",
              "      <td>8</td>\n",
              "    </tr>\n",
              "    <tr>\n",
              "      <th>33</th>\n",
              "      <td>Huawei</td>\n",
              "      <td>7</td>\n",
              "    </tr>\n",
              "    <tr>\n",
              "      <th>89</th>\n",
              "      <td>Sliiq</td>\n",
              "      <td>7</td>\n",
              "    </tr>\n",
              "    <tr>\n",
              "      <th>7</th>\n",
              "      <td>Apple</td>\n",
              "      <td>6</td>\n",
              "    </tr>\n",
              "    <tr>\n",
              "      <th>19</th>\n",
              "      <td>ChefzBest</td>\n",
              "      <td>5</td>\n",
              "    </tr>\n",
              "    <tr>\n",
              "      <th>18</th>\n",
              "      <td>ChargeTech</td>\n",
              "      <td>4</td>\n",
              "    </tr>\n",
              "    <tr>\n",
              "      <th>48</th>\n",
              "      <td>KineticWave</td>\n",
              "      <td>4</td>\n",
              "    </tr>\n",
              "    <tr>\n",
              "      <th>103</th>\n",
              "      <td>Uniden</td>\n",
              "      <td>3</td>\n",
              "    </tr>\n",
              "    <tr>\n",
              "      <th>46</th>\n",
              "      <td>KejstutCorp</td>\n",
              "      <td>3</td>\n",
              "    </tr>\n",
              "    <tr>\n",
              "      <th>115</th>\n",
              "      <td>ZUCA</td>\n",
              "      <td>3</td>\n",
              "    </tr>\n",
              "    <tr>\n",
              "      <th>83</th>\n",
              "      <td>SatPhoneStore</td>\n",
              "      <td>3</td>\n",
              "    </tr>\n",
              "    <tr>\n",
              "      <th>11</th>\n",
              "      <td>BlueCosmo</td>\n",
              "      <td>3</td>\n",
              "    </tr>\n",
              "    <tr>\n",
              "      <th>68</th>\n",
              "      <td>Pavlysh</td>\n",
              "      <td>3</td>\n",
              "    </tr>\n",
              "    <tr>\n",
              "      <th>5</th>\n",
              "      <td>AUKEY</td>\n",
              "      <td>3</td>\n",
              "    </tr>\n",
              "  </tbody>\n",
              "</table>\n",
              "</div>"
            ],
            "text/plain": [
              "             brand  asin\n",
              "80         Samsung    51\n",
              "91            Sony     9\n",
              "10      BlackBerry     9\n",
              "28          Garmin     9\n",
              "63           Nokia     9\n",
              "51              LG     8\n",
              "31             HTC     8\n",
              "33          Huawei     7\n",
              "89           Sliiq     7\n",
              "7            Apple     6\n",
              "19       ChefzBest     5\n",
              "18      ChargeTech     4\n",
              "48     KineticWave     4\n",
              "103         Uniden     3\n",
              "46     KejstutCorp     3\n",
              "115           ZUCA     3\n",
              "83   SatPhoneStore     3\n",
              "11       BlueCosmo     3\n",
              "68         Pavlysh     3\n",
              "5            AUKEY     3"
            ]
          },
          "metadata": {
            "tags": []
          },
          "execution_count": 19
        }
      ]
    },
    {
      "cell_type": "code",
      "metadata": {
        "id": "FSONSGwC-uht",
        "colab_type": "code",
        "colab": {}
      },
      "source": [
        "df = df[df['brand'].isin(['Samsung','Apple','Sony','BlackBerry','Nokia','LG','HTC','HUAWEI'])]"
      ],
      "execution_count": 0,
      "outputs": []
    },
    {
      "cell_type": "code",
      "metadata": {
        "id": "RWmV9QKxBXqd",
        "colab_type": "code",
        "outputId": "6ee5c0f7-7121-4f15-9ded-0220d0fbf4ea",
        "colab": {
          "base_uri": "https://localhost:8080/",
          "height": 1000
        }
      },
      "source": [
        "df"
      ],
      "execution_count": 0,
      "outputs": [
        {
          "output_type": "execute_result",
          "data": {
            "text/html": [
              "<div>\n",
              "<style scoped>\n",
              "    .dataframe tbody tr th:only-of-type {\n",
              "        vertical-align: middle;\n",
              "    }\n",
              "\n",
              "    .dataframe tbody tr th {\n",
              "        vertical-align: top;\n",
              "    }\n",
              "\n",
              "    .dataframe thead th {\n",
              "        text-align: right;\n",
              "    }\n",
              "</style>\n",
              "<table border=\"1\" class=\"dataframe\">\n",
              "  <thead>\n",
              "    <tr style=\"text-align: right;\">\n",
              "      <th></th>\n",
              "      <th>category</th>\n",
              "      <th>description</th>\n",
              "      <th>title</th>\n",
              "      <th>image</th>\n",
              "      <th>brand</th>\n",
              "      <th>feature</th>\n",
              "      <th>rank</th>\n",
              "      <th>main_cat</th>\n",
              "      <th>asin</th>\n",
              "      <th>also_buy</th>\n",
              "      <th>also_view</th>\n",
              "      <th>similar_item</th>\n",
              "      <th>price</th>\n",
              "      <th>date</th>\n",
              "      <th>details</th>\n",
              "      <th>tech1</th>\n",
              "      <th>tech2</th>\n",
              "      <th>fit</th>\n",
              "    </tr>\n",
              "  </thead>\n",
              "  <tbody>\n",
              "    <tr>\n",
              "      <th>6631</th>\n",
              "      <td>[Cell Phones &amp; Accessories, Cell Phones, Unloc...</td>\n",
              "      <td>[The Nokia E90 Communicator features 3G, HSDPA...</td>\n",
              "      <td>Nokia E90 Communicator Unlocked Phone with 3.2...</td>\n",
              "      <td>[https://images-na.ssl-images-amazon.com/image...</td>\n",
              "      <td>Nokia</td>\n",
              "      <td>[This unlocked cell phone is compatible with G...</td>\n",
              "      <td>&gt;#588,459 in Cell Phones &amp; Accessories (See To...</td>\n",
              "      <td>Cell Phones &amp; Accessories</td>\n",
              "      <td>B000PH9NNS</td>\n",
              "      <td>NaN</td>\n",
              "      <td>[B075FL4H89, B000PEOLAG, B00851Q9L0, B002X3I8P...</td>\n",
              "      <td>[{'asin': '', 'href': '', 'name': 'Nokia E90 C...</td>\n",
              "      <td>404.47</td>\n",
              "      <td>NaN</td>\n",
              "      <td>NaN</td>\n",
              "      <td>NaN</td>\n",
              "      <td>NaN</td>\n",
              "      <td>NaN</td>\n",
              "    </tr>\n",
              "    <tr>\n",
              "      <th>66650</th>\n",
              "      <td>[Cell Phones &amp; Accessories, Cell Phones, Carri...</td>\n",
              "      <td>[The Samsung Galaxy S II 4G is an entertainmen...</td>\n",
              "      <td>Samsung Galaxy S II, Titanium 16GB (T-Mobile)</td>\n",
              "      <td>[https://images-na.ssl-images-amazon.com/image...</td>\n",
              "      <td>Samsung</td>\n",
              "      <td>[Display: 4.5-inches, Weight: 4.5 ounces, Proc...</td>\n",
              "      <td>&gt;#1,089,008 in Cell Phones &amp; Accessories (See ...</td>\n",
              "      <td>Cell Phones &amp; Accessories</td>\n",
              "      <td>B005SY5AF8</td>\n",
              "      <td>NaN</td>\n",
              "      <td>[B01M4HGVJ7]</td>\n",
              "      <td>NaN</td>\n",
              "      <td>299.99</td>\n",
              "      <td>NaN</td>\n",
              "      <td>NaN</td>\n",
              "      <td>NaN</td>\n",
              "      <td>NaN</td>\n",
              "      <td>NaN</td>\n",
              "    </tr>\n",
              "    <tr>\n",
              "      <th>70986</th>\n",
              "      <td>[Cell Phones &amp; Accessories, Cell Phones, Unloc...</td>\n",
              "      <td>[*4G LTE models may require LTE sim card, whic...</td>\n",
              "      <td>Sprint BLACKBERRY STYLE 9670 STEEL GREY Smartp...</td>\n",
              "      <td>[https://images-na.ssl-images-amazon.com/image...</td>\n",
              "      <td>BlackBerry</td>\n",
              "      <td>[FULL QWERTY, CAMERA, WEB BROWSING, MUSIC &amp; VI...</td>\n",
              "      <td>&gt;#1,042,713 in Cell Phones &amp; Accessories (See ...</td>\n",
              "      <td>Cell Phones &amp; Accessories</td>\n",
              "      <td>B0061G7XFC</td>\n",
              "      <td>[B0057GL15K]</td>\n",
              "      <td>[B0029ZA2W0, B0057GL15K, B07BB3TB52, B01CDJ7I5...</td>\n",
              "      <td>[{'asin': '', 'href': '', 'name': 'Sprint BLAC...</td>\n",
              "      <td>299.99</td>\n",
              "      <td>NaN</td>\n",
              "      <td>NaN</td>\n",
              "      <td>NaN</td>\n",
              "      <td>NaN</td>\n",
              "      <td>NaN</td>\n",
              "    </tr>\n",
              "    <tr>\n",
              "      <th>71135</th>\n",
              "      <td>[Cell Phones &amp; Accessories, Cell Phones, Carri...</td>\n",
              "      <td>[Samsung Galaxy Nexus SCH-i515 - 32GB - Gray (...</td>\n",
              "      <td>Samsung Galaxy Nexus 4G Android Phone (Verizon...</td>\n",
              "      <td>[https://images-na.ssl-images-amazon.com/image...</td>\n",
              "      <td>Samsung</td>\n",
              "      <td>[4G LTE-enabled smartphone with Android Ice Cr...</td>\n",
              "      <td>&gt;#359,889 in Cell Phones &amp; Accessories (See To...</td>\n",
              "      <td>Cell Phones &amp; Accessories</td>\n",
              "      <td>B0061R2A1S</td>\n",
              "      <td>NaN</td>\n",
              "      <td>[B007Q4Z1NE, B006GHX5ZS, B00C6OYZRM, B078SPG6C...</td>\n",
              "      <td>NaN</td>\n",
              "      <td>299.99</td>\n",
              "      <td>NaN</td>\n",
              "      <td>NaN</td>\n",
              "      <td>NaN</td>\n",
              "      <td>NaN</td>\n",
              "      <td>NaN</td>\n",
              "    </tr>\n",
              "    <tr>\n",
              "      <th>79824</th>\n",
              "      <td>[Cell Phones &amp; Accessories, Cell Phones, Unloc...</td>\n",
              "      <td>[PRODUCT : BLACKBERRY PORSCHE DESIGN P'9981 AR...</td>\n",
              "      <td>BlackBerry PRD-42113-004 Unlocked Porsche Desi...</td>\n",
              "      <td>[https://images-na.ssl-images-amazon.com/image...</td>\n",
              "      <td>BlackBerry</td>\n",
              "      <td>NaN</td>\n",
              "      <td>&gt;#871,406 in Cell Phones &amp; Accessories (See To...</td>\n",
              "      <td>Cell Phones &amp; Accessories</td>\n",
              "      <td>B006R0Z1EC</td>\n",
              "      <td>NaN</td>\n",
              "      <td>[B00NSRC4Y2, B06ZYGDY4P, B00NWOHGH6, B073ZLLVQ...</td>\n",
              "      <td>[{'asin': '', 'href': '', 'name': 'BlackBerry ...</td>\n",
              "      <td>490.00</td>\n",
              "      <td>NaN</td>\n",
              "      <td>NaN</td>\n",
              "      <td>NaN</td>\n",
              "      <td>NaN</td>\n",
              "      <td>NaN</td>\n",
              "    </tr>\n",
              "    <tr>\n",
              "      <th>...</th>\n",
              "      <td>...</td>\n",
              "      <td>...</td>\n",
              "      <td>...</td>\n",
              "      <td>...</td>\n",
              "      <td>...</td>\n",
              "      <td>...</td>\n",
              "      <td>...</td>\n",
              "      <td>...</td>\n",
              "      <td>...</td>\n",
              "      <td>...</td>\n",
              "      <td>...</td>\n",
              "      <td>...</td>\n",
              "      <td>...</td>\n",
              "      <td>...</td>\n",
              "      <td>...</td>\n",
              "      <td>...</td>\n",
              "      <td>...</td>\n",
              "      <td>...</td>\n",
              "    </tr>\n",
              "    <tr>\n",
              "      <th>547317</th>\n",
              "      <td>[Cell Phones &amp; Accessories, Cell Phones, Carri...</td>\n",
              "      <td>[Samsung Galaxy S7 Edge \"Gold Platinum\" 32GB f...</td>\n",
              "      <td>Straight Talk Samsung Galaxy S7 Edge \"Gold Pla...</td>\n",
              "      <td>[https://images-na.ssl-images-amazon.com/image...</td>\n",
              "      <td>Samsung</td>\n",
              "      <td>[Samsung Galaxy S7 Edge 32GB \"Gold Platinum \" ...</td>\n",
              "      <td>&gt;#438,004 in Cell Phones &amp; Accessories (See To...</td>\n",
              "      <td>Cell Phones &amp; Accessories</td>\n",
              "      <td>B01DK26DKU</td>\n",
              "      <td>[B00TRQCOOI, B01D936U8A, B01CDMIE14, B01ACXSKA...</td>\n",
              "      <td>NaN</td>\n",
              "      <td>NaN</td>\n",
              "      <td>399.95</td>\n",
              "      <td>NaN</td>\n",
              "      <td>NaN</td>\n",
              "      <td>NaN</td>\n",
              "      <td>NaN</td>\n",
              "      <td>NaN</td>\n",
              "    </tr>\n",
              "    <tr>\n",
              "      <th>555250</th>\n",
              "      <td>[Cell Phones &amp; Accessories, Cell Phones, Carri...</td>\n",
              "      <td>NaN</td>\n",
              "      <td>Straight Talk Samsung Galaxy S4. Use Verizon T...</td>\n",
              "      <td>NaN</td>\n",
              "      <td>Samsung</td>\n",
              "      <td>[Samsung Galaxy S4., Use Verizon Towers., Use ...</td>\n",
              "      <td>&gt;#1,625,026 in Cell Phones &amp; Accessories (See ...</td>\n",
              "      <td>Cell Phones &amp; Accessories</td>\n",
              "      <td>B01E6O625W</td>\n",
              "      <td>NaN</td>\n",
              "      <td>NaN</td>\n",
              "      <td>NaN</td>\n",
              "      <td>399.99</td>\n",
              "      <td>NaN</td>\n",
              "      <td>NaN</td>\n",
              "      <td>NaN</td>\n",
              "      <td>NaN</td>\n",
              "      <td>NaN</td>\n",
              "    </tr>\n",
              "    <tr>\n",
              "      <th>558082</th>\n",
              "      <td>[Cell Phones &amp; Accessories, Cell Phones, Unloc...</td>\n",
              "      <td>[The PRIV combines everything youve come to ex...</td>\n",
              "      <td>BlackBerry STV100-1 Unlocked GSM Quad-Core Sma...</td>\n",
              "      <td>[https://images-na.ssl-images-amazon.com/image...</td>\n",
              "      <td>BlackBerry</td>\n",
              "      <td>[Powered by Android(TM) OS, with full access t...</td>\n",
              "      <td>&gt;#417,982 in Cell Phones &amp; Accessories (See To...</td>\n",
              "      <td>Cell Phones &amp; Accessories</td>\n",
              "      <td>B01EGBHA5Q</td>\n",
              "      <td>[B019W8FGAY, B016E1EG0I, B016E1EC70, B0758KRS3...</td>\n",
              "      <td>NaN</td>\n",
              "      <td>[{'asin': '', 'href': '', 'name': 'BlackBerry ...</td>\n",
              "      <td>449.99</td>\n",
              "      <td>NaN</td>\n",
              "      <td>NaN</td>\n",
              "      <td>NaN</td>\n",
              "      <td>NaN</td>\n",
              "      <td>NaN</td>\n",
              "    </tr>\n",
              "    <tr>\n",
              "      <th>569573</th>\n",
              "      <td>[Cell Phones &amp; Accessories, Cell Phones, Carri...</td>\n",
              "      <td>[The PRIV BlackBerry 32GB Smartphone in black ...</td>\n",
              "      <td>BlackBerry Priv, Black 32GB (AT&amp;T)</td>\n",
              "      <td>[https://images-na.ssl-images-amazon.com/image...</td>\n",
              "      <td>BlackBerry</td>\n",
              "      <td>[Classic Physical QWERTY keyboard, Optical tra...</td>\n",
              "      <td>&gt;#127,970 in Cell Phones &amp; Accessories (See To...</td>\n",
              "      <td>Cell Phones &amp; Accessories</td>\n",
              "      <td>B01FIRN3US</td>\n",
              "      <td>[B019W8FGAY, B01EY33IRA, B016E1EG0I, B01B6N3YS...</td>\n",
              "      <td>NaN</td>\n",
              "      <td>[{'asin': '', 'href': '', 'name': 'BlackBerry ...</td>\n",
              "      <td>438.88</td>\n",
              "      <td>NaN</td>\n",
              "      <td>NaN</td>\n",
              "      <td>NaN</td>\n",
              "      <td>NaN</td>\n",
              "      <td>NaN</td>\n",
              "    </tr>\n",
              "    <tr>\n",
              "      <th>588795</th>\n",
              "      <td>[Cell Phones &amp; Accessories, Cell Phones, Carri...</td>\n",
              "      <td>[The worlds first dual-edge display was born f...</td>\n",
              "      <td>Samsung Galaxy S6 Edge Plus G928V 32GB Verizon...</td>\n",
              "      <td>[https://images-na.ssl-images-amazon.com/image...</td>\n",
              "      <td>Samsung</td>\n",
              "      <td>[5.7\" Super AMOLED capacitive Multi-touchscree...</td>\n",
              "      <td>&gt;#372,023 in Cell Phones &amp; Accessories (See To...</td>\n",
              "      <td>Cell Phones &amp; Accessories</td>\n",
              "      <td>B01HDJYD5S</td>\n",
              "      <td>[B00Z7SAX16, B013VRT0JU, B01CCTGPZK]</td>\n",
              "      <td>[B01DJS0KPY, B0172HEW2U, B01EVTRFJY, B01D1Q2HR...</td>\n",
              "      <td>[{'asin': '', 'href': '', 'name': 'Samsung Gal...</td>\n",
              "      <td>349.99</td>\n",
              "      <td>NaN</td>\n",
              "      <td>NaN</td>\n",
              "      <td>NaN</td>\n",
              "      <td>NaN</td>\n",
              "      <td>NaN</td>\n",
              "    </tr>\n",
              "  </tbody>\n",
              "</table>\n",
              "<p>100 rows × 18 columns</p>\n",
              "</div>"
            ],
            "text/plain": [
              "                                                 category  ...  fit\n",
              "6631    [Cell Phones & Accessories, Cell Phones, Unloc...  ...  NaN\n",
              "66650   [Cell Phones & Accessories, Cell Phones, Carri...  ...  NaN\n",
              "70986   [Cell Phones & Accessories, Cell Phones, Unloc...  ...  NaN\n",
              "71135   [Cell Phones & Accessories, Cell Phones, Carri...  ...  NaN\n",
              "79824   [Cell Phones & Accessories, Cell Phones, Unloc...  ...  NaN\n",
              "...                                                   ...  ...  ...\n",
              "547317  [Cell Phones & Accessories, Cell Phones, Carri...  ...  NaN\n",
              "555250  [Cell Phones & Accessories, Cell Phones, Carri...  ...  NaN\n",
              "558082  [Cell Phones & Accessories, Cell Phones, Unloc...  ...  NaN\n",
              "569573  [Cell Phones & Accessories, Cell Phones, Carri...  ...  NaN\n",
              "588795  [Cell Phones & Accessories, Cell Phones, Carri...  ...  NaN\n",
              "\n",
              "[100 rows x 18 columns]"
            ]
          },
          "metadata": {
            "tags": []
          },
          "execution_count": 21
        }
      ]
    },
    {
      "cell_type": "markdown",
      "metadata": {
        "id": "miTxGXsXBXHD",
        "colab_type": "text"
      },
      "source": [
        ""
      ]
    },
    {
      "cell_type": "code",
      "metadata": {
        "id": "dzDwVYlpB-50",
        "colab_type": "code",
        "colab": {}
      },
      "source": [
        "df.to_csv('gg.csv')"
      ],
      "execution_count": 0,
      "outputs": []
    },
    {
      "cell_type": "code",
      "metadata": {
        "id": "97aH-AZTMu_Z",
        "colab_type": "code",
        "colab": {}
      },
      "source": [
        "from google.colab import files\n",
        "files.download('gg.csv')"
      ],
      "execution_count": 0,
      "outputs": []
    },
    {
      "cell_type": "code",
      "metadata": {
        "id": "XxRGtTekOsTV",
        "colab_type": "code",
        "outputId": "cfb2b89f-d4db-4263-e470-78f6c4f347ac",
        "colab": {
          "base_uri": "https://localhost:8080/",
          "height": 47
        }
      },
      "source": [
        "df[df['asin']=='B01HJFFEFO']"
      ],
      "execution_count": 0,
      "outputs": [
        {
          "output_type": "execute_result",
          "data": {
            "text/html": [
              "<div>\n",
              "<style scoped>\n",
              "    .dataframe tbody tr th:only-of-type {\n",
              "        vertical-align: middle;\n",
              "    }\n",
              "\n",
              "    .dataframe tbody tr th {\n",
              "        vertical-align: top;\n",
              "    }\n",
              "\n",
              "    .dataframe thead th {\n",
              "        text-align: right;\n",
              "    }\n",
              "</style>\n",
              "<table border=\"1\" class=\"dataframe\">\n",
              "  <thead>\n",
              "    <tr style=\"text-align: right;\">\n",
              "      <th></th>\n",
              "      <th>category</th>\n",
              "      <th>description</th>\n",
              "      <th>title</th>\n",
              "      <th>image</th>\n",
              "      <th>brand</th>\n",
              "      <th>feature</th>\n",
              "      <th>rank</th>\n",
              "      <th>main_cat</th>\n",
              "      <th>asin</th>\n",
              "      <th>also_buy</th>\n",
              "      <th>also_view</th>\n",
              "      <th>similar_item</th>\n",
              "      <th>price</th>\n",
              "      <th>date</th>\n",
              "      <th>details</th>\n",
              "      <th>tech1</th>\n",
              "      <th>tech2</th>\n",
              "      <th>fit</th>\n",
              "    </tr>\n",
              "  </thead>\n",
              "  <tbody>\n",
              "  </tbody>\n",
              "</table>\n",
              "</div>"
            ],
            "text/plain": [
              "Empty DataFrame\n",
              "Columns: [category, description, title, image, brand, feature, rank, main_cat, asin, also_buy, also_view, similar_item, price, date, details, tech1, tech2, fit]\n",
              "Index: []"
            ]
          },
          "metadata": {
            "tags": []
          },
          "execution_count": 26
        }
      ]
    }
  ]
}